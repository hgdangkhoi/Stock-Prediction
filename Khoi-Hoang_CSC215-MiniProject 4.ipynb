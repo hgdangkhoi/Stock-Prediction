{
 "cells": [
  {
   "cell_type": "markdown",
   "metadata": {},
   "source": [
    "# CSC 215 - MiniProject 4\n",
    "## Khoi Hoang"
   ]
  },
  {
   "cell_type": "code",
   "execution_count": 1,
   "metadata": {},
   "outputs": [],
   "source": [
    "import os\n",
    "import csv\n",
    "import json\n",
    "import numpy as np\n",
    "import pandas as pd\n",
    "import matplotlib.pyplot as plt\n",
    "import collections\n",
    "import sklearn.feature_extraction.text as sk_text\n",
    "import scipy as sp\n",
    "import math\n",
    "from scipy.stats import zscore\n",
    "from sklearn import preprocessing\n",
    "from sklearn.model_selection import train_test_split\n",
    "from sklearn import metrics\n",
    "from sklearn.metrics import roc_curve, auc\n",
    "from sklearn import svm, datasets\n",
    "from sklearn.metrics import confusion_matrix, classification_report\n",
    "from matplotlib.pyplot import figure, show\n",
    "from IPython.display import Markdown, display\n",
    "from sklearn import metrics\n",
    "\n",
    "%matplotlib inline"
   ]
  },
  {
   "cell_type": "code",
   "execution_count": 2,
   "metadata": {},
   "outputs": [],
   "source": [
    "# Encode text values to dummy variables(i.e. [1,0,0],[0,1,0],[0,0,1] for red,green,blue)\n",
    "def encode_text_dummy(df, name):\n",
    "    dummies = pd.get_dummies(df[name])\n",
    "    for x in dummies.columns:\n",
    "        dummy_name = \"{}-{}\".format(name, x)\n",
    "        df[dummy_name] = dummies[x]\n",
    "    df.drop(name, axis=1, inplace=True)\n",
    "\n",
    "# Encode text values to indexes(i.e. [1],[2],[3] for red,green,blue).\n",
    "def encode_text_index(df, name):\n",
    "    le = preprocessing.LabelEncoder()\n",
    "    df[name] = le.fit_transform(df[name])\n",
    "    return le.classes_\n",
    "\n",
    "# Encode a numeric column as zscores\n",
    "def encode_numeric_zscore(df, name, mean=None, sd=None):\n",
    "    if mean is None:\n",
    "        mean = df[name].mean()\n",
    "\n",
    "    if sd is None:\n",
    "        sd = df[name].std()\n",
    "\n",
    "    df[name] = (df[name] - mean) / sd\n",
    "    \n",
    "# Convert all missing values in the specified column to the median\n",
    "def missing_median(df, name):\n",
    "    med = df[name].median()\n",
    "    df[name] = df[name].fillna(med)    \n",
    "\n",
    "# Regression chart.\n",
    "def chart_regression(pred,y,sort=True):\n",
    "    t = pd.DataFrame({'pred' : pred, 'y' : y.flatten()})\n",
    "    if sort:\n",
    "        t.sort_values(by=['y'],inplace=True)\n",
    "    a = plt.plot(t['y'].tolist(),label='expected')\n",
    "    b = plt.plot(t['pred'].tolist(),label='prediction')\n",
    "    plt.ylabel('output')\n",
    "    plt.legend()\n",
    "    plt.show()    \n",
    "    \n",
    "# Convert a Pandas dataframe to the x,y inputs that TensorFlow needs\n",
    "def to_xy(df, target):\n",
    "    result = []\n",
    "    for x in df.columns:\n",
    "        if x != target:\n",
    "            result.append(x)\n",
    "    # find out the type of the target column. \n",
    "    target_type = df[target].dtypes\n",
    "    target_type = target_type[0] if isinstance(target_type, collections.Sequence) else target_type\n",
    "    # Encode to int for classification, float otherwise. TensorFlow likes 32 bits.\n",
    "    if target_type in (np.int64, np.int32):\n",
    "        # Classification\n",
    "        dummies = pd.get_dummies(df[target])\n",
    "        return df[result].values.astype(np.float32), dummies.values.astype(np.float32)\n",
    "    else:\n",
    "        # Regression\n",
    "        return df[result].values.astype(np.float32), df[target].values.astype(np.float32)\n",
    "    \n",
    "# Print markdown style\n",
    "def printmd(string):\n",
    "    display(Markdown(string))\n",
    "    \n",
    "def to_sequences(seq_size, data, target):\n",
    "    x = []\n",
    "    y = []\n",
    "\n",
    "    for i in range(len(data)-SEQUENCE_SIZE-1):\n",
    "        window = data[i:(i+SEQUENCE_SIZE)]\n",
    "        after_window = data.iloc[(i+SEQUENCE_SIZE)]\n",
    "        window = window.values.tolist()\n",
    "        x.append(window)\n",
    "        y.append(after_window[target])\n",
    "        \n",
    "    return np.array(x),np.array(y)"
   ]
  },
  {
   "cell_type": "markdown",
   "metadata": {},
   "source": [
    "# Data Preprocessing"
   ]
  },
  {
   "cell_type": "code",
   "execution_count": 3,
   "metadata": {},
   "outputs": [],
   "source": [
    "df = pd.read_csv('CSC215_Project4_Stock_Price.csv')"
   ]
  },
  {
   "cell_type": "code",
   "execution_count": 4,
   "metadata": {},
   "outputs": [
    {
     "data": {
      "text/html": [
       "<div>\n",
       "<style scoped>\n",
       "    .dataframe tbody tr th:only-of-type {\n",
       "        vertical-align: middle;\n",
       "    }\n",
       "\n",
       "    .dataframe tbody tr th {\n",
       "        vertical-align: top;\n",
       "    }\n",
       "\n",
       "    .dataframe thead th {\n",
       "        text-align: right;\n",
       "    }\n",
       "</style>\n",
       "<table border=\"1\" class=\"dataframe\">\n",
       "  <thead>\n",
       "    <tr style=\"text-align: right;\">\n",
       "      <th></th>\n",
       "      <th>Open</th>\n",
       "      <th>High</th>\n",
       "      <th>Low</th>\n",
       "      <th>Close</th>\n",
       "      <th>Volume</th>\n",
       "    </tr>\n",
       "  </thead>\n",
       "  <tbody>\n",
       "    <tr>\n",
       "      <th>0</th>\n",
       "      <td>3.812500</td>\n",
       "      <td>4.156250</td>\n",
       "      <td>3.812500</td>\n",
       "      <td>4.125000</td>\n",
       "      <td>3675600</td>\n",
       "    </tr>\n",
       "    <tr>\n",
       "      <th>1</th>\n",
       "      <td>4.125000</td>\n",
       "      <td>4.125000</td>\n",
       "      <td>4.000000</td>\n",
       "      <td>4.015625</td>\n",
       "      <td>1077600</td>\n",
       "    </tr>\n",
       "    <tr>\n",
       "      <th>2</th>\n",
       "      <td>4.000000</td>\n",
       "      <td>4.031250</td>\n",
       "      <td>3.953125</td>\n",
       "      <td>4.000000</td>\n",
       "      <td>437200</td>\n",
       "    </tr>\n",
       "    <tr>\n",
       "      <th>3</th>\n",
       "      <td>4.000000</td>\n",
       "      <td>4.000000</td>\n",
       "      <td>3.843750</td>\n",
       "      <td>3.843750</td>\n",
       "      <td>1883600</td>\n",
       "    </tr>\n",
       "    <tr>\n",
       "      <th>4</th>\n",
       "      <td>3.734375</td>\n",
       "      <td>3.734375</td>\n",
       "      <td>3.390625</td>\n",
       "      <td>3.390625</td>\n",
       "      <td>7931600</td>\n",
       "    </tr>\n",
       "  </tbody>\n",
       "</table>\n",
       "</div>"
      ],
      "text/plain": [
       "       Open      High       Low     Close   Volume\n",
       "0  3.812500  4.156250  3.812500  4.125000  3675600\n",
       "1  4.125000  4.125000  4.000000  4.015625  1077600\n",
       "2  4.000000  4.031250  3.953125  4.000000   437200\n",
       "3  4.000000  4.000000  3.843750  3.843750  1883600\n",
       "4  3.734375  3.734375  3.390625  3.390625  7931600"
      ]
     },
     "execution_count": 4,
     "metadata": {},
     "output_type": "execute_result"
    }
   ],
   "source": [
    "df.drop(columns=['Adj_Close','Date'], inplace=True)\n",
    "df.head()"
   ]
  },
  {
   "cell_type": "code",
   "execution_count": 5,
   "metadata": {},
   "outputs": [],
   "source": [
    "# Rearrange the columns\n",
    "#df = df[['Open', 'High', 'Low', 'Volume', 'Close']]\n",
    "#df.head()"
   ]
  },
  {
   "cell_type": "code",
   "execution_count": 6,
   "metadata": {},
   "outputs": [
    {
     "data": {
      "text/plain": [
       "Open      False\n",
       "High      False\n",
       "Low       False\n",
       "Close     False\n",
       "Volume    False\n",
       "dtype: bool"
      ]
     },
     "execution_count": 6,
     "metadata": {},
     "output_type": "execute_result"
    }
   ],
   "source": [
    "df.isnull().any()"
   ]
  },
  {
   "cell_type": "code",
   "execution_count": 7,
   "metadata": {},
   "outputs": [
    {
     "name": "stdout",
     "output_type": "stream",
     "text": [
      "(4392, 5)\n"
     ]
    },
    {
     "data": {
      "text/html": [
       "<div>\n",
       "<style scoped>\n",
       "    .dataframe tbody tr th:only-of-type {\n",
       "        vertical-align: middle;\n",
       "    }\n",
       "\n",
       "    .dataframe tbody tr th {\n",
       "        vertical-align: top;\n",
       "    }\n",
       "\n",
       "    .dataframe thead th {\n",
       "        text-align: right;\n",
       "    }\n",
       "</style>\n",
       "<table border=\"1\" class=\"dataframe\">\n",
       "  <thead>\n",
       "    <tr style=\"text-align: right;\">\n",
       "      <th></th>\n",
       "      <th>Open</th>\n",
       "      <th>High</th>\n",
       "      <th>Low</th>\n",
       "      <th>Close</th>\n",
       "      <th>Volume</th>\n",
       "    </tr>\n",
       "  </thead>\n",
       "  <tbody>\n",
       "    <tr>\n",
       "      <th>4387</th>\n",
       "      <td>2.782154</td>\n",
       "      <td>2.754177</td>\n",
       "      <td>2.787407</td>\n",
       "      <td>113.309998</td>\n",
       "      <td>-0.575988</td>\n",
       "    </tr>\n",
       "    <tr>\n",
       "      <th>4388</th>\n",
       "      <td>2.739700</td>\n",
       "      <td>2.735310</td>\n",
       "      <td>2.732368</td>\n",
       "      <td>111.870003</td>\n",
       "      <td>-0.048610</td>\n",
       "    </tr>\n",
       "    <tr>\n",
       "      <th>4389</th>\n",
       "      <td>2.723320</td>\n",
       "      <td>2.700885</td>\n",
       "      <td>2.701641</td>\n",
       "      <td>112.230003</td>\n",
       "      <td>0.155816</td>\n",
       "    </tr>\n",
       "    <tr>\n",
       "      <th>4390</th>\n",
       "      <td>2.737694</td>\n",
       "      <td>2.714457</td>\n",
       "      <td>2.760732</td>\n",
       "      <td>112.339996</td>\n",
       "      <td>-0.390000</td>\n",
       "    </tr>\n",
       "    <tr>\n",
       "      <th>4391</th>\n",
       "      <td>2.732346</td>\n",
       "      <td>2.777017</td>\n",
       "      <td>2.761069</td>\n",
       "      <td>113.190002</td>\n",
       "      <td>-0.167936</td>\n",
       "    </tr>\n",
       "  </tbody>\n",
       "</table>\n",
       "</div>"
      ],
      "text/plain": [
       "          Open      High       Low       Close    Volume\n",
       "4387  2.782154  2.754177  2.787407  113.309998 -0.575988\n",
       "4388  2.739700  2.735310  2.732368  111.870003 -0.048610\n",
       "4389  2.723320  2.700885  2.701641  112.230003  0.155816\n",
       "4390  2.737694  2.714457  2.760732  112.339996 -0.390000\n",
       "4391  2.732346  2.777017  2.761069  113.190002 -0.167936"
      ]
     },
     "execution_count": 7,
     "metadata": {},
     "output_type": "execute_result"
    }
   ],
   "source": [
    "#df['Open'] = zscore(df['Open'])\n",
    "#df['High'] = zscore(df['High'])\n",
    "#df['Low'] = zscore(df['Low'])\n",
    "#df['Volume'] = zscore(df['Volume'])\n",
    "encode_numeric_zscore(df, 'Open')\n",
    "encode_numeric_zscore(df, 'High')\n",
    "encode_numeric_zscore(df, 'Low')\n",
    "encode_numeric_zscore(df, 'Volume')\n",
    "print(df.shape)\n",
    "df.tail()"
   ]
  },
  {
   "cell_type": "code",
   "execution_count": 8,
   "metadata": {},
   "outputs": [],
   "source": [
    "x, y = to_xy(df, 'Close')"
   ]
  },
  {
   "cell_type": "code",
   "execution_count": 9,
   "metadata": {},
   "outputs": [],
   "source": [
    "x_train = x[0:int(0.7*len(x))]\n",
    "x_test = x[int(0.7*len(x)):]\n",
    "y_train = y[0:int(0.7*len(y))]\n",
    "y_test = y[int(0.7*len(y)):]"
   ]
  },
  {
   "cell_type": "code",
   "execution_count": 10,
   "metadata": {},
   "outputs": [],
   "source": [
    "#x_train, x_test, y_train, y_test = train_test_split(x, y, test_size=0.3, random_state=43)"
   ]
  },
  {
   "cell_type": "code",
   "execution_count": 11,
   "metadata": {},
   "outputs": [
    {
     "data": {
      "text/plain": [
       "(1318, 4)"
      ]
     },
     "execution_count": 11,
     "metadata": {},
     "output_type": "execute_result"
    }
   ],
   "source": [
    "x_test.shape"
   ]
  },
  {
   "cell_type": "markdown",
   "metadata": {},
   "source": [
    "# Fully Connected Neural Network"
   ]
  },
  {
   "cell_type": "code",
   "execution_count": 49,
   "metadata": {},
   "outputs": [],
   "source": [
    "from keras.preprocessing import sequence\n",
    "from keras.models import Sequential\n",
    "from keras.layers import Dense, Activation, Dropout, Flatten\n",
    "from keras.layers import LSTM, Embedding, Bidirectional, Conv2D, MaxPooling2D\n",
    "from keras.callbacks import EarlyStopping\n",
    "from keras.callbacks import ModelCheckpoint\n",
    "from keras import optimizers\n",
    "from tensorflow import keras"
   ]
  },
  {
   "cell_type": "code",
   "execution_count": 13,
   "metadata": {},
   "outputs": [
    {
     "name": "stdout",
     "output_type": "stream",
     "text": [
      "Train on 3074 samples, validate on 1318 samples\n",
      "Epoch 1/500\n",
      " - 4s - loss: 213.6875 - acc: 6.5062e-04 - val_loss: 306.0283 - val_acc: 0.0000e+00\n",
      "Epoch 2/500\n",
      " - 0s - loss: 30.1766 - acc: 3.2531e-04 - val_loss: 382.4901 - val_acc: 7.5873e-04\n",
      "Epoch 3/500\n",
      " - 0s - loss: 12.3833 - acc: 0.0016 - val_loss: 128.9581 - val_acc: 0.0000e+00\n",
      "Epoch 4/500\n",
      " - 0s - loss: 6.6812 - acc: 0.0026 - val_loss: 52.2654 - val_acc: 7.5873e-04\n",
      "Epoch 5/500\n",
      " - 0s - loss: 5.6718 - acc: 0.0033 - val_loss: 6.9095 - val_acc: 0.0038\n",
      "Epoch 6/500\n",
      " - 0s - loss: 5.6001 - acc: 6.5062e-04 - val_loss: 8.0202 - val_acc: 0.0046\n",
      "Epoch 7/500\n",
      " - 0s - loss: 4.8375 - acc: 0.0023 - val_loss: 30.2897 - val_acc: 0.0000e+00\n",
      "Epoch 8/500\n",
      " - 0s - loss: 4.4391 - acc: 0.0020 - val_loss: 10.3989 - val_acc: 0.0023\n",
      "Epoch 9/500\n",
      " - 0s - loss: 4.1580 - acc: 0.0033 - val_loss: 6.5584 - val_acc: 0.0015\n",
      "Epoch 10/500\n",
      " - 0s - loss: 5.0401 - acc: 0.0026 - val_loss: 7.5550 - val_acc: 0.0015\n",
      "Epoch 11/500\n",
      " - 0s - loss: 4.4748 - acc: 0.0049 - val_loss: 0.9941 - val_acc: 0.0053\n",
      "Epoch 12/500\n",
      " - 0s - loss: 3.9904 - acc: 0.0020 - val_loss: 4.6212 - val_acc: 7.5873e-04\n",
      "Epoch 13/500\n",
      " - 0s - loss: 4.4287 - acc: 0.0026 - val_loss: 0.6347 - val_acc: 0.0068\n",
      "Epoch 14/500\n",
      " - 0s - loss: 3.7304 - acc: 0.0023 - val_loss: 2.3521 - val_acc: 0.0053\n",
      "Epoch 15/500\n",
      " - 0s - loss: 3.4931 - acc: 0.0036 - val_loss: 6.9685 - val_acc: 7.5873e-04\n",
      "Epoch 16/500\n",
      " - 0s - loss: 3.9488 - acc: 0.0026 - val_loss: 5.4789 - val_acc: 7.5873e-04\n",
      "Epoch 17/500\n",
      " - 0s - loss: 4.0045 - acc: 0.0036 - val_loss: 6.9038 - val_acc: 0.0000e+00\n",
      "Epoch 18/500\n",
      " - 0s - loss: 3.3785 - acc: 0.0039 - val_loss: 10.5267 - val_acc: 0.0000e+00\n",
      "Epoch 00018: early stopping\n",
      "Train on 3074 samples, validate on 1318 samples\n",
      "Epoch 1/500\n",
      " - 1s - loss: 227.3608 - acc: 0.0013 - val_loss: 167.5359 - val_acc: 0.0000e+00\n",
      "Epoch 2/500\n",
      " - 0s - loss: 32.8654 - acc: 0.0000e+00 - val_loss: 550.5799 - val_acc: 0.0000e+00\n",
      "Epoch 3/500\n",
      " - 0s - loss: 12.2815 - acc: 3.2531e-04 - val_loss: 89.2931 - val_acc: 7.5873e-04\n",
      "Epoch 4/500\n",
      " - 0s - loss: 7.7062 - acc: 0.0036 - val_loss: 24.0784 - val_acc: 7.5873e-04\n",
      "Epoch 5/500\n",
      " - 0s - loss: 5.2989 - acc: 0.0026 - val_loss: 8.7096 - val_acc: 0.0046\n",
      "Epoch 6/500\n",
      " - 0s - loss: 4.7975 - acc: 0.0023 - val_loss: 8.3966 - val_acc: 0.0038\n",
      "Epoch 7/500\n",
      " - 0s - loss: 4.4317 - acc: 0.0033 - val_loss: 7.2311 - val_acc: 0.0046\n",
      "Epoch 8/500\n",
      " - 0s - loss: 4.1398 - acc: 0.0020 - val_loss: 8.3692 - val_acc: 0.0015\n",
      "Epoch 9/500\n",
      " - 0s - loss: 3.6972 - acc: 0.0039 - val_loss: 5.9624 - val_acc: 0.0046\n",
      "Epoch 10/500\n",
      " - 0s - loss: 4.6257 - acc: 0.0033 - val_loss: 21.1655 - val_acc: 7.5873e-04\n",
      "Epoch 11/500\n",
      " - 0s - loss: 4.1704 - acc: 0.0026 - val_loss: 0.7884 - val_acc: 0.0068\n",
      "Epoch 12/500\n",
      " - 0s - loss: 4.0576 - acc: 0.0026 - val_loss: 3.6078 - val_acc: 0.0030\n",
      "Epoch 13/500\n",
      " - 0s - loss: 3.9125 - acc: 0.0033 - val_loss: 9.4546 - val_acc: 0.0000e+00\n",
      "Epoch 14/500\n",
      " - 0s - loss: 4.4178 - acc: 0.0039 - val_loss: 5.5645 - val_acc: 0.0015\n",
      "Epoch 15/500\n",
      " - 0s - loss: 4.1634 - acc: 0.0036 - val_loss: 16.3061 - val_acc: 0.0000e+00\n",
      "Epoch 16/500\n",
      " - 0s - loss: 4.0353 - acc: 0.0055 - val_loss: 1.1820 - val_acc: 0.0091\n",
      "Epoch 00016: early stopping\n",
      "Train on 3074 samples, validate on 1318 samples\n",
      "Epoch 1/500\n",
      " - 1s - loss: 207.5039 - acc: 6.5062e-04 - val_loss: 1069.1634 - val_acc: 0.0000e+00\n",
      "Epoch 2/500\n",
      " - 0s - loss: 29.9651 - acc: 3.2531e-04 - val_loss: 440.4538 - val_acc: 0.0000e+00\n",
      "Epoch 3/500\n",
      " - 0s - loss: 11.3750 - acc: 6.5062e-04 - val_loss: 107.2331 - val_acc: 0.0000e+00\n",
      "Epoch 4/500\n",
      " - 0s - loss: 5.4538 - acc: 9.7593e-04 - val_loss: 36.2958 - val_acc: 0.0015\n",
      "Epoch 5/500\n",
      " - 0s - loss: 4.7826 - acc: 0.0020 - val_loss: 6.4554 - val_acc: 0.0046\n",
      "Epoch 6/500\n",
      " - 0s - loss: 4.2060 - acc: 0.0029 - val_loss: 1.0186 - val_acc: 0.0038\n",
      "Epoch 7/500\n",
      " - 0s - loss: 3.9875 - acc: 0.0036 - val_loss: 1.1411 - val_acc: 0.0076\n",
      "Epoch 8/500\n",
      " - 0s - loss: 3.7689 - acc: 0.0029 - val_loss: 3.0578 - val_acc: 0.0038\n",
      "Epoch 9/500\n",
      " - 0s - loss: 4.3431 - acc: 0.0029 - val_loss: 0.5785 - val_acc: 0.0083\n",
      "Epoch 10/500\n",
      " - 0s - loss: 3.6156 - acc: 0.0039 - val_loss: 0.7243 - val_acc: 0.0068\n",
      "Epoch 11/500\n",
      " - 0s - loss: 3.9450 - acc: 0.0042 - val_loss: 1.2509 - val_acc: 0.0091\n",
      "Epoch 12/500\n",
      " - 0s - loss: 3.3828 - acc: 0.0049 - val_loss: 6.2532 - val_acc: 0.0000e+00\n",
      "Epoch 13/500\n",
      " - 0s - loss: 3.3581 - acc: 0.0026 - val_loss: 1.1086 - val_acc: 0.0083\n",
      "Epoch 14/500\n",
      " - 0s - loss: 3.5663 - acc: 0.0026 - val_loss: 4.3419 - val_acc: 0.0000e+00\n",
      "Epoch 00014: early stopping\n",
      "Train on 3074 samples, validate on 1318 samples\n",
      "Epoch 1/500\n",
      " - 1s - loss: 211.7173 - acc: 0.0000e+00 - val_loss: 413.8474 - val_acc: 7.5873e-04\n",
      "Epoch 2/500\n",
      " - 0s - loss: 32.8437 - acc: 6.5062e-04 - val_loss: 593.7013 - val_acc: 0.0000e+00\n",
      "Epoch 3/500\n",
      " - 0s - loss: 12.9164 - acc: 9.7593e-04 - val_loss: 153.5665 - val_acc: 7.5873e-04\n",
      "Epoch 4/500\n",
      " - 0s - loss: 6.7949 - acc: 0.0020 - val_loss: 33.5292 - val_acc: 0.0015\n",
      "Epoch 5/500\n",
      " - 0s - loss: 5.1223 - acc: 0.0020 - val_loss: 21.7404 - val_acc: 0.0015\n",
      "Epoch 6/500\n",
      " - 0s - loss: 5.0201 - acc: 0.0020 - val_loss: 18.3816 - val_acc: 0.0015\n",
      "Epoch 7/500\n",
      " - 0s - loss: 4.0762 - acc: 0.0016 - val_loss: 25.8767 - val_acc: 0.0015\n",
      "Epoch 8/500\n",
      " - 0s - loss: 4.2716 - acc: 9.7593e-04 - val_loss: 2.3872 - val_acc: 0.0015\n",
      "Epoch 9/500\n",
      " - 0s - loss: 4.6621 - acc: 0.0013 - val_loss: 18.0690 - val_acc: 7.5873e-04\n",
      "Epoch 10/500\n",
      " - 0s - loss: 4.0861 - acc: 0.0029 - val_loss: 14.1483 - val_acc: 0.0015\n",
      "Epoch 11/500\n",
      " - 0s - loss: 4.2206 - acc: 0.0042 - val_loss: 2.7928 - val_acc: 0.0076\n",
      "Epoch 12/500\n",
      " - 0s - loss: 3.6914 - acc: 0.0036 - val_loss: 1.7190 - val_acc: 0.0015\n",
      "Epoch 13/500\n",
      " - 0s - loss: 3.7166 - acc: 0.0026 - val_loss: 5.4458 - val_acc: 0.0000e+00\n",
      "Epoch 14/500\n",
      " - 0s - loss: 3.5743 - acc: 0.0033 - val_loss: 2.2190 - val_acc: 0.0061\n",
      "Epoch 15/500\n",
      " - 0s - loss: 3.6633 - acc: 0.0029 - val_loss: 6.1036 - val_acc: 7.5873e-04\n",
      "Epoch 16/500\n",
      " - 0s - loss: 4.3019 - acc: 0.0029 - val_loss: 0.7490 - val_acc: 0.0091\n",
      "Epoch 17/500\n",
      " - 0s - loss: 3.4068 - acc: 0.0039 - val_loss: 0.6117 - val_acc: 0.0076\n",
      "Epoch 18/500\n",
      " - 0s - loss: 3.3404 - acc: 0.0033 - val_loss: 0.8223 - val_acc: 0.0083\n",
      "Epoch 19/500\n",
      " - 0s - loss: 3.6642 - acc: 0.0036 - val_loss: 6.7098 - val_acc: 0.0000e+00\n",
      "Epoch 20/500\n",
      " - 0s - loss: 3.5993 - acc: 0.0046 - val_loss: 0.8455 - val_acc: 0.0061\n",
      "Epoch 21/500\n",
      " - 0s - loss: 3.3773 - acc: 0.0020 - val_loss: 3.3154 - val_acc: 0.0015\n",
      "Epoch 22/500\n",
      " - 0s - loss: 3.3958 - acc: 0.0026 - val_loss: 0.7048 - val_acc: 0.0068\n",
      "Epoch 00022: early stopping\n",
      "Train on 3074 samples, validate on 1318 samples\n",
      "Epoch 1/500\n",
      " - 1s - loss: 245.5027 - acc: 3.2531e-04 - val_loss: 948.9285 - val_acc: 0.0000e+00\n",
      "Epoch 2/500\n",
      " - 0s - loss: 50.1789 - acc: 3.2531e-04 - val_loss: 757.5777 - val_acc: 0.0000e+00\n",
      "Epoch 3/500\n",
      " - 0s - loss: 17.9764 - acc: 3.2531e-04 - val_loss: 195.7060 - val_acc: 0.0000e+00\n",
      "Epoch 4/500\n",
      " - 0s - loss: 8.5588 - acc: 0.0029 - val_loss: 63.5327 - val_acc: 7.5873e-04\n",
      "Epoch 5/500\n",
      " - 0s - loss: 6.8243 - acc: 0.0020 - val_loss: 29.8143 - val_acc: 7.5873e-04\n",
      "Epoch 6/500\n",
      " - 0s - loss: 5.2301 - acc: 0.0039 - val_loss: 7.8303 - val_acc: 0.0053\n",
      "Epoch 7/500\n",
      " - 0s - loss: 4.8786 - acc: 0.0029 - val_loss: 21.9709 - val_acc: 0.0015\n",
      "Epoch 8/500\n",
      " - 0s - loss: 4.6874 - acc: 0.0039 - val_loss: 20.3779 - val_acc: 7.5873e-04\n",
      "Epoch 9/500\n",
      " - 0s - loss: 4.8417 - acc: 0.0026 - val_loss: 14.6721 - val_acc: 7.5873e-04\n",
      "Epoch 10/500\n",
      " - 0s - loss: 4.3814 - acc: 0.0033 - val_loss: 3.8767 - val_acc: 0.0068\n",
      "Epoch 11/500\n",
      " - 0s - loss: 4.1921 - acc: 0.0049 - val_loss: 11.5316 - val_acc: 7.5873e-04\n",
      "Epoch 12/500\n",
      " - 0s - loss: 4.6470 - acc: 0.0033 - val_loss: 3.2166 - val_acc: 0.0068\n",
      "Epoch 13/500\n",
      " - 0s - loss: 4.0023 - acc: 0.0036 - val_loss: 1.2908 - val_acc: 0.0061\n",
      "Epoch 14/500\n",
      " - 0s - loss: 3.8131 - acc: 0.0033 - val_loss: 3.1162 - val_acc: 7.5873e-04\n",
      "Epoch 15/500\n",
      " - 0s - loss: 3.8156 - acc: 0.0039 - val_loss: 0.9491 - val_acc: 0.0046\n",
      "Epoch 16/500\n",
      " - 0s - loss: 4.0985 - acc: 0.0033 - val_loss: 4.8252 - val_acc: 7.5873e-04\n",
      "Epoch 17/500\n",
      " - 0s - loss: 3.7257 - acc: 0.0033 - val_loss: 6.4032 - val_acc: 0.0000e+00\n",
      "Epoch 18/500\n",
      " - 0s - loss: 3.4074 - acc: 0.0029 - val_loss: 1.0846 - val_acc: 0.0091\n",
      "Epoch 19/500\n",
      " - 0s - loss: 4.1270 - acc: 0.0042 - val_loss: 2.2438 - val_acc: 0.0000e+00\n",
      "Epoch 20/500\n",
      " - 0s - loss: 3.6593 - acc: 0.0036 - val_loss: 1.2598 - val_acc: 0.0091\n"
     ]
    },
    {
     "name": "stdout",
     "output_type": "stream",
     "text": [
      "Epoch 00020: early stopping\n",
      "Training finished...Loading the best model\n",
      "\n"
     ]
    }
   ],
   "source": [
    "checkpointer = ModelCheckpoint(filepath=\"save/nn.hdf5\", verbose=0, save_best_only=True) # save best model\n",
    "for i in range(5):\n",
    "    printmd(\"\\n**Iteration**: {}\".format(i))\n",
    "    #print(\"Iteration: {}\".format(i))\n",
    "    model = Sequential()\n",
    "\n",
    "    model.add(Dense(128, input_dim=x_train.shape[1], activation='relu')) # Hidden 1     #  why input_dim=x.shape[1]?  \n",
    "    model.add(Dropout(0.25))\n",
    "    model.add(Dense(64, activation='relu')) # Hidden 2\n",
    "    model.add(Dropout(0.25))\n",
    "    model.add(Dense(32, activation='relu')) \n",
    "    model.add(Dense(1)) # Output\n",
    "\n",
    "    model.compile(loss='mean_squared_error', optimizer='adam', metrics=['accuracy'])\n",
    "\n",
    "    monitor = EarlyStopping(monitor='val_loss', min_delta=1e-3, patience=5, verbose=1, mode='auto')\n",
    "\n",
    "    model.fit(x_train,y_train,validation_data=(x_test,y_test), callbacks=[monitor,checkpointer],verbose=2,epochs=500, batch_size=32, shuffle=True)\n",
    "\n",
    "print('Training finished...Loading the best model')  \n",
    "print()\n",
    "model.load_weights(\"save/nn.hdf5\") # load weights from best model    "
   ]
  },
  {
   "cell_type": "code",
   "execution_count": null,
   "metadata": {},
   "outputs": [],
   "source": [
    "model.summary()"
   ]
  },
  {
   "cell_type": "code",
   "execution_count": 14,
   "metadata": {},
   "outputs": [
    {
     "data": {
      "text/markdown": [
       "-----------------**Fully-Connected Neural Network Report**---------------"
      ],
      "text/plain": [
       "<IPython.core.display.Markdown object>"
      ]
     },
     "metadata": {},
     "output_type": "display_data"
    },
    {
     "name": "stdout",
     "output_type": "stream",
     "text": [
      "RMSE score: 0.7605791091918945\n"
     ]
    }
   ],
   "source": [
    "nn_pred = model.predict(x_test)\n",
    "\n",
    "nn_rmse = np.sqrt(metrics.mean_squared_error(nn_pred, y_test))\n",
    "printmd(\"-----------------**Fully-Connected Neural Network Report**---------------\")\n",
    "print(\"RMSE score: {}\".format(nn_rmse))"
   ]
  },
  {
   "cell_type": "code",
   "execution_count": 15,
   "metadata": {},
   "outputs": [
    {
     "data": {
      "image/png": "[encoded data removed]",
      "text/plain": [
       "<Figure size 432x288 with 1 Axes>"
      ]
     },
     "metadata": {
      "needs_background": "light"
     },
     "output_type": "display_data"
    }
   ],
   "source": [
    "chart_regression(nn_pred.flatten(), y_test)"
   ]
  },
  {
   "cell_type": "markdown",
   "metadata": {},
   "source": [
    "# LSTM model"
   ]
  },
  {
   "cell_type": "code",
   "execution_count": 90,
   "metadata": {},
   "outputs": [],
   "source": [
    "df = pd.read_csv('CSC215_Project4_Stock_Price.csv')"
   ]
  },
  {
   "cell_type": "code",
   "execution_count": 91,
   "metadata": {},
   "outputs": [
    {
     "data": {
      "text/html": [
       "<div>\n",
       "<style scoped>\n",
       "    .dataframe tbody tr th:only-of-type {\n",
       "        vertical-align: middle;\n",
       "    }\n",
       "\n",
       "    .dataframe tbody tr th {\n",
       "        vertical-align: top;\n",
       "    }\n",
       "\n",
       "    .dataframe thead th {\n",
       "        text-align: right;\n",
       "    }\n",
       "</style>\n",
       "<table border=\"1\" class=\"dataframe\">\n",
       "  <thead>\n",
       "    <tr style=\"text-align: right;\">\n",
       "      <th></th>\n",
       "      <th>Open</th>\n",
       "      <th>High</th>\n",
       "      <th>Low</th>\n",
       "      <th>Close</th>\n",
       "      <th>Volume</th>\n",
       "    </tr>\n",
       "  </thead>\n",
       "  <tbody>\n",
       "    <tr>\n",
       "      <th>0</th>\n",
       "      <td>3.812500</td>\n",
       "      <td>4.156250</td>\n",
       "      <td>3.812500</td>\n",
       "      <td>4.125000</td>\n",
       "      <td>3675600</td>\n",
       "    </tr>\n",
       "    <tr>\n",
       "      <th>1</th>\n",
       "      <td>4.125000</td>\n",
       "      <td>4.125000</td>\n",
       "      <td>4.000000</td>\n",
       "      <td>4.015625</td>\n",
       "      <td>1077600</td>\n",
       "    </tr>\n",
       "    <tr>\n",
       "      <th>2</th>\n",
       "      <td>4.000000</td>\n",
       "      <td>4.031250</td>\n",
       "      <td>3.953125</td>\n",
       "      <td>4.000000</td>\n",
       "      <td>437200</td>\n",
       "    </tr>\n",
       "    <tr>\n",
       "      <th>3</th>\n",
       "      <td>4.000000</td>\n",
       "      <td>4.000000</td>\n",
       "      <td>3.843750</td>\n",
       "      <td>3.843750</td>\n",
       "      <td>1883600</td>\n",
       "    </tr>\n",
       "    <tr>\n",
       "      <th>4</th>\n",
       "      <td>3.734375</td>\n",
       "      <td>3.734375</td>\n",
       "      <td>3.390625</td>\n",
       "      <td>3.390625</td>\n",
       "      <td>7931600</td>\n",
       "    </tr>\n",
       "  </tbody>\n",
       "</table>\n",
       "</div>"
      ],
      "text/plain": [
       "       Open      High       Low     Close   Volume\n",
       "0  3.812500  4.156250  3.812500  4.125000  3675600\n",
       "1  4.125000  4.125000  4.000000  4.015625  1077600\n",
       "2  4.000000  4.031250  3.953125  4.000000   437200\n",
       "3  4.000000  4.000000  3.843750  3.843750  1883600\n",
       "4  3.734375  3.734375  3.390625  3.390625  7931600"
      ]
     },
     "execution_count": 91,
     "metadata": {},
     "output_type": "execute_result"
    }
   ],
   "source": [
    "df.drop(columns=['Adj_Close','Date'], inplace=True)\n",
    "df.head()"
   ]
  },
  {
   "cell_type": "code",
   "execution_count": 92,
   "metadata": {},
   "outputs": [],
   "source": [
    "SEQUENCE_SIZE = 7\n",
    "x, y = to_sequences(SEQUENCE_SIZE,df, 'Close')\n",
    "#df_lstm = df.copy().astype('float64')\n",
    "#df_lstm.head()"
   ]
  },
  {
   "cell_type": "code",
   "execution_count": 93,
   "metadata": {},
   "outputs": [
    {
     "name": "stdout",
     "output_type": "stream",
     "text": [
      "Shape of x_train: (3068, 7, 5)\n",
      "Shape of x_test: (1316, 7, 5)\n",
      "Shape of y_train: (3068,)\n",
      "Shape of y_test: (1316,)\n"
     ]
    }
   ],
   "source": [
    "x = zscore(x)\n",
    "x_train = x[0:int(0.7*len(x))]\n",
    "x_test = x[int(0.7*len(x)):]\n",
    "y_train = y[0:int(0.7*len(y))]\n",
    "y_test = y[int(0.7*len(y)):]\n",
    "#x_train, x_test, y_train, y_test = train_test_split(x, y, test_size=0.3)\n",
    "print(\"Shape of x_train: {}\".format(x_train.shape))\n",
    "print(\"Shape of x_test: {}\".format(x_test.shape))\n",
    "print(\"Shape of y_train: {}\".format(y_train.shape))\n",
    "print(\"Shape of y_test: {}\".format(y_test.shape))"
   ]
  },
  {
   "cell_type": "code",
   "execution_count": 86,
   "metadata": {},
   "outputs": [
    {
     "data": {
      "text/markdown": [
       "\n",
       "**Iteration**: 0"
      ],
      "text/plain": [
       "<IPython.core.display.Markdown object>"
      ]
     },
     "metadata": {},
     "output_type": "display_data"
    },
    {
     "name": "stdout",
     "output_type": "stream",
     "text": [
      "Train on 3068 samples, validate on 1316 samples\n",
      "Epoch 1/1000\n",
      " - 18s - loss: 282.8364 - acc: 3.2595e-04 - val_loss: 1154712.5776 - val_acc: 0.0000e+00\n",
      "Epoch 2/1000\n",
      " - 4s - loss: 44.5592 - acc: 0.0000e+00 - val_loss: 26213.4544 - val_acc: 7.5988e-04\n",
      "Epoch 3/1000\n",
      " - 4s - loss: 23.5680 - acc: 0.0000e+00 - val_loss: 80.0340 - val_acc: 0.0015\n",
      "Epoch 4/1000\n",
      " - 4s - loss: 15.3755 - acc: 3.2595e-04 - val_loss: 22.8874 - val_acc: 0.0015\n",
      "Epoch 5/1000\n",
      " - 4s - loss: 12.4060 - acc: 0.0013 - val_loss: 326.7852 - val_acc: 0.0023\n",
      "Epoch 6/1000\n",
      " - 4s - loss: 9.5067 - acc: 0.0026 - val_loss: 96.7833 - val_acc: 7.5988e-04\n",
      "Epoch 7/1000\n",
      " - 5s - loss: 8.3107 - acc: 0.0020 - val_loss: 119.6837 - val_acc: 0.0015\n",
      "Epoch 8/1000\n",
      " - 4s - loss: 7.2568 - acc: 9.7784e-04 - val_loss: 269.1581 - val_acc: 7.5988e-04\n",
      "Epoch 9/1000\n",
      " - 4s - loss: 6.4267 - acc: 0.0020 - val_loss: 326.5696 - val_acc: 7.5988e-04\n",
      "Epoch 00009: early stopping\n"
     ]
    },
    {
     "data": {
      "text/markdown": [
       "\n",
       "**Iteration**: 1"
      ],
      "text/plain": [
       "<IPython.core.display.Markdown object>"
      ]
     },
     "metadata": {},
     "output_type": "display_data"
    },
    {
     "name": "stdout",
     "output_type": "stream",
     "text": [
      "Train on 3068 samples, validate on 1316 samples\n",
      "Epoch 1/1000\n",
      " - 19s - loss: 279.6224 - acc: 0.0000e+00 - val_loss: 1524481.8330 - val_acc: 0.0000e+00\n",
      "Epoch 2/1000\n",
      " - 4s - loss: 143.9355 - acc: 6.5189e-04 - val_loss: 28140.2293 - val_acc: 0.0000e+00\n",
      "Epoch 3/1000\n",
      " - 4s - loss: 34.9013 - acc: 0.0000e+00 - val_loss: 6686.5110 - val_acc: 0.0000e+00\n",
      "Epoch 4/1000\n",
      " - 4s - loss: 20.7661 - acc: 0.0013 - val_loss: 6893.5461 - val_acc: 0.0000e+00\n",
      "Epoch 5/1000\n",
      " - 4s - loss: 16.7666 - acc: 0.0016 - val_loss: 8394.1280 - val_acc: 0.0023\n",
      "Epoch 6/1000\n",
      " - 4s - loss: 14.9277 - acc: 9.7784e-04 - val_loss: 5329.5139 - val_acc: 7.5988e-04\n",
      "Epoch 7/1000\n",
      " - 4s - loss: 13.5343 - acc: 6.5189e-04 - val_loss: 3016.3389 - val_acc: 7.5988e-04\n",
      "Epoch 8/1000\n",
      " - 4s - loss: 11.5935 - acc: 0.0023 - val_loss: 3695.0094 - val_acc: 0.0000e+00\n",
      "Epoch 9/1000\n",
      " - 4s - loss: 9.6637 - acc: 0.0020 - val_loss: 1250.5793 - val_acc: 0.0023\n",
      "Epoch 10/1000\n",
      " - 4s - loss: 9.3215 - acc: 9.7784e-04 - val_loss: 4749.5565 - val_acc: 7.5988e-04\n",
      "Epoch 11/1000\n",
      " - 4s - loss: 8.1860 - acc: 0.0016 - val_loss: 3540.4009 - val_acc: 7.5988e-04\n",
      "Epoch 12/1000\n",
      " - 4s - loss: 7.7331 - acc: 0.0016 - val_loss: 4922.8571 - val_acc: 0.0000e+00\n",
      "Epoch 13/1000\n",
      " - 4s - loss: 7.0451 - acc: 6.5189e-04 - val_loss: 4449.4906 - val_acc: 0.0015\n",
      "Epoch 14/1000\n",
      " - 4s - loss: 6.7587 - acc: 0.0020 - val_loss: 4414.5900 - val_acc: 7.5988e-04\n",
      "Epoch 00014: early stopping\n"
     ]
    },
    {
     "data": {
      "text/markdown": [
       "\n",
       "**Iteration**: 2"
      ],
      "text/plain": [
       "<IPython.core.display.Markdown object>"
      ]
     },
     "metadata": {},
     "output_type": "display_data"
    },
    {
     "name": "stdout",
     "output_type": "stream",
     "text": [
      "Train on 3068 samples, validate on 1316 samples\n",
      "Epoch 1/1000\n",
      " - 21s - loss: 266.6368 - acc: 0.0000e+00 - val_loss: 3991759.3590 - val_acc: 7.5988e-04\n",
      "Epoch 2/1000\n",
      " - 4s - loss: 53.4693 - acc: 6.5189e-04 - val_loss: 43599.3642 - val_acc: 0.0000e+00\n",
      "Epoch 3/1000\n",
      " - 4s - loss: 25.2160 - acc: 9.7784e-04 - val_loss: 67417.1396 - val_acc: 0.0000e+00\n",
      "Epoch 4/1000\n",
      " - 4s - loss: 16.9085 - acc: 9.7784e-04 - val_loss: 68190.0575 - val_acc: 7.5988e-04\n",
      "Epoch 5/1000\n",
      " - 4s - loss: 12.9478 - acc: 3.2595e-04 - val_loss: 55436.9584 - val_acc: 0.0000e+00\n",
      "Epoch 6/1000\n",
      " - 4s - loss: 10.0302 - acc: 0.0013 - val_loss: 44349.6000 - val_acc: 0.0000e+00\n",
      "Epoch 7/1000\n",
      " - 4s - loss: 8.4900 - acc: 0.0029 - val_loss: 45070.1340 - val_acc: 0.0023\n",
      "Epoch 00007: early stopping\n"
     ]
    },
    {
     "data": {
      "text/markdown": [
       "\n",
       "**Iteration**: 3"
      ],
      "text/plain": [
       "<IPython.core.display.Markdown object>"
      ]
     },
     "metadata": {},
     "output_type": "display_data"
    },
    {
     "name": "stdout",
     "output_type": "stream",
     "text": [
      "Train on 3068 samples, validate on 1316 samples\n",
      "Epoch 1/1000\n",
      " - 21s - loss: 259.4204 - acc: 3.2595e-04 - val_loss: 545154.5752 - val_acc: 0.0000e+00\n",
      "Epoch 2/1000\n",
      " - 4s - loss: 44.6664 - acc: 3.2595e-04 - val_loss: 13860.5253 - val_acc: 7.5988e-04\n",
      "Epoch 3/1000\n",
      " - 4s - loss: 21.4758 - acc: 0.0013 - val_loss: 188.2849 - val_acc: 0.0000e+00\n",
      "Epoch 4/1000\n",
      " - 4s - loss: 15.0166 - acc: 9.7784e-04 - val_loss: 103.9900 - val_acc: 7.5988e-04\n",
      "Epoch 5/1000\n",
      " - 4s - loss: 11.6514 - acc: 0.0029 - val_loss: 103.4153 - val_acc: 0.0015\n",
      "Epoch 6/1000\n",
      " - 4s - loss: 9.7295 - acc: 6.5189e-04 - val_loss: 146.4753 - val_acc: 7.5988e-04\n",
      "Epoch 7/1000\n",
      " - 4s - loss: 8.4948 - acc: 0.0013 - val_loss: 289.1890 - val_acc: 7.5988e-04\n",
      "Epoch 8/1000\n",
      " - 4s - loss: 7.2913 - acc: 0.0016 - val_loss: 274.4896 - val_acc: 7.5988e-04\n",
      "Epoch 9/1000\n",
      " - 4s - loss: 6.7161 - acc: 0.0013 - val_loss: 347.9128 - val_acc: 7.5988e-04\n",
      "Epoch 10/1000\n",
      " - 4s - loss: 5.9438 - acc: 0.0013 - val_loss: 315.6721 - val_acc: 0.0015\n",
      "Epoch 00010: early stopping\n"
     ]
    },
    {
     "data": {
      "text/markdown": [
       "\n",
       "**Iteration**: 4"
      ],
      "text/plain": [
       "<IPython.core.display.Markdown object>"
      ]
     },
     "metadata": {},
     "output_type": "display_data"
    },
    {
     "name": "stdout",
     "output_type": "stream",
     "text": [
      "Train on 3068 samples, validate on 1316 samples\n",
      "Epoch 1/1000\n",
      " - 23s - loss: 275.1879 - acc: 0.0000e+00 - val_loss: 2620713.3442 - val_acc: 0.0000e+00\n",
      "Epoch 2/1000\n",
      " - 4s - loss: 41.4892 - acc: 6.5189e-04 - val_loss: 4968.2180 - val_acc: 0.0000e+00\n",
      "Epoch 3/1000\n",
      " - 4s - loss: 22.5830 - acc: 0.0013 - val_loss: 2620.2519 - val_acc: 0.0000e+00\n",
      "Epoch 4/1000\n",
      " - 4s - loss: 15.3168 - acc: 0.0000e+00 - val_loss: 459.2789 - val_acc: 0.0000e+00\n",
      "Epoch 5/1000\n",
      " - 4s - loss: 11.3207 - acc: 0.0020 - val_loss: 415.9175 - val_acc: 0.0015\n",
      "Epoch 6/1000\n",
      " - 4s - loss: 8.2309 - acc: 0.0020 - val_loss: 626.0689 - val_acc: 0.0015\n",
      "Epoch 7/1000\n",
      " - 4s - loss: 7.7366 - acc: 0.0020 - val_loss: 2019.0904 - val_acc: 0.0015\n",
      "Epoch 8/1000\n",
      " - 4s - loss: 7.2263 - acc: 0.0026 - val_loss: 1937.9788 - val_acc: 7.5988e-04\n",
      "Epoch 9/1000\n",
      " - 4s - loss: 6.0021 - acc: 0.0016 - val_loss: 1278.5956 - val_acc: 0.0015\n",
      "Epoch 10/1000\n",
      " - 4s - loss: 5.7604 - acc: 0.0013 - val_loss: 1768.3416 - val_acc: 0.0015\n",
      "Epoch 00010: early stopping\n",
      "Training finished...Loading the best model\n",
      "\n"
     ]
    }
   ],
   "source": [
    "checkpointer = ModelCheckpoint(filepath=\"save/lstm.hdf5\", verbose=0, save_best_only=True) # save best model\n",
    "for i in range(5):\n",
    "    printmd(\"\\n**Iteration**: {}\".format(i))\n",
    "    #print(\"\\nIteration: {}\".format(i))\n",
    "    model = Sequential()\n",
    "    model.add(Bidirectional(LSTM(50, activation='relu', dropout=0.25, recurrent_dropout=0.16, return_sequences=True, input_shape=(7, 5))))\n",
    "    model.add(Bidirectional(LSTM(50, activation='relu', dropout=0.25, recurrent_dropout=0.16, return_sequences=True)))\n",
    "    model.add(LSTM(50, activation='relu', dropout=0.25, recurrent_dropout=0.16))\n",
    "    #model.add(LSTM(50, activation='relu'))\n",
    "    #model.add(Dense(32, activation='relu'))\n",
    "    model.add(Dense(1))\n",
    "\n",
    "    model.compile(loss='mean_squared_error', optimizer='adam', metrics=['accuracy'])\n",
    "\n",
    "    monitor = EarlyStopping(monitor='val_loss', min_delta=1e-3, patience=5, verbose=1, mode='auto')\n",
    "\n",
    "    model.fit(x_train,y_train,validation_data=(x_test,y_test),callbacks=[monitor, checkpointer],verbose=2, epochs=1000, batch_size=64)  \n",
    "    \n",
    "print('Training finished...Loading the best model')  \n",
    "print()\n",
    "model.load_weights(\"save/lstm.hdf5\") # load weights from best model    "
   ]
  },
  {
   "cell_type": "code",
   "execution_count": 87,
   "metadata": {},
   "outputs": [
    {
     "name": "stdout",
     "output_type": "stream",
     "text": [
      "_________________________________________________________________\n",
      "Layer (type)                 Output Shape              Param #   \n",
      "=================================================================\n",
      "bidirectional_27 (Bidirectio (None, 7, 100)            22400     \n",
      "_________________________________________________________________\n",
      "bidirectional_28 (Bidirectio (None, 7, 100)            60400     \n",
      "_________________________________________________________________\n",
      "lstm_68 (LSTM)               (None, 50)                30200     \n",
      "_________________________________________________________________\n",
      "dense_61 (Dense)             (None, 1)                 51        \n",
      "=================================================================\n",
      "Total params: 113,051\n",
      "Trainable params: 113,051\n",
      "Non-trainable params: 0\n",
      "_________________________________________________________________\n"
     ]
    }
   ],
   "source": [
    "model.summary()"
   ]
  },
  {
   "cell_type": "code",
   "execution_count": 88,
   "metadata": {},
   "outputs": [
    {
     "name": "stdout",
     "output_type": "stream",
     "text": [
      "Score (RMSE): 4.784077073607012\n"
     ]
    }
   ],
   "source": [
    "lstm_pred = model.predict(x_test)\n",
    "lstm_rmse = np.sqrt(metrics.mean_squared_error(lstm_pred,y_test))\n",
    "print(\"Score (RMSE): {}\".format(lstm_rmse))"
   ]
  },
  {
   "cell_type": "code",
   "execution_count": 89,
   "metadata": {},
   "outputs": [
    {
     "data": {
      "image/png": "[encoded data removed]",
      "text/plain": [
       "<Figure size 432x288 with 1 Axes>"
      ]
     },
     "metadata": {
      "needs_background": "light"
     },
     "output_type": "display_data"
    }
   ],
   "source": [
    "chart_regression(lstm_pred.flatten(), y_test)"
   ]
  },
  {
   "cell_type": "code",
   "execution_count": 94,
   "metadata": {},
   "outputs": [
    {
     "data": {
      "text/markdown": [
       "\n",
       "**Iteration**: 0"
      ],
      "text/plain": [
       "<IPython.core.display.Markdown object>"
      ]
     },
     "metadata": {},
     "output_type": "display_data"
    },
    {
     "name": "stdout",
     "output_type": "stream",
     "text": [
      "Train on 3068 samples, validate on 1316 samples\n",
      "Epoch 1/1000\n",
      " - 22s - loss: 277.7243 - acc: 0.0000e+00 - val_loss: 3600651.9857 - val_acc: 0.0000e+00\n",
      "Epoch 2/1000\n",
      " - 4s - loss: 34.2333 - acc: 0.0013 - val_loss: 798174.5054 - val_acc: 0.0000e+00\n",
      "Epoch 3/1000\n",
      " - 4s - loss: 8.3750 - acc: 0.0000e+00 - val_loss: 761354.1609 - val_acc: 7.5988e-04\n",
      "Epoch 4/1000\n",
      " - 4s - loss: 2.1463 - acc: 0.0029 - val_loss: 448010.5624 - val_acc: 7.5988e-04\n",
      "Epoch 5/1000\n",
      " - 4s - loss: 0.8296 - acc: 0.0062 - val_loss: 373680.9152 - val_acc: 0.0000e+00\n",
      "Epoch 6/1000\n",
      " - 4s - loss: 0.6735 - acc: 0.0059 - val_loss: 253963.1699 - val_acc: 0.0015\n",
      "Epoch 7/1000\n",
      " - 4s - loss: 0.5596 - acc: 0.0068 - val_loss: 192792.6687 - val_acc: 7.5988e-04\n",
      "Epoch 8/1000\n",
      " - 4s - loss: 0.5236 - acc: 0.0072 - val_loss: 243071.5426 - val_acc: 0.0015\n",
      "Epoch 9/1000\n",
      " - 4s - loss: 0.4730 - acc: 0.0075 - val_loss: 163560.0404 - val_acc: 7.5988e-04\n",
      "Epoch 10/1000\n",
      " - 4s - loss: 0.4530 - acc: 0.0075 - val_loss: 187737.2074 - val_acc: 0.0000e+00\n",
      "Epoch 11/1000\n",
      " - 4s - loss: 0.5018 - acc: 0.0075 - val_loss: 153171.0939 - val_acc: 7.5988e-04\n",
      "Epoch 12/1000\n",
      " - 4s - loss: 0.4478 - acc: 0.0072 - val_loss: 119977.4612 - val_acc: 7.5988e-04\n",
      "Epoch 13/1000\n",
      " - 4s - loss: 0.4068 - acc: 0.0085 - val_loss: 108668.2475 - val_acc: 7.5988e-04\n",
      "Epoch 14/1000\n",
      " - 4s - loss: 0.4040 - acc: 0.0088 - val_loss: 122957.2954 - val_acc: 7.5988e-04\n",
      "Epoch 15/1000\n",
      " - 4s - loss: 0.4621 - acc: 0.0065 - val_loss: 81586.6829 - val_acc: 0.0030\n",
      "Epoch 16/1000\n",
      " - 4s - loss: 0.4055 - acc: 0.0081 - val_loss: 96243.2144 - val_acc: 0.0015\n",
      "Epoch 17/1000\n",
      " - 4s - loss: 0.3826 - acc: 0.0078 - val_loss: 74383.8772 - val_acc: 0.0023\n",
      "Epoch 18/1000\n",
      " - 4s - loss: 0.4286 - acc: 0.0075 - val_loss: 85310.5486 - val_acc: 0.0015\n",
      "Epoch 19/1000\n",
      " - 4s - loss: 0.3867 - acc: 0.0078 - val_loss: 61649.5763 - val_acc: 0.0015\n",
      "Epoch 20/1000\n",
      " - 4s - loss: 0.4632 - acc: 0.0055 - val_loss: 78588.0310 - val_acc: 0.0015\n",
      "Epoch 21/1000\n",
      " - 4s - loss: 0.4713 - acc: 0.0055 - val_loss: 78010.2581 - val_acc: 0.0023\n",
      "Epoch 22/1000\n",
      " - 4s - loss: 0.4029 - acc: 0.0078 - val_loss: 84981.0060 - val_acc: 7.5988e-04\n",
      "Epoch 23/1000\n",
      " - 4s - loss: 0.3887 - acc: 0.0075 - val_loss: 80132.3798 - val_acc: 0.0015\n",
      "Epoch 24/1000\n",
      " - 4s - loss: 0.3427 - acc: 0.0072 - val_loss: 91325.7230 - val_acc: 7.5988e-04\n",
      "Epoch 00024: early stopping\n"
     ]
    },
    {
     "data": {
      "text/markdown": [
       "\n",
       "**Iteration**: 1"
      ],
      "text/plain": [
       "<IPython.core.display.Markdown object>"
      ]
     },
     "metadata": {},
     "output_type": "display_data"
    },
    {
     "name": "stdout",
     "output_type": "stream",
     "text": [
      "Train on 3068 samples, validate on 1316 samples\n",
      "Epoch 1/1000\n",
      " - 22s - loss: 434.5343 - acc: 3.2595e-04 - val_loss: 2447.5069 - val_acc: 0.0000e+00\n",
      "Epoch 2/1000\n",
      " - 4s - loss: 205.7432 - acc: 0.0000e+00 - val_loss: 1403417.8927 - val_acc: 0.0000e+00\n",
      "Epoch 3/1000\n",
      " - 4s - loss: 30.7249 - acc: 3.2595e-04 - val_loss: 34386.9686 - val_acc: 0.0000e+00\n",
      "Epoch 4/1000\n",
      " - 4s - loss: 7.8099 - acc: 6.5189e-04 - val_loss: 13611.3309 - val_acc: 0.0015\n",
      "Epoch 5/1000\n",
      " - 4s - loss: 1.4057 - acc: 0.0049 - val_loss: 4444.7518 - val_acc: 0.0023\n",
      "Epoch 6/1000\n",
      " - 4s - loss: 0.7308 - acc: 0.0062 - val_loss: 2813.1319 - val_acc: 7.5988e-04\n",
      "Epoch 00006: early stopping\n"
     ]
    },
    {
     "data": {
      "text/markdown": [
       "\n",
       "**Iteration**: 2"
      ],
      "text/plain": [
       "<IPython.core.display.Markdown object>"
      ]
     },
     "metadata": {},
     "output_type": "display_data"
    },
    {
     "name": "stdout",
     "output_type": "stream",
     "text": [
      "Train on 3068 samples, validate on 1316 samples\n",
      "Epoch 1/1000\n",
      " - 23s - loss: 286.6766 - acc: 3.2595e-04 - val_loss: 816140.5368 - val_acc: 0.0000e+00\n",
      "Epoch 2/1000\n",
      " - 4s - loss: 34.3805 - acc: 3.2595e-04 - val_loss: 90532.2602 - val_acc: 0.0000e+00\n",
      "Epoch 3/1000\n",
      " - 4s - loss: 6.4027 - acc: 6.5189e-04 - val_loss: 60527.7366 - val_acc: 0.0030\n",
      "Epoch 4/1000\n",
      " - 4s - loss: 2.0064 - acc: 0.0029 - val_loss: 38293.9405 - val_acc: 7.5988e-04\n",
      "Epoch 5/1000\n",
      " - 4s - loss: 0.8939 - acc: 0.0049 - val_loss: 27891.9531 - val_acc: 0.0015\n",
      "Epoch 6/1000\n",
      " - 4s - loss: 0.6531 - acc: 0.0059 - val_loss: 30662.9240 - val_acc: 7.5988e-04\n",
      "Epoch 7/1000\n",
      " - 4s - loss: 0.5810 - acc: 0.0072 - val_loss: 29056.4284 - val_acc: 7.5988e-04\n",
      "Epoch 8/1000\n",
      " - 4s - loss: 0.5181 - acc: 0.0072 - val_loss: 34753.4483 - val_acc: 0.0015\n",
      "Epoch 9/1000\n",
      " - 4s - loss: 0.5267 - acc: 0.0078 - val_loss: 31482.0818 - val_acc: 0.0023\n",
      "Epoch 10/1000\n",
      " - 4s - loss: 0.4687 - acc: 0.0068 - val_loss: 27305.8362 - val_acc: 0.0023\n",
      "Epoch 11/1000\n",
      " - 4s - loss: 0.4648 - acc: 0.0062 - val_loss: 25154.4015 - val_acc: 0.0015\n",
      "Epoch 12/1000\n",
      " - 4s - loss: 0.4245 - acc: 0.0075 - val_loss: 19045.6615 - val_acc: 0.0015\n",
      "Epoch 13/1000\n",
      " - 4s - loss: 0.4533 - acc: 0.0081 - val_loss: 11195.3416 - val_acc: 7.5988e-04\n",
      "Epoch 14/1000\n",
      " - 4s - loss: 0.5179 - acc: 0.0065 - val_loss: 13417.7193 - val_acc: 0.0023\n",
      "Epoch 15/1000\n",
      " - 4s - loss: 0.4983 - acc: 0.0081 - val_loss: 8238.4596 - val_acc: 7.5988e-04\n",
      "Epoch 16/1000\n",
      " - 4s - loss: 0.4054 - acc: 0.0072 - val_loss: 15369.4437 - val_acc: 0.0023\n",
      "Epoch 17/1000\n",
      " - 4s - loss: 0.4208 - acc: 0.0072 - val_loss: 18226.0259 - val_acc: 0.0023\n",
      "Epoch 18/1000\n",
      " - 4s - loss: 0.4620 - acc: 0.0065 - val_loss: 14769.9621 - val_acc: 0.0023\n",
      "Epoch 19/1000\n",
      " - 4s - loss: 0.3718 - acc: 0.0068 - val_loss: 14181.6019 - val_acc: 0.0023\n",
      "Epoch 20/1000\n",
      " - 4s - loss: 0.4342 - acc: 0.0072 - val_loss: 11232.3758 - val_acc: 7.5988e-04\n",
      "Epoch 00020: early stopping\n"
     ]
    },
    {
     "data": {
      "text/markdown": [
       "\n",
       "**Iteration**: 3"
      ],
      "text/plain": [
       "<IPython.core.display.Markdown object>"
      ]
     },
     "metadata": {},
     "output_type": "display_data"
    },
    {
     "name": "stdout",
     "output_type": "stream",
     "text": [
      "Train on 3068 samples, validate on 1316 samples\n",
      "Epoch 1/1000\n",
      " - 25s - loss: 296.4802 - acc: 0.0000e+00 - val_loss: 80860.2899 - val_acc: 0.0000e+00\n",
      "Epoch 2/1000\n",
      " - 4s - loss: 37.4035 - acc: 3.2595e-04 - val_loss: 88247.2942 - val_acc: 7.5988e-04\n",
      "Epoch 3/1000\n",
      " - 4s - loss: 2.2087 - acc: 0.0036 - val_loss: 42516.9931 - val_acc: 0.0000e+00\n",
      "Epoch 4/1000\n",
      " - 4s - loss: 0.6898 - acc: 0.0068 - val_loss: 38955.1563 - val_acc: 0.0015\n",
      "Epoch 5/1000\n",
      " - 4s - loss: 0.6420 - acc: 0.0078 - val_loss: 36767.3911 - val_acc: 7.5988e-04\n",
      "Epoch 6/1000\n",
      " - 4s - loss: 0.5904 - acc: 0.0062 - val_loss: 35124.0884 - val_acc: 0.0015\n",
      "Epoch 7/1000\n",
      " - 4s - loss: 0.5544 - acc: 0.0078 - val_loss: 35595.8957 - val_acc: 7.5988e-04\n",
      "Epoch 8/1000\n",
      " - 4s - loss: 0.5271 - acc: 0.0075 - val_loss: 27468.0432 - val_acc: 0.0023\n",
      "Epoch 9/1000\n",
      " - 4s - loss: 0.5029 - acc: 0.0065 - val_loss: 27515.4946 - val_acc: 7.5988e-04\n",
      "Epoch 10/1000\n",
      " - 4s - loss: 0.4748 - acc: 0.0075 - val_loss: 24772.6011 - val_acc: 7.5988e-04\n",
      "Epoch 11/1000\n",
      " - 5s - loss: 0.4846 - acc: 0.0081 - val_loss: 27432.6889 - val_acc: 0.0015\n",
      "Epoch 12/1000\n",
      " - 4s - loss: 0.4492 - acc: 0.0078 - val_loss: 25514.2365 - val_acc: 7.5988e-04\n",
      "Epoch 13/1000\n",
      " - 4s - loss: 0.5224 - acc: 0.0072 - val_loss: 23907.4822 - val_acc: 0.0015\n",
      "Epoch 14/1000\n",
      " - 4s - loss: 0.4639 - acc: 0.0072 - val_loss: 23921.3917 - val_acc: 7.5988e-04\n",
      "Epoch 15/1000\n",
      " - 4s - loss: 0.4096 - acc: 0.0085 - val_loss: 22183.6995 - val_acc: 0.0015\n",
      "Epoch 16/1000\n",
      " - 4s - loss: 0.4185 - acc: 0.0081 - val_loss: 22077.5510 - val_acc: 0.0000e+00\n",
      "Epoch 17/1000\n",
      " - 4s - loss: 0.4109 - acc: 0.0072 - val_loss: 21937.9696 - val_acc: 7.5988e-04\n",
      "Epoch 18/1000\n",
      " - 4s - loss: 0.5628 - acc: 0.0068 - val_loss: 22080.9252 - val_acc: 7.5988e-04\n",
      "Epoch 19/1000\n",
      " - 4s - loss: 0.4431 - acc: 0.0088 - val_loss: 16883.0388 - val_acc: 0.0015\n",
      "Epoch 20/1000\n",
      " - 4s - loss: 0.4285 - acc: 0.0081 - val_loss: 19261.7223 - val_acc: 7.5988e-04\n",
      "Epoch 21/1000\n",
      " - 4s - loss: 0.3859 - acc: 0.0078 - val_loss: 14222.7825 - val_acc: 0.0015\n",
      "Epoch 22/1000\n",
      " - 4s - loss: 0.4425 - acc: 0.0075 - val_loss: 14564.0888 - val_acc: 0.0015\n",
      "Epoch 23/1000\n",
      " - 4s - loss: 0.4184 - acc: 0.0075 - val_loss: 18356.7842 - val_acc: 7.5988e-04\n",
      "Epoch 24/1000\n",
      " - 4s - loss: 0.3696 - acc: 0.0085 - val_loss: 12819.4774 - val_acc: 0.0015\n",
      "Epoch 25/1000\n",
      " - 4s - loss: 0.4742 - acc: 0.0068 - val_loss: 17705.1054 - val_acc: 7.5988e-04\n",
      "Epoch 26/1000\n",
      " - 4s - loss: 0.4067 - acc: 0.0075 - val_loss: 17115.5286 - val_acc: 0.0023\n",
      "Epoch 27/1000\n",
      " - 4s - loss: 0.4235 - acc: 0.0072 - val_loss: 15512.6070 - val_acc: 7.5988e-04\n",
      "Epoch 28/1000\n",
      " - 4s - loss: 0.4092 - acc: 0.0065 - val_loss: 16157.5331 - val_acc: 0.0015\n",
      "Epoch 29/1000\n",
      " - 4s - loss: 0.3677 - acc: 0.0072 - val_loss: 16558.1547 - val_acc: 7.5988e-04\n",
      "Epoch 00029: early stopping\n"
     ]
    },
    {
     "data": {
      "text/markdown": [
       "\n",
       "**Iteration**: 4"
      ],
      "text/plain": [
       "<IPython.core.display.Markdown object>"
      ]
     },
     "metadata": {},
     "output_type": "display_data"
    },
    {
     "name": "stdout",
     "output_type": "stream",
     "text": [
      "Train on 3068 samples, validate on 1316 samples\n",
      "Epoch 1/1000\n",
      " - 25s - loss: 276.7722 - acc: 0.0000e+00 - val_loss: 917006.2403 - val_acc: 0.0000e+00\n",
      "Epoch 2/1000\n",
      " - 4s - loss: 41.0796 - acc: 0.0000e+00 - val_loss: 86591.7424 - val_acc: 0.0000e+00\n",
      "Epoch 3/1000\n",
      " - 4s - loss: 7.0756 - acc: 9.7784e-04 - val_loss: 56590.3985 - val_acc: 0.0000e+00\n",
      "Epoch 4/1000\n",
      " - 4s - loss: 2.1865 - acc: 0.0033 - val_loss: 29957.5082 - val_acc: 7.5988e-04\n",
      "Epoch 5/1000\n",
      " - 4s - loss: 0.8543 - acc: 0.0059 - val_loss: 29475.6666 - val_acc: 7.5988e-04\n",
      "Epoch 6/1000\n",
      " - 4s - loss: 0.6793 - acc: 0.0046 - val_loss: 23307.4498 - val_acc: 0.0000e+00\n",
      "Epoch 7/1000\n",
      " - 4s - loss: 0.5601 - acc: 0.0068 - val_loss: 19715.6332 - val_acc: 7.5988e-04\n",
      "Epoch 8/1000\n",
      " - 4s - loss: 0.4841 - acc: 0.0065 - val_loss: 17080.7229 - val_acc: 0.0015\n",
      "Epoch 9/1000\n",
      " - 4s - loss: 0.4841 - acc: 0.0068 - val_loss: 15778.9749 - val_acc: 7.5988e-04\n",
      "Epoch 10/1000\n",
      " - 4s - loss: 0.5038 - acc: 0.0078 - val_loss: 12377.2393 - val_acc: 7.5988e-04\n",
      "Epoch 11/1000\n",
      " - 4s - loss: 0.5040 - acc: 0.0078 - val_loss: 10472.0347 - val_acc: 0.0015\n",
      "Epoch 12/1000\n",
      " - 4s - loss: 0.5516 - acc: 0.0065 - val_loss: 9521.6816 - val_acc: 0.0015\n",
      "Epoch 13/1000\n",
      " - 4s - loss: 0.4125 - acc: 0.0068 - val_loss: 6869.8195 - val_acc: 0.0015\n",
      "Epoch 14/1000\n",
      " - 4s - loss: 0.4634 - acc: 0.0085 - val_loss: 4160.1292 - val_acc: 0.0015\n",
      "Epoch 15/1000\n",
      " - 4s - loss: 0.4426 - acc: 0.0075 - val_loss: 3322.5607 - val_acc: 7.5988e-04\n",
      "Epoch 16/1000\n",
      " - 4s - loss: 0.4163 - acc: 0.0075 - val_loss: 862.8186 - val_acc: 0.0015\n",
      "Epoch 17/1000\n",
      " - 4s - loss: 0.4269 - acc: 0.0081 - val_loss: 502.8304 - val_acc: 0.0015\n",
      "Epoch 18/1000\n",
      " - 4s - loss: 0.3906 - acc: 0.0075 - val_loss: 192.5272 - val_acc: 0.0015\n",
      "Epoch 19/1000\n",
      " - 4s - loss: 0.4151 - acc: 0.0065 - val_loss: 68.6053 - val_acc: 0.0015\n",
      "Epoch 20/1000\n",
      " - 4s - loss: 0.4149 - acc: 0.0068 - val_loss: 66.3002 - val_acc: 0.0023\n",
      "Epoch 21/1000\n",
      " - 4s - loss: 0.3890 - acc: 0.0068 - val_loss: 491.2856 - val_acc: 0.0015\n",
      "Epoch 22/1000\n",
      " - 4s - loss: 0.3653 - acc: 0.0075 - val_loss: 216.3393 - val_acc: 0.0015\n",
      "Epoch 23/1000\n",
      " - 4s - loss: 0.3570 - acc: 0.0072 - val_loss: 971.7583 - val_acc: 0.0023\n",
      "Epoch 24/1000\n",
      " - 4s - loss: 0.3867 - acc: 0.0068 - val_loss: 104.1406 - val_acc: 0.0015\n",
      "Epoch 25/1000\n",
      " - 5s - loss: 0.3406 - acc: 0.0088 - val_loss: 835.7599 - val_acc: 0.0030\n",
      "Epoch 00025: early stopping\n",
      "Training finished...Loading the best model\n",
      "\n"
     ]
    }
   ],
   "source": [
    "checkpointer = ModelCheckpoint(filepath=\"save/lstm_nodropout.hdf5\", verbose=0, save_best_only=True) # save best model\n",
    "for i in range(5):\n",
    "    printmd(\"\\n**Iteration**: {}\".format(i))\n",
    "    #print(\"\\nIteration: {}\".format(i))\n",
    "    model = Sequential()\n",
    "    model.add(Bidirectional(LSTM(50, activation='relu', return_sequences=True, input_shape=(7, 5))))\n",
    "    model.add(Bidirectional(LSTM(50, activation='relu', return_sequences=True)))\n",
    "    model.add(LSTM(50, activation='relu'))\n",
    "    #model.add(LSTM(50, activation='relu'))\n",
    "    #model.add(Dense(32, activation='relu'))\n",
    "    model.add(Dense(1))\n",
    "\n",
    "    model.compile(loss='mean_squared_error', optimizer='adam', metrics=['accuracy'])\n",
    "\n",
    "    monitor = EarlyStopping(monitor='val_loss', min_delta=1e-3, patience=5, verbose=1, mode='auto')\n",
    "\n",
    "    model.fit(x_train,y_train,validation_data=(x_test,y_test),callbacks=[monitor, checkpointer],verbose=2, epochs=1000, batch_size=64)  \n",
    "    \n",
    "print('Training finished...Loading the best model')  \n",
    "print()\n",
    "model.load_weights(\"save/lstm_nodropout.hdf5\") # load weights from best model "
   ]
  },
  {
   "cell_type": "code",
   "execution_count": 96,
   "metadata": {},
   "outputs": [
    {
     "name": "stdout",
     "output_type": "stream",
     "text": [
      "_________________________________________________________________\n",
      "Layer (type)                 Output Shape              Param #   \n",
      "=================================================================\n",
      "bidirectional_37 (Bidirectio (None, 7, 100)            22400     \n",
      "_________________________________________________________________\n",
      "bidirectional_38 (Bidirectio (None, 7, 100)            60400     \n",
      "_________________________________________________________________\n",
      "lstm_83 (LSTM)               (None, 50)                30200     \n",
      "_________________________________________________________________\n",
      "dense_66 (Dense)             (None, 1)                 51        \n",
      "=================================================================\n",
      "Total params: 113,051\n",
      "Trainable params: 113,051\n",
      "Non-trainable params: 0\n",
      "_________________________________________________________________\n"
     ]
    }
   ],
   "source": [
    "model.summary()"
   ]
  },
  {
   "cell_type": "code",
   "execution_count": 97,
   "metadata": {},
   "outputs": [
    {
     "name": "stdout",
     "output_type": "stream",
     "text": [
      "Score (RMSE): 8.14249061375073\n"
     ]
    }
   ],
   "source": [
    "lstm_nodropout_pred = model.predict(x_test)\n",
    "lstm_nodropout_rmse = np.sqrt(metrics.mean_squared_error(lstm_nodropout_pred,y_test))\n",
    "print(\"Score (RMSE): {}\".format(lstm_nodropout_rmse))"
   ]
  },
  {
   "cell_type": "code",
   "execution_count": 102,
   "metadata": {},
   "outputs": [
    {
     "data": {
      "text/plain": [
       "(1316,)"
      ]
     },
     "execution_count": 102,
     "metadata": {},
     "output_type": "execute_result"
    }
   ],
   "source": [
    "lstm_nodropout_pred.flatten().shape"
   ]
  },
  {
   "cell_type": "code",
   "execution_count": 103,
   "metadata": {},
   "outputs": [
    {
     "data": {
      "image/png": "[encoded data removed]",
      "text/plain": [
       "<Figure size 432x288 with 1 Axes>"
      ]
     },
     "metadata": {
      "needs_background": "light"
     },
     "output_type": "display_data"
    }
   ],
   "source": [
    "t = pd.DataFrame({'pred' : lstm_pred.flatten(), 'pred_nodropout': lstm_nodropout_pred.flatten(), 'y' : y_test.flatten()})   \n",
    "a = plt.plot(t['y'].tolist(),label='expected')\n",
    "b = plt.plot(t['pred'].tolist(),label='prediction')\n",
    "c = plt.plot(t['pred_nodropout'].tolist(),label='prediction_nodropout')\n",
    "plt.ylabel('output')\n",
    "plt.legend()\n",
    "plt.show()    "
   ]
  },
  {
   "cell_type": "code",
   "execution_count": null,
   "metadata": {},
   "outputs": [],
   "source": []
  },
  {
   "cell_type": "markdown",
   "metadata": {},
   "source": [
    "# CNN model"
   ]
  },
  {
   "cell_type": "code",
   "execution_count": 55,
   "metadata": {},
   "outputs": [],
   "source": [
    "df = pd.read_csv('CSC215_Project4_Stock_Price.csv')"
   ]
  },
  {
   "cell_type": "code",
   "execution_count": 56,
   "metadata": {},
   "outputs": [
    {
     "data": {
      "text/html": [
       "<div>\n",
       "<style scoped>\n",
       "    .dataframe tbody tr th:only-of-type {\n",
       "        vertical-align: middle;\n",
       "    }\n",
       "\n",
       "    .dataframe tbody tr th {\n",
       "        vertical-align: top;\n",
       "    }\n",
       "\n",
       "    .dataframe thead th {\n",
       "        text-align: right;\n",
       "    }\n",
       "</style>\n",
       "<table border=\"1\" class=\"dataframe\">\n",
       "  <thead>\n",
       "    <tr style=\"text-align: right;\">\n",
       "      <th></th>\n",
       "      <th>Open</th>\n",
       "      <th>High</th>\n",
       "      <th>Low</th>\n",
       "      <th>Close</th>\n",
       "      <th>Volume</th>\n",
       "    </tr>\n",
       "  </thead>\n",
       "  <tbody>\n",
       "    <tr>\n",
       "      <th>0</th>\n",
       "      <td>3.812500</td>\n",
       "      <td>4.156250</td>\n",
       "      <td>3.812500</td>\n",
       "      <td>4.125000</td>\n",
       "      <td>3675600</td>\n",
       "    </tr>\n",
       "    <tr>\n",
       "      <th>1</th>\n",
       "      <td>4.125000</td>\n",
       "      <td>4.125000</td>\n",
       "      <td>4.000000</td>\n",
       "      <td>4.015625</td>\n",
       "      <td>1077600</td>\n",
       "    </tr>\n",
       "    <tr>\n",
       "      <th>2</th>\n",
       "      <td>4.000000</td>\n",
       "      <td>4.031250</td>\n",
       "      <td>3.953125</td>\n",
       "      <td>4.000000</td>\n",
       "      <td>437200</td>\n",
       "    </tr>\n",
       "    <tr>\n",
       "      <th>3</th>\n",
       "      <td>4.000000</td>\n",
       "      <td>4.000000</td>\n",
       "      <td>3.843750</td>\n",
       "      <td>3.843750</td>\n",
       "      <td>1883600</td>\n",
       "    </tr>\n",
       "    <tr>\n",
       "      <th>4</th>\n",
       "      <td>3.734375</td>\n",
       "      <td>3.734375</td>\n",
       "      <td>3.390625</td>\n",
       "      <td>3.390625</td>\n",
       "      <td>7931600</td>\n",
       "    </tr>\n",
       "  </tbody>\n",
       "</table>\n",
       "</div>"
      ],
      "text/plain": [
       "       Open      High       Low     Close   Volume\n",
       "0  3.812500  4.156250  3.812500  4.125000  3675600\n",
       "1  4.125000  4.125000  4.000000  4.015625  1077600\n",
       "2  4.000000  4.031250  3.953125  4.000000   437200\n",
       "3  4.000000  4.000000  3.843750  3.843750  1883600\n",
       "4  3.734375  3.734375  3.390625  3.390625  7931600"
      ]
     },
     "execution_count": 56,
     "metadata": {},
     "output_type": "execute_result"
    }
   ],
   "source": [
    "df.drop(columns=['Adj_Close','Date'], inplace=True)\n",
    "df.head()"
   ]
  },
  {
   "cell_type": "code",
   "execution_count": 57,
   "metadata": {},
   "outputs": [
    {
     "name": "stdout",
     "output_type": "stream",
     "text": [
      "Shape of x: (4384, 7, 5)\n",
      "Shape of y: (4384,)\n"
     ]
    }
   ],
   "source": [
    "SEQUENCE_SIZE = 7\n",
    "x, y = to_sequences(SEQUENCE_SIZE,df, 'Close')\n",
    "x = zscore(x)\n",
    "\n",
    "print(\"Shape of x: {}\".format(x.shape))\n",
    "print(\"Shape of y: {}\".format(y.shape))"
   ]
  },
  {
   "cell_type": "code",
   "execution_count": 58,
   "metadata": {},
   "outputs": [
    {
     "name": "stdout",
     "output_type": "stream",
     "text": [
      "(4384, 7, 5, 1)\n"
     ]
    }
   ],
   "source": [
    "x = x.reshape(x.shape[0], x.shape[1], x.shape[2], 1)\n",
    "print(x.shape)"
   ]
  },
  {
   "cell_type": "code",
   "execution_count": 59,
   "metadata": {},
   "outputs": [
    {
     "name": "stdout",
     "output_type": "stream",
     "text": [
      "Shape of x_train: (3068, 7, 5, 1)\n",
      "Shape of x_test: (1316, 7, 5, 1)\n",
      "Shape of y_train: (3068,)\n",
      "Shape of y_test: (1316,)\n"
     ]
    }
   ],
   "source": [
    "x_train = x[0:int(0.7*len(x))]\n",
    "x_test = x[int(0.7*len(x)):]\n",
    "y_train = y[0:int(0.7*len(y))]\n",
    "y_test = y[int(0.7*len(y)):]\n",
    "#x_train, x_test, y_train, y_test = train_test_split(x, y, test_size=0.3)\n",
    "print(\"Shape of x_train: {}\".format(x_train.shape))\n",
    "print(\"Shape of x_test: {}\".format(x_test.shape))\n",
    "print(\"Shape of y_train: {}\".format(y_train.shape))\n",
    "print(\"Shape of y_test: {}\".format(y_test.shape))"
   ]
  },
  {
   "cell_type": "code",
   "execution_count": 60,
   "metadata": {},
   "outputs": [
    {
     "name": "stdout",
     "output_type": "stream",
     "text": [
      "Train on 3068 samples, validate on 1316 samples\n",
      "Epoch 1/1000\n",
      " - 2s - loss: 202.9082 - acc: 0.0000e+00 - val_loss: 3706.3130 - val_acc: 0.0000e+00\n",
      "Epoch 2/1000\n",
      " - 0s - loss: 30.4538 - acc: 3.2595e-04 - val_loss: 1488.9141 - val_acc: 0.0015\n",
      "Epoch 3/1000\n",
      " - 0s - loss: 10.8094 - acc: 0.0013 - val_loss: 120.7211 - val_acc: 0.0023\n",
      "Epoch 4/1000\n",
      " - 0s - loss: 6.6618 - acc: 0.0033 - val_loss: 51.8217 - val_acc: 0.0000e+00\n",
      "Epoch 5/1000\n",
      " - 0s - loss: 6.1721 - acc: 0.0020 - val_loss: 113.3745 - val_acc: 7.5988e-04\n",
      "Epoch 6/1000\n",
      " - 0s - loss: 5.8043 - acc: 0.0023 - val_loss: 62.5728 - val_acc: 0.0000e+00\n",
      "Epoch 7/1000\n",
      " - 0s - loss: 6.3758 - acc: 0.0036 - val_loss: 39.2792 - val_acc: 0.0038\n",
      "Epoch 8/1000\n",
      " - 0s - loss: 5.8083 - acc: 0.0033 - val_loss: 78.1931 - val_acc: 7.5988e-04\n",
      "Epoch 9/1000\n",
      " - 0s - loss: 5.5844 - acc: 0.0033 - val_loss: 49.3706 - val_acc: 7.5988e-04\n",
      "Epoch 10/1000\n",
      " - 0s - loss: 5.0542 - acc: 0.0029 - val_loss: 77.9770 - val_acc: 7.5988e-04\n",
      "Epoch 11/1000\n",
      " - 0s - loss: 5.8167 - acc: 0.0029 - val_loss: 103.4985 - val_acc: 0.0015\n",
      "Epoch 12/1000\n",
      " - 0s - loss: 6.0348 - acc: 0.0020 - val_loss: 53.3201 - val_acc: 7.5988e-04\n",
      "Epoch 00012: early stopping\n",
      "Train on 3068 samples, validate on 1316 samples\n",
      "Epoch 1/1000\n",
      " - 2s - loss: 207.2054 - acc: 0.0000e+00 - val_loss: 1945.9867 - val_acc: 0.0000e+00\n",
      "Epoch 2/1000\n",
      " - 0s - loss: 25.9390 - acc: 6.5189e-04 - val_loss: 833.3237 - val_acc: 0.0015\n",
      "Epoch 3/1000\n",
      " - 0s - loss: 9.2818 - acc: 0.0020 - val_loss: 104.6006 - val_acc: 0.0023\n",
      "Epoch 4/1000\n",
      " - 0s - loss: 6.5598 - acc: 0.0023 - val_loss: 48.7383 - val_acc: 7.5988e-04\n",
      "Epoch 5/1000\n",
      " - 0s - loss: 5.6502 - acc: 0.0026 - val_loss: 85.1234 - val_acc: 7.5988e-04\n",
      "Epoch 6/1000\n",
      " - 0s - loss: 6.1126 - acc: 0.0026 - val_loss: 16.5626 - val_acc: 0.0038\n",
      "Epoch 7/1000\n",
      " - 0s - loss: 5.7000 - acc: 0.0026 - val_loss: 35.0049 - val_acc: 7.5988e-04\n",
      "Epoch 8/1000\n",
      " - 0s - loss: 5.6235 - acc: 0.0033 - val_loss: 44.0219 - val_acc: 0.0015\n",
      "Epoch 9/1000\n",
      " - 0s - loss: 5.7849 - acc: 0.0023 - val_loss: 23.9306 - val_acc: 0.0000e+00\n",
      "Epoch 10/1000\n",
      " - 0s - loss: 6.1152 - acc: 0.0029 - val_loss: 28.9345 - val_acc: 0.0015\n",
      "Epoch 11/1000\n",
      " - 0s - loss: 5.6136 - acc: 0.0029 - val_loss: 48.1595 - val_acc: 0.0015\n",
      "Epoch 00011: early stopping\n",
      "Train on 3068 samples, validate on 1316 samples\n",
      "Epoch 1/1000\n",
      " - 2s - loss: 210.0255 - acc: 3.2595e-04 - val_loss: 1818.6520 - val_acc: 0.0000e+00\n",
      "Epoch 2/1000\n",
      " - 0s - loss: 31.3281 - acc: 6.5189e-04 - val_loss: 1754.7215 - val_acc: 7.5988e-04\n",
      "Epoch 3/1000\n",
      " - 0s - loss: 11.2228 - acc: 0.0016 - val_loss: 392.5565 - val_acc: 7.5988e-04\n",
      "Epoch 4/1000\n",
      " - 0s - loss: 6.4996 - acc: 0.0036 - val_loss: 273.8216 - val_acc: 7.5988e-04\n",
      "Epoch 5/1000\n",
      " - 0s - loss: 5.9397 - acc: 0.0026 - val_loss: 124.8626 - val_acc: 7.5988e-04\n",
      "Epoch 6/1000\n",
      " - 0s - loss: 6.3434 - acc: 0.0036 - val_loss: 89.7732 - val_acc: 7.5988e-04\n",
      "Epoch 7/1000\n",
      " - 0s - loss: 6.1553 - acc: 0.0042 - val_loss: 110.7138 - val_acc: 7.5988e-04\n",
      "Epoch 8/1000\n",
      " - 0s - loss: 6.7121 - acc: 0.0026 - val_loss: 156.7158 - val_acc: 0.0023\n",
      "Epoch 9/1000\n",
      " - 0s - loss: 6.4165 - acc: 0.0039 - val_loss: 160.8866 - val_acc: 0.0015\n",
      "Epoch 10/1000\n",
      " - 0s - loss: 6.0709 - acc: 0.0042 - val_loss: 151.0634 - val_acc: 0.0023\n",
      "Epoch 11/1000\n",
      " - 0s - loss: 6.4433 - acc: 0.0042 - val_loss: 94.3642 - val_acc: 7.5988e-04\n",
      "Epoch 00011: early stopping\n",
      "Train on 3068 samples, validate on 1316 samples\n",
      "Epoch 1/1000\n",
      " - 2s - loss: 213.8327 - acc: 3.2595e-04 - val_loss: 1176.3198 - val_acc: 7.5988e-04\n",
      "Epoch 2/1000\n",
      " - 0s - loss: 28.0914 - acc: 0.0013 - val_loss: 918.0158 - val_acc: 0.0000e+00\n",
      "Epoch 3/1000\n",
      " - 0s - loss: 11.1672 - acc: 0.0013 - val_loss: 246.5979 - val_acc: 0.0000e+00\n",
      "Epoch 4/1000\n",
      " - 0s - loss: 7.5153 - acc: 0.0029 - val_loss: 38.9548 - val_acc: 7.5988e-04\n",
      "Epoch 5/1000\n",
      " - 0s - loss: 7.1645 - acc: 0.0026 - val_loss: 35.8074 - val_acc: 7.5988e-04\n",
      "Epoch 6/1000\n",
      " - 0s - loss: 6.7565 - acc: 0.0020 - val_loss: 16.1403 - val_acc: 0.0030\n",
      "Epoch 7/1000\n",
      " - 0s - loss: 7.0276 - acc: 0.0039 - val_loss: 25.7643 - val_acc: 0.0000e+00\n",
      "Epoch 8/1000\n",
      " - 0s - loss: 7.1439 - acc: 0.0029 - val_loss: 36.9586 - val_acc: 0.0000e+00\n",
      "Epoch 9/1000\n",
      " - 0s - loss: 7.0186 - acc: 0.0026 - val_loss: 21.9928 - val_acc: 0.0015\n",
      "Epoch 10/1000\n",
      " - 0s - loss: 7.0676 - acc: 0.0026 - val_loss: 29.2938 - val_acc: 7.5988e-04\n",
      "Epoch 11/1000\n",
      " - 0s - loss: 6.9914 - acc: 6.5189e-04 - val_loss: 64.5938 - val_acc: 7.5988e-04\n",
      "Epoch 00011: early stopping\n",
      "Train on 3068 samples, validate on 1316 samples\n",
      "Epoch 1/1000\n",
      " - 2s - loss: 248.9956 - acc: 9.7784e-04 - val_loss: 871.7227 - val_acc: 0.0000e+00\n",
      "Epoch 2/1000\n",
      " - 0s - loss: 33.0235 - acc: 9.7784e-04 - val_loss: 409.5782 - val_acc: 0.0000e+00\n",
      "Epoch 3/1000\n",
      " - 0s - loss: 10.1445 - acc: 0.0013 - val_loss: 86.2087 - val_acc: 7.5988e-04\n",
      "Epoch 4/1000\n",
      " - 0s - loss: 8.6813 - acc: 0.0026 - val_loss: 20.5654 - val_acc: 0.0015\n",
      "Epoch 5/1000\n",
      " - 0s - loss: 9.0601 - acc: 0.0026 - val_loss: 11.6003 - val_acc: 0.0030\n",
      "Epoch 6/1000\n",
      " - 0s - loss: 8.1320 - acc: 0.0036 - val_loss: 8.1625 - val_acc: 0.0023\n",
      "Epoch 7/1000\n",
      " - 0s - loss: 7.7148 - acc: 0.0026 - val_loss: 11.6973 - val_acc: 0.0023\n",
      "Epoch 8/1000\n",
      " - 0s - loss: 7.7566 - acc: 0.0026 - val_loss: 7.1885 - val_acc: 0.0023\n",
      "Epoch 9/1000\n",
      " - 0s - loss: 7.7423 - acc: 0.0013 - val_loss: 7.8204 - val_acc: 0.0023\n",
      "Epoch 10/1000\n",
      " - 0s - loss: 7.5962 - acc: 0.0020 - val_loss: 8.5039 - val_acc: 0.0023\n",
      "Epoch 11/1000\n",
      " - 0s - loss: 7.6602 - acc: 0.0026 - val_loss: 8.1504 - val_acc: 0.0015\n",
      "Epoch 12/1000\n",
      " - 0s - loss: 7.4944 - acc: 0.0013 - val_loss: 9.4515 - val_acc: 0.0030\n",
      "Epoch 13/1000\n",
      " - 0s - loss: 7.9260 - acc: 0.0029 - val_loss: 11.8797 - val_acc: 0.0023\n",
      "Epoch 00013: early stopping\n",
      "Training finished...Loading the best model\n",
      "\n"
     ]
    }
   ],
   "source": [
    "checkpointer = ModelCheckpoint(filepath=\"save/cnn.hdf5\", verbose=0, save_best_only=True) # save best model\n",
    "input_shape = (7, 5, 1)\n",
    "for i in range(5):\n",
    "    printmd(\"\\n**Iteration**: {}\".format(i))\n",
    "    #print(\"Iteration: {}\".format(i))\n",
    "    #Build network\n",
    "    model = Sequential()\n",
    "\n",
    "    model.add(Conv2D(32, kernel_size=(1, 2), strides=(1, 1), padding='valid',\n",
    "                 activation='relu',\n",
    "                 input_shape=input_shape))\n",
    "    model.add(Conv2D(64, (1, 2), activation='relu'))\n",
    "    model.add(MaxPooling2D(pool_size=(1, 2), strides=None))\n",
    "    model.add(Dropout(0.25)) \n",
    "    model.add(Flatten())\n",
    "    model.add(Dense(128, activation='relu'))\n",
    "    model.add(Dropout(0.5))\n",
    "    model.add(Dense(1))\n",
    "\n",
    "    model.compile(loss=\"mean_squared_error\", optimizer='adam', metrics=['accuracy'])\n",
    "\n",
    "    monitor = EarlyStopping(monitor='val_loss', min_delta=1e-3, patience=5, verbose=1, mode='auto')\n",
    "\n",
    "    model.fit(x_train,y_train, validation_data=(x_test,y_test), callbacks=[monitor,checkpointer],verbose=2,epochs=1000, batch_size=64, shuffle=True)    # Verbosity mode. 0 = silent, 1 = progress bar, 2 = one line per epoch.\n",
    "    \n",
    "    \n",
    "print('Training finished...Loading the best model')  \n",
    "print()\n",
    "model.load_weights('save/cnn.hdf5') # load weights from best model\n"
   ]
  },
  {
   "cell_type": "code",
   "execution_count": 61,
   "metadata": {},
   "outputs": [
    {
     "name": "stdout",
     "output_type": "stream",
     "text": [
      "_________________________________________________________________\n",
      "Layer (type)                 Output Shape              Param #   \n",
      "=================================================================\n",
      "conv2d_27 (Conv2D)           (None, 7, 4, 32)          96        \n",
      "_________________________________________________________________\n",
      "conv2d_28 (Conv2D)           (None, 7, 3, 64)          4160      \n",
      "_________________________________________________________________\n",
      "max_pooling2d_13 (MaxPooling (None, 7, 1, 64)          0         \n",
      "_________________________________________________________________\n",
      "dropout_31 (Dropout)         (None, 7, 1, 64)          0         \n",
      "_________________________________________________________________\n",
      "flatten_11 (Flatten)         (None, 448)               0         \n",
      "_________________________________________________________________\n",
      "dense_43 (Dense)             (None, 128)               57472     \n",
      "_________________________________________________________________\n",
      "dropout_32 (Dropout)         (None, 128)               0         \n",
      "_________________________________________________________________\n",
      "dense_44 (Dense)             (None, 1)                 129       \n",
      "=================================================================\n",
      "Total params: 61,857\n",
      "Trainable params: 61,857\n",
      "Non-trainable params: 0\n",
      "_________________________________________________________________\n"
     ]
    }
   ],
   "source": [
    "model.summary()"
   ]
  },
  {
   "cell_type": "code",
   "execution_count": 62,
   "metadata": {},
   "outputs": [
    {
     "name": "stdout",
     "output_type": "stream",
     "text": [
      "Score (RMSE): 2.6811384030232093\n"
     ]
    }
   ],
   "source": [
    "cnn_pred = model.predict(x_test)\n",
    "cnn_rmse = np.sqrt(metrics.mean_squared_error(cnn_pred,y_test))\n",
    "print(\"Score (RMSE): {}\".format(cnn_rmse))"
   ]
  },
  {
   "cell_type": "code",
   "execution_count": 63,
   "metadata": {},
   "outputs": [
    {
     "data": {
      "image/png": "[encoded data removed]",
      "text/plain": [
       "<Figure size 432x288 with 1 Axes>"
      ]
     },
     "metadata": {
      "needs_background": "light"
     },
     "output_type": "display_data"
    }
   ],
   "source": [
    "chart_regression(cnn_pred.flatten(), y_test)"
   ]
  },
  {
   "cell_type": "code",
   "execution_count": null,
   "metadata": {},
   "outputs": [],
   "source": []
  }
 ],
 "metadata": {
  "kernelspec": {
   "display_name": "TensorFlow-GPU",
   "language": "python",
   "name": "tf-gpu"
  },
  "language_info": {
   "codemirror_mode": {
    "name": "ipython",
    "version": 3
   },
   "file_extension": ".py",
   "mimetype": "text/x-python",
   "name": "python",
   "nbconvert_exporter": "python",
   "pygments_lexer": "ipython3",
   "version": "3.6.8"
  }
 },
 "nbformat": 4,
 "nbformat_minor": 2
}
