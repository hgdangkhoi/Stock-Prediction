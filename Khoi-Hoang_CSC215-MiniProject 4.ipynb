{
 "cells": [
  {
   "cell_type": "markdown",
   "metadata": {},
   "source": [
    "# CSC 215 - MiniProject 4\n",
    "## Khoi Hoang"
   ]
  },
  {
   "cell_type": "code",
   "execution_count": 2,
   "metadata": {},
   "outputs": [],
   "source": [
    "import os\n",
    "import csv\n",
    "import json\n",
    "import numpy as np\n",
    "import pandas as pd\n",
    "import matplotlib.pyplot as plt\n",
    "import collections\n",
    "import sklearn.feature_extraction.text as sk_text\n",
    "import scipy as sp\n",
    "import math\n",
    "from scipy.stats import zscore\n",
    "from sklearn import preprocessing\n",
    "from sklearn.model_selection import train_test_split\n",
    "from sklearn import metrics\n",
    "from sklearn.metrics import roc_curve, auc\n",
    "from sklearn import svm, datasets\n",
    "from sklearn.metrics import confusion_matrix, classification_report\n",
    "from matplotlib.pyplot import figure, show\n",
    "from IPython.display import Markdown, display\n",
    "from sklearn import metrics\n",
    "\n",
    "%matplotlib inline"
   ]
  },
  {
   "cell_type": "code",
   "execution_count": 3,
   "metadata": {},
   "outputs": [],
   "source": [
    "# Encode text values to dummy variables(i.e. [1,0,0],[0,1,0],[0,0,1] for red,green,blue)\n",
    "def encode_text_dummy(df, name):\n",
    "    dummies = pd.get_dummies(df[name])\n",
    "    for x in dummies.columns:\n",
    "        dummy_name = \"{}-{}\".format(name, x)\n",
    "        df[dummy_name] = dummies[x]\n",
    "    df.drop(name, axis=1, inplace=True)\n",
    "\n",
    "# Encode text values to indexes(i.e. [1],[2],[3] for red,green,blue).\n",
    "def encode_text_index(df, name):\n",
    "    le = preprocessing.LabelEncoder()\n",
    "    df[name] = le.fit_transform(df[name])\n",
    "    return le.classes_\n",
    "\n",
    "# Encode a numeric column as zscores\n",
    "def encode_numeric_zscore(df, name, mean=None, sd=None):\n",
    "    if mean is None:\n",
    "        mean = df[name].mean()\n",
    "\n",
    "    if sd is None:\n",
    "        sd = df[name].std()\n",
    "\n",
    "    df[name] = (df[name] - mean) / sd\n",
    "    \n",
    "# Convert all missing values in the specified column to the median\n",
    "def missing_median(df, name):\n",
    "    med = df[name].median()\n",
    "    df[name] = df[name].fillna(med)    \n",
    "\n",
    "# Regression chart.\n",
    "def chart_regression(pred,y,sort=True):\n",
    "    t = pd.DataFrame({'pred' : pred, 'y' : y.flatten()})\n",
    "    if sort:\n",
    "        t.sort_values(by=['y'],inplace=True)\n",
    "    a = plt.plot(t['y'].tolist(),label='expected')\n",
    "    b = plt.plot(t['pred'].tolist(),label='prediction')\n",
    "    plt.ylabel('output')\n",
    "    plt.legend()\n",
    "    plt.show()    \n",
    "    \n",
    "# Convert a Pandas dataframe to the x,y inputs that TensorFlow needs\n",
    "def to_xy(df, target):\n",
    "    result = []\n",
    "    for x in df.columns:\n",
    "        if x != target:\n",
    "            result.append(x)\n",
    "    # find out the type of the target column. \n",
    "    target_type = df[target].dtypes\n",
    "    target_type = target_type[0] if isinstance(target_type, collections.Sequence) else target_type\n",
    "    # Encode to int for classification, float otherwise. TensorFlow likes 32 bits.\n",
    "    if target_type in (np.int64, np.int32):\n",
    "        # Classification\n",
    "        dummies = pd.get_dummies(df[target])\n",
    "        return df[result].values.astype(np.float32), dummies.values.astype(np.float32)\n",
    "    else:\n",
    "        # Regression\n",
    "        return df[result].values.astype(np.float32), df[target].values.astype(np.float32)\n",
    "    \n",
    "# Print markdown style\n",
    "def printmd(string):\n",
    "    display(Markdown(string))\n",
    "    \n",
    "def to_sequences(seq_size, data, target):\n",
    "    x = []\n",
    "    y = []\n",
    "\n",
    "    for i in range(len(data)-seq_size-1):\n",
    "        window = data[i:(i+seq_size)]\n",
    "        after_window = data.iloc[(i+seq_size)]\n",
    "        window = window.values.tolist()\n",
    "        x.append(window)\n",
    "        y.append(after_window[target])\n",
    "        \n",
    "    return np.array(x),np.array(y)\n",
    "\n",
    "def to_sequences_continuous(seq_size, data, target, period):\n",
    "    x = []\n",
    "    y = []\n",
    "\n",
    "    for i in range(len(data)-seq_size-period-1):\n",
    "        window = data[i:(i+seq_size)]\n",
    "        after_window = data[(i+seq_size):(i+seq_size+period)]\n",
    "        window = window.values.tolist()\n",
    "        after_window = after_window[target].values\n",
    "        x.append(window)\n",
    "        y.append(after_window)\n",
    "        \n",
    "    return np.array(x),np.array(y)"
   ]
  },
  {
   "cell_type": "markdown",
   "metadata": {},
   "source": [
    "# Data Preprocessing"
   ]
  },
  {
   "cell_type": "code",
   "execution_count": 72,
   "metadata": {},
   "outputs": [],
   "source": [
    "df = pd.read_csv('CSC215_Project4_Stock_Price.csv')"
   ]
  },
  {
   "cell_type": "code",
   "execution_count": 73,
   "metadata": {},
   "outputs": [
    {
     "data": {
      "text/html": [
       "<div>\n",
       "<style scoped>\n",
       "    .dataframe tbody tr th:only-of-type {\n",
       "        vertical-align: middle;\n",
       "    }\n",
       "\n",
       "    .dataframe tbody tr th {\n",
       "        vertical-align: top;\n",
       "    }\n",
       "\n",
       "    .dataframe thead th {\n",
       "        text-align: right;\n",
       "    }\n",
       "</style>\n",
       "<table border=\"1\" class=\"dataframe\">\n",
       "  <thead>\n",
       "    <tr style=\"text-align: right;\">\n",
       "      <th></th>\n",
       "      <th>Open</th>\n",
       "      <th>High</th>\n",
       "      <th>Low</th>\n",
       "      <th>Close</th>\n",
       "      <th>Volume</th>\n",
       "    </tr>\n",
       "  </thead>\n",
       "  <tbody>\n",
       "    <tr>\n",
       "      <th>0</th>\n",
       "      <td>3.812500</td>\n",
       "      <td>4.156250</td>\n",
       "      <td>3.812500</td>\n",
       "      <td>4.125000</td>\n",
       "      <td>3675600</td>\n",
       "    </tr>\n",
       "    <tr>\n",
       "      <th>1</th>\n",
       "      <td>4.125000</td>\n",
       "      <td>4.125000</td>\n",
       "      <td>4.000000</td>\n",
       "      <td>4.015625</td>\n",
       "      <td>1077600</td>\n",
       "    </tr>\n",
       "    <tr>\n",
       "      <th>2</th>\n",
       "      <td>4.000000</td>\n",
       "      <td>4.031250</td>\n",
       "      <td>3.953125</td>\n",
       "      <td>4.000000</td>\n",
       "      <td>437200</td>\n",
       "    </tr>\n",
       "    <tr>\n",
       "      <th>3</th>\n",
       "      <td>4.000000</td>\n",
       "      <td>4.000000</td>\n",
       "      <td>3.843750</td>\n",
       "      <td>3.843750</td>\n",
       "      <td>1883600</td>\n",
       "    </tr>\n",
       "    <tr>\n",
       "      <th>4</th>\n",
       "      <td>3.734375</td>\n",
       "      <td>3.734375</td>\n",
       "      <td>3.390625</td>\n",
       "      <td>3.390625</td>\n",
       "      <td>7931600</td>\n",
       "    </tr>\n",
       "  </tbody>\n",
       "</table>\n",
       "</div>"
      ],
      "text/plain": [
       "       Open      High       Low     Close   Volume\n",
       "0  3.812500  4.156250  3.812500  4.125000  3675600\n",
       "1  4.125000  4.125000  4.000000  4.015625  1077600\n",
       "2  4.000000  4.031250  3.953125  4.000000   437200\n",
       "3  4.000000  4.000000  3.843750  3.843750  1883600\n",
       "4  3.734375  3.734375  3.390625  3.390625  7931600"
      ]
     },
     "execution_count": 73,
     "metadata": {},
     "output_type": "execute_result"
    }
   ],
   "source": [
    "df.drop(columns=['Adj_Close','Date'], inplace=True)\n",
    "df.head()"
   ]
  },
  {
   "cell_type": "code",
   "execution_count": 74,
   "metadata": {},
   "outputs": [
    {
     "name": "stdout",
     "output_type": "stream",
     "text": [
      "(4392, 5)\n"
     ]
    },
    {
     "data": {
      "text/html": [
       "<div>\n",
       "<style scoped>\n",
       "    .dataframe tbody tr th:only-of-type {\n",
       "        vertical-align: middle;\n",
       "    }\n",
       "\n",
       "    .dataframe tbody tr th {\n",
       "        vertical-align: top;\n",
       "    }\n",
       "\n",
       "    .dataframe thead th {\n",
       "        text-align: right;\n",
       "    }\n",
       "</style>\n",
       "<table border=\"1\" class=\"dataframe\">\n",
       "  <thead>\n",
       "    <tr style=\"text-align: right;\">\n",
       "      <th></th>\n",
       "      <th>Open</th>\n",
       "      <th>High</th>\n",
       "      <th>Low</th>\n",
       "      <th>Close</th>\n",
       "      <th>Volume</th>\n",
       "    </tr>\n",
       "  </thead>\n",
       "  <tbody>\n",
       "    <tr>\n",
       "      <th>4387</th>\n",
       "      <td>2.782154</td>\n",
       "      <td>2.754177</td>\n",
       "      <td>2.787407</td>\n",
       "      <td>113.309998</td>\n",
       "      <td>-0.575988</td>\n",
       "    </tr>\n",
       "    <tr>\n",
       "      <th>4388</th>\n",
       "      <td>2.739700</td>\n",
       "      <td>2.735310</td>\n",
       "      <td>2.732368</td>\n",
       "      <td>111.870003</td>\n",
       "      <td>-0.048610</td>\n",
       "    </tr>\n",
       "    <tr>\n",
       "      <th>4389</th>\n",
       "      <td>2.723320</td>\n",
       "      <td>2.700885</td>\n",
       "      <td>2.701641</td>\n",
       "      <td>112.230003</td>\n",
       "      <td>0.155816</td>\n",
       "    </tr>\n",
       "    <tr>\n",
       "      <th>4390</th>\n",
       "      <td>2.737694</td>\n",
       "      <td>2.714457</td>\n",
       "      <td>2.760732</td>\n",
       "      <td>112.339996</td>\n",
       "      <td>-0.390000</td>\n",
       "    </tr>\n",
       "    <tr>\n",
       "      <th>4391</th>\n",
       "      <td>2.732346</td>\n",
       "      <td>2.777017</td>\n",
       "      <td>2.761069</td>\n",
       "      <td>113.190002</td>\n",
       "      <td>-0.167936</td>\n",
       "    </tr>\n",
       "  </tbody>\n",
       "</table>\n",
       "</div>"
      ],
      "text/plain": [
       "          Open      High       Low       Close    Volume\n",
       "4387  2.782154  2.754177  2.787407  113.309998 -0.575988\n",
       "4388  2.739700  2.735310  2.732368  111.870003 -0.048610\n",
       "4389  2.723320  2.700885  2.701641  112.230003  0.155816\n",
       "4390  2.737694  2.714457  2.760732  112.339996 -0.390000\n",
       "4391  2.732346  2.777017  2.761069  113.190002 -0.167936"
      ]
     },
     "execution_count": 74,
     "metadata": {},
     "output_type": "execute_result"
    }
   ],
   "source": [
    "encode_numeric_zscore(df, 'Open')\n",
    "encode_numeric_zscore(df, 'High')\n",
    "encode_numeric_zscore(df, 'Low')\n",
    "encode_numeric_zscore(df, 'Volume')\n",
    "print(df.shape)\n",
    "df.tail()"
   ]
  },
  {
   "cell_type": "code",
   "execution_count": 75,
   "metadata": {},
   "outputs": [],
   "source": [
    "x, y = to_xy(df, 'Close')"
   ]
  },
  {
   "cell_type": "code",
   "execution_count": 76,
   "metadata": {},
   "outputs": [],
   "source": [
    "x_train = x[0:int(0.7*len(x))]\n",
    "x_test = x[int(0.7*len(x)):]\n",
    "y_train = y[0:int(0.7*len(y))]\n",
    "y_test = y[int(0.7*len(y)):]"
   ]
  },
  {
   "cell_type": "code",
   "execution_count": 77,
   "metadata": {},
   "outputs": [],
   "source": [
    "#x_train, x_test, y_train, y_test = train_test_split(x, y, test_size=0.3, random_state=43)"
   ]
  },
  {
   "cell_type": "code",
   "execution_count": 78,
   "metadata": {},
   "outputs": [
    {
     "data": {
      "text/plain": [
       "(1318, 4)"
      ]
     },
     "execution_count": 78,
     "metadata": {},
     "output_type": "execute_result"
    }
   ],
   "source": [
    "x_test.shape"
   ]
  },
  {
   "cell_type": "markdown",
   "metadata": {},
   "source": [
    "# Fully Connected Neural Network"
   ]
  },
  {
   "cell_type": "code",
   "execution_count": 4,
   "metadata": {},
   "outputs": [
    {
     "name": "stderr",
     "output_type": "stream",
     "text": [
      "Using TensorFlow backend.\n"
     ]
    }
   ],
   "source": [
    "from keras.preprocessing import sequence\n",
    "from keras.models import Sequential\n",
    "from keras.layers import Dense, Activation, Dropout, Flatten\n",
    "from keras.layers import LSTM, Embedding, Bidirectional, Conv2D, MaxPooling2D, TimeDistributed\n",
    "from keras.callbacks import EarlyStopping\n",
    "from keras.callbacks import ModelCheckpoint\n",
    "from keras import optimizers\n",
    "from tensorflow import keras"
   ]
  },
  {
   "cell_type": "code",
   "execution_count": 80,
   "metadata": {},
   "outputs": [
    {
     "data": {
      "text/markdown": [
       "\n",
       "**Iteration**: 0"
      ],
      "text/plain": [
       "<IPython.core.display.Markdown object>"
      ]
     },
     "metadata": {},
     "output_type": "display_data"
    },
    {
     "name": "stdout",
     "output_type": "stream",
     "text": [
      "Train on 3074 samples, validate on 1318 samples\n",
      "Epoch 1/500\n",
      " - 5s - loss: 202.0562 - val_loss: 706.7568\n",
      "Epoch 2/500\n",
      " - 0s - loss: 34.0060 - val_loss: 320.3829\n",
      "Epoch 3/500\n",
      " - 0s - loss: 14.2902 - val_loss: 29.3341\n",
      "Epoch 4/500\n",
      " - 0s - loss: 6.9774 - val_loss: 34.4929\n",
      "Epoch 5/500\n",
      " - 0s - loss: 5.0376 - val_loss: 9.0658\n",
      "Epoch 6/500\n",
      " - 0s - loss: 5.4209 - val_loss: 10.7652\n",
      "Epoch 7/500\n",
      " - 0s - loss: 4.6031 - val_loss: 1.6759\n",
      "Epoch 8/500\n",
      " - 0s - loss: 4.0116 - val_loss: 0.9657\n",
      "Epoch 9/500\n",
      " - 0s - loss: 4.1155 - val_loss: 17.3785\n",
      "Epoch 10/500\n",
      " - 0s - loss: 4.4731 - val_loss: 2.6724\n",
      "Epoch 11/500\n",
      " - 0s - loss: 4.0817 - val_loss: 1.6240\n",
      "Epoch 12/500\n",
      " - 0s - loss: 4.0084 - val_loss: 0.8039\n",
      "Epoch 13/500\n",
      " - 0s - loss: 4.0582 - val_loss: 1.1988\n",
      "Epoch 14/500\n",
      " - 0s - loss: 3.8573 - val_loss: 0.7555\n",
      "Epoch 15/500\n",
      " - 0s - loss: 3.7752 - val_loss: 0.7609\n",
      "Epoch 16/500\n",
      " - 0s - loss: 3.5667 - val_loss: 2.1325\n",
      "Epoch 17/500\n",
      " - 0s - loss: 3.7250 - val_loss: 1.9559\n",
      "Epoch 18/500\n",
      " - 0s - loss: 3.5108 - val_loss: 0.9272\n",
      "Epoch 19/500\n",
      " - 0s - loss: 3.2309 - val_loss: 1.3142\n",
      "Epoch 00019: early stopping\n"
     ]
    },
    {
     "data": {
      "text/markdown": [
       "\n",
       "**Iteration**: 1"
      ],
      "text/plain": [
       "<IPython.core.display.Markdown object>"
      ]
     },
     "metadata": {},
     "output_type": "display_data"
    },
    {
     "name": "stdout",
     "output_type": "stream",
     "text": [
      "Train on 3074 samples, validate on 1318 samples\n",
      "Epoch 1/500\n",
      " - 5s - loss: 217.6636 - val_loss: 341.4458\n",
      "Epoch 2/500\n",
      " - 0s - loss: 37.1892 - val_loss: 682.9837\n",
      "Epoch 3/500\n",
      " - 0s - loss: 15.7642 - val_loss: 214.4050\n",
      "Epoch 4/500\n",
      " - 0s - loss: 7.7395 - val_loss: 41.8669\n",
      "Epoch 5/500\n",
      " - 0s - loss: 6.5251 - val_loss: 8.8059\n",
      "Epoch 6/500\n",
      " - 0s - loss: 4.7972 - val_loss: 14.6890\n",
      "Epoch 7/500\n",
      " - 0s - loss: 4.4881 - val_loss: 13.7452\n",
      "Epoch 8/500\n",
      " - 0s - loss: 4.3976 - val_loss: 1.4591\n",
      "Epoch 9/500\n",
      " - 0s - loss: 3.9150 - val_loss: 1.1404\n",
      "Epoch 10/500\n",
      " - 0s - loss: 4.1602 - val_loss: 11.8671\n",
      "Epoch 11/500\n",
      " - 0s - loss: 3.9929 - val_loss: 9.8889\n",
      "Epoch 12/500\n",
      " - 0s - loss: 3.9794 - val_loss: 10.3303\n",
      "Epoch 13/500\n",
      " - 0s - loss: 3.7777 - val_loss: 14.8949\n",
      "Epoch 14/500\n",
      " - 0s - loss: 3.8182 - val_loss: 1.9643\n",
      "Epoch 00014: early stopping\n"
     ]
    },
    {
     "data": {
      "text/markdown": [
       "\n",
       "**Iteration**: 2"
      ],
      "text/plain": [
       "<IPython.core.display.Markdown object>"
      ]
     },
     "metadata": {},
     "output_type": "display_data"
    },
    {
     "name": "stdout",
     "output_type": "stream",
     "text": [
      "Train on 3074 samples, validate on 1318 samples\n",
      "Epoch 1/500\n",
      " - 5s - loss: 238.7751 - val_loss: 142.2056\n",
      "Epoch 2/500\n",
      " - 0s - loss: 43.1806 - val_loss: 618.7686\n",
      "Epoch 3/500\n",
      " - 0s - loss: 18.4831 - val_loss: 218.8488\n",
      "Epoch 4/500\n",
      " - 0s - loss: 7.9986 - val_loss: 47.1625\n",
      "Epoch 5/500\n",
      " - 0s - loss: 6.2089 - val_loss: 17.7729\n",
      "Epoch 6/500\n",
      " - 0s - loss: 4.8596 - val_loss: 16.8153\n",
      "Epoch 7/500\n",
      " - 0s - loss: 4.6276 - val_loss: 10.7346\n",
      "Epoch 8/500\n",
      " - 0s - loss: 4.3959 - val_loss: 5.5141\n",
      "Epoch 9/500\n",
      " - 0s - loss: 4.1078 - val_loss: 4.1541\n",
      "Epoch 10/500\n",
      " - 0s - loss: 4.0127 - val_loss: 1.4844\n",
      "Epoch 11/500\n",
      " - 0s - loss: 4.0847 - val_loss: 1.2381\n",
      "Epoch 12/500\n",
      " - 0s - loss: 3.9145 - val_loss: 1.0911\n",
      "Epoch 13/500\n",
      " - 0s - loss: 3.6696 - val_loss: 4.2918\n",
      "Epoch 14/500\n",
      " - 0s - loss: 3.9225 - val_loss: 5.3868\n",
      "Epoch 15/500\n",
      " - 0s - loss: 3.7360 - val_loss: 1.5979\n",
      "Epoch 16/500\n",
      " - 0s - loss: 3.4686 - val_loss: 2.4449\n",
      "Epoch 17/500\n",
      " - 0s - loss: 3.5391 - val_loss: 0.8711\n",
      "Epoch 18/500\n",
      " - 0s - loss: 3.4627 - val_loss: 1.0050\n",
      "Epoch 19/500\n",
      " - 0s - loss: 3.4514 - val_loss: 0.7024\n",
      "Epoch 20/500\n",
      " - 0s - loss: 3.1804 - val_loss: 12.4710\n",
      "Epoch 21/500\n",
      " - 0s - loss: 3.4012 - val_loss: 7.0532\n",
      "Epoch 22/500\n",
      " - 0s - loss: 3.2428 - val_loss: 0.7086\n",
      "Epoch 23/500\n",
      " - 0s - loss: 3.0598 - val_loss: 1.2229\n",
      "Epoch 24/500\n",
      " - 0s - loss: 3.2142 - val_loss: 3.1764\n",
      "Epoch 00024: early stopping\n"
     ]
    },
    {
     "data": {
      "text/markdown": [
       "\n",
       "**Iteration**: 3"
      ],
      "text/plain": [
       "<IPython.core.display.Markdown object>"
      ]
     },
     "metadata": {},
     "output_type": "display_data"
    },
    {
     "name": "stdout",
     "output_type": "stream",
     "text": [
      "Train on 3074 samples, validate on 1318 samples\n",
      "Epoch 1/500\n",
      " - 6s - loss: 237.5039 - val_loss: 264.6248\n",
      "Epoch 2/500\n",
      " - 0s - loss: 44.5510 - val_loss: 804.0712\n",
      "Epoch 3/500\n",
      " - 0s - loss: 13.5256 - val_loss: 167.4516\n",
      "Epoch 4/500\n",
      " - 0s - loss: 7.5128 - val_loss: 56.6868\n",
      "Epoch 5/500\n",
      " - 0s - loss: 6.0453 - val_loss: 33.9089\n",
      "Epoch 6/500\n",
      " - 0s - loss: 5.6254 - val_loss: 3.7632\n",
      "Epoch 7/500\n",
      " - 0s - loss: 4.8433 - val_loss: 2.5888\n",
      "Epoch 8/500\n",
      " - 0s - loss: 4.3641 - val_loss: 1.4065\n",
      "Epoch 9/500\n",
      " - 0s - loss: 4.1552 - val_loss: 7.2212\n",
      "Epoch 10/500\n",
      " - 0s - loss: 4.4693 - val_loss: 2.3375\n",
      "Epoch 11/500\n",
      " - 0s - loss: 3.9003 - val_loss: 4.4420\n",
      "Epoch 12/500\n",
      " - 0s - loss: 3.9944 - val_loss: 0.8938\n",
      "Epoch 13/500\n",
      " - 0s - loss: 3.8021 - val_loss: 0.9906\n",
      "Epoch 14/500\n",
      " - 0s - loss: 3.5974 - val_loss: 0.8782\n",
      "Epoch 15/500\n",
      " - 0s - loss: 3.8197 - val_loss: 13.4800\n",
      "Epoch 16/500\n",
      " - 0s - loss: 3.5702 - val_loss: 6.8251\n",
      "Epoch 17/500\n",
      " - 0s - loss: 3.3575 - val_loss: 1.7644\n",
      "Epoch 18/500\n",
      " - 0s - loss: 3.5703 - val_loss: 1.0592\n",
      "Epoch 19/500\n",
      " - 0s - loss: 3.7675 - val_loss: 1.3613\n",
      "Epoch 00019: early stopping\n"
     ]
    },
    {
     "data": {
      "text/markdown": [
       "\n",
       "**Iteration**: 4"
      ],
      "text/plain": [
       "<IPython.core.display.Markdown object>"
      ]
     },
     "metadata": {},
     "output_type": "display_data"
    },
    {
     "name": "stdout",
     "output_type": "stream",
     "text": [
      "Train on 3074 samples, validate on 1318 samples\n",
      "Epoch 1/500\n",
      " - 6s - loss: 225.0996 - val_loss: 156.8035\n",
      "Epoch 2/500\n",
      " - 0s - loss: 39.9888 - val_loss: 678.4245\n",
      "Epoch 3/500\n",
      " - 0s - loss: 16.3573 - val_loss: 170.6255\n",
      "Epoch 4/500\n",
      " - 0s - loss: 7.7795 - val_loss: 34.0032\n",
      "Epoch 5/500\n",
      " - 0s - loss: 5.5854 - val_loss: 14.7025\n",
      "Epoch 6/500\n",
      " - 0s - loss: 4.9831 - val_loss: 7.7776\n",
      "Epoch 7/500\n",
      " - 0s - loss: 4.1217 - val_loss: 1.3237\n",
      "Epoch 8/500\n",
      " - 0s - loss: 4.2929 - val_loss: 1.8830\n",
      "Epoch 9/500\n",
      " - 0s - loss: 3.8826 - val_loss: 2.2752\n",
      "Epoch 10/500\n",
      " - 0s - loss: 3.7545 - val_loss: 7.1701\n",
      "Epoch 11/500\n",
      " - 0s - loss: 3.7741 - val_loss: 1.8333\n",
      "Epoch 12/500\n",
      " - 0s - loss: 3.6427 - val_loss: 1.8949\n",
      "Epoch 00012: early stopping\n",
      "Training finished...Loading the best model\n",
      "\n"
     ]
    }
   ],
   "source": [
    "checkpointer = ModelCheckpoint(filepath=\"save/nn.hdf5\", verbose=0, save_best_only=True) # save best model\n",
    "for i in range(5):\n",
    "    printmd(\"\\n**Iteration**: {}\".format(i))\n",
    "    model = Sequential()\n",
    "\n",
    "    model.add(Dense(128, input_dim=x_train.shape[1], activation='relu')) # Hidden 1     #  why input_dim=x.shape[1]?  \n",
    "    model.add(Dropout(0.25))\n",
    "    model.add(Dense(64, activation='relu')) # Hidden 2\n",
    "    model.add(Dropout(0.25))\n",
    "    model.add(Dense(32, activation='relu')) \n",
    "    model.add(Dense(1)) # Output\n",
    "\n",
    "    model.compile(loss='mean_squared_error', optimizer='adam')\n",
    "\n",
    "    monitor = EarlyStopping(monitor='val_loss', min_delta=1e-3, patience=5, verbose=1, mode='auto')\n",
    "\n",
    "    model.fit(x_train,y_train,validation_data=(x_test,y_test), callbacks=[monitor,checkpointer],verbose=2,epochs=500, batch_size=32, shuffle=True)\n",
    "\n",
    "print('Training finished...Loading the best model')  \n",
    "print()\n",
    "model.load_weights(\"save/nn.hdf5\") # load weights from best model    "
   ]
  },
  {
   "cell_type": "code",
   "execution_count": 81,
   "metadata": {},
   "outputs": [
    {
     "name": "stdout",
     "output_type": "stream",
     "text": [
      "_________________________________________________________________\n",
      "Layer (type)                 Output Shape              Param #   \n",
      "=================================================================\n",
      "dense_31 (Dense)             (None, 128)               640       \n",
      "_________________________________________________________________\n",
      "dropout_9 (Dropout)          (None, 128)               0         \n",
      "_________________________________________________________________\n",
      "dense_32 (Dense)             (None, 64)                8256      \n",
      "_________________________________________________________________\n",
      "dropout_10 (Dropout)         (None, 64)                0         \n",
      "_________________________________________________________________\n",
      "dense_33 (Dense)             (None, 32)                2080      \n",
      "_________________________________________________________________\n",
      "dense_34 (Dense)             (None, 1)                 33        \n",
      "=================================================================\n",
      "Total params: 11,009\n",
      "Trainable params: 11,009\n",
      "Non-trainable params: 0\n",
      "_________________________________________________________________\n"
     ]
    }
   ],
   "source": [
    "model.summary()"
   ]
  },
  {
   "cell_type": "code",
   "execution_count": 82,
   "metadata": {},
   "outputs": [
    {
     "data": {
      "text/markdown": [
       "-----------------**Fully-Connected Neural Network Report**---------------"
      ],
      "text/plain": [
       "<IPython.core.display.Markdown object>"
      ]
     },
     "metadata": {},
     "output_type": "display_data"
    },
    {
     "name": "stdout",
     "output_type": "stream",
     "text": [
      "RMSE score: 0.838088870048523\n"
     ]
    }
   ],
   "source": [
    "nn_pred = model.predict(x_test)\n",
    "\n",
    "nn_rmse = np.sqrt(metrics.mean_squared_error(nn_pred, y_test))\n",
    "printmd(\"-----------------**Fully-Connected Neural Network Report**---------------\")\n",
    "print(\"RMSE score: {}\".format(nn_rmse))"
   ]
  },
  {
   "cell_type": "code",
   "execution_count": 83,
   "metadata": {},
   "outputs": [
    {
     "data": {
      "image/png": "[encoded data removed]",
      "text/plain": [
       "<Figure size 432x288 with 1 Axes>"
      ]
     },
     "metadata": {
      "needs_background": "light"
     },
     "output_type": "display_data"
    }
   ],
   "source": [
    "chart_regression(nn_pred.flatten(), y_test)"
   ]
  },
  {
   "cell_type": "markdown",
   "metadata": {},
   "source": [
    "# LSTM model"
   ]
  },
  {
   "cell_type": "code",
   "execution_count": 121,
   "metadata": {},
   "outputs": [],
   "source": [
    "df = pd.read_csv('CSC215_Project4_Stock_Price.csv')"
   ]
  },
  {
   "cell_type": "code",
   "execution_count": 122,
   "metadata": {},
   "outputs": [
    {
     "data": {
      "text/html": [
       "<div>\n",
       "<style scoped>\n",
       "    .dataframe tbody tr th:only-of-type {\n",
       "        vertical-align: middle;\n",
       "    }\n",
       "\n",
       "    .dataframe tbody tr th {\n",
       "        vertical-align: top;\n",
       "    }\n",
       "\n",
       "    .dataframe thead th {\n",
       "        text-align: right;\n",
       "    }\n",
       "</style>\n",
       "<table border=\"1\" class=\"dataframe\">\n",
       "  <thead>\n",
       "    <tr style=\"text-align: right;\">\n",
       "      <th></th>\n",
       "      <th>Open</th>\n",
       "      <th>High</th>\n",
       "      <th>Low</th>\n",
       "      <th>Close</th>\n",
       "      <th>Volume</th>\n",
       "    </tr>\n",
       "  </thead>\n",
       "  <tbody>\n",
       "    <tr>\n",
       "      <th>0</th>\n",
       "      <td>3.812500</td>\n",
       "      <td>4.156250</td>\n",
       "      <td>3.812500</td>\n",
       "      <td>4.125000</td>\n",
       "      <td>3675600</td>\n",
       "    </tr>\n",
       "    <tr>\n",
       "      <th>1</th>\n",
       "      <td>4.125000</td>\n",
       "      <td>4.125000</td>\n",
       "      <td>4.000000</td>\n",
       "      <td>4.015625</td>\n",
       "      <td>1077600</td>\n",
       "    </tr>\n",
       "    <tr>\n",
       "      <th>2</th>\n",
       "      <td>4.000000</td>\n",
       "      <td>4.031250</td>\n",
       "      <td>3.953125</td>\n",
       "      <td>4.000000</td>\n",
       "      <td>437200</td>\n",
       "    </tr>\n",
       "    <tr>\n",
       "      <th>3</th>\n",
       "      <td>4.000000</td>\n",
       "      <td>4.000000</td>\n",
       "      <td>3.843750</td>\n",
       "      <td>3.843750</td>\n",
       "      <td>1883600</td>\n",
       "    </tr>\n",
       "    <tr>\n",
       "      <th>4</th>\n",
       "      <td>3.734375</td>\n",
       "      <td>3.734375</td>\n",
       "      <td>3.390625</td>\n",
       "      <td>3.390625</td>\n",
       "      <td>7931600</td>\n",
       "    </tr>\n",
       "  </tbody>\n",
       "</table>\n",
       "</div>"
      ],
      "text/plain": [
       "       Open      High       Low     Close   Volume\n",
       "0  3.812500  4.156250  3.812500  4.125000  3675600\n",
       "1  4.125000  4.125000  4.000000  4.015625  1077600\n",
       "2  4.000000  4.031250  3.953125  4.000000   437200\n",
       "3  4.000000  4.000000  3.843750  3.843750  1883600\n",
       "4  3.734375  3.734375  3.390625  3.390625  7931600"
      ]
     },
     "execution_count": 122,
     "metadata": {},
     "output_type": "execute_result"
    }
   ],
   "source": [
    "df.drop(columns=['Adj_Close','Date'], inplace=True)\n",
    "df.head()"
   ]
  },
  {
   "cell_type": "code",
   "execution_count": 123,
   "metadata": {},
   "outputs": [],
   "source": [
    "SEQUENCE_SIZE = 7\n",
    "x, y = to_sequences(SEQUENCE_SIZE,df, 'Close')"
   ]
  },
  {
   "cell_type": "code",
   "execution_count": 124,
   "metadata": {},
   "outputs": [
    {
     "name": "stdout",
     "output_type": "stream",
     "text": [
      "Shape of x_train: (3068, 7, 5)\n",
      "Shape of x_test: (1316, 7, 5)\n",
      "Shape of y_train: (3068,)\n",
      "Shape of y_test: (1316,)\n"
     ]
    }
   ],
   "source": [
    "x = zscore(x)\n",
    "x_train = x[0:int(0.7*len(x))]\n",
    "x_test = x[int(0.7*len(x)):]\n",
    "y_train = y[0:int(0.7*len(y))]\n",
    "y_test = y[int(0.7*len(y)):]\n",
    "#x_train, x_test, y_train, y_test = train_test_split(x, y, test_size=0.3)\n",
    "print(\"Shape of x_train: {}\".format(x_train.shape))\n",
    "print(\"Shape of x_test: {}\".format(x_test.shape))\n",
    "print(\"Shape of y_train: {}\".format(y_train.shape))\n",
    "print(\"Shape of y_test: {}\".format(y_test.shape))"
   ]
  },
  {
   "cell_type": "code",
   "execution_count": 125,
   "metadata": {},
   "outputs": [
    {
     "data": {
      "text/markdown": [
       "\n",
       "**Iteration**: 0"
      ],
      "text/plain": [
       "<IPython.core.display.Markdown object>"
      ]
     },
     "metadata": {},
     "output_type": "display_data"
    },
    {
     "name": "stdout",
     "output_type": "stream",
     "text": [
      "Train on 3068 samples, validate on 1316 samples\n",
      "Epoch 1/1000\n",
      " - 16s - loss: 300.9320 - val_loss: 5813.0772\n",
      "Epoch 2/1000\n",
      " - 2s - loss: 135.9596 - val_loss: 1007.2131\n",
      "Epoch 3/1000\n",
      " - 2s - loss: 35.9053 - val_loss: 303.4555\n",
      "Epoch 4/1000\n",
      " - 2s - loss: 25.2950 - val_loss: 241.1819\n",
      "Epoch 5/1000\n",
      " - 2s - loss: 16.7182 - val_loss: 101.0043\n",
      "Epoch 6/1000\n",
      " - 2s - loss: 13.2214 - val_loss: 88.4555\n",
      "Epoch 7/1000\n",
      " - 2s - loss: 12.7915 - val_loss: 39.8825\n",
      "Epoch 8/1000\n",
      " - 2s - loss: 10.4859 - val_loss: 95.2620\n",
      "Epoch 9/1000\n",
      " - 2s - loss: 9.8650 - val_loss: 86.9293\n",
      "Epoch 10/1000\n",
      " - 2s - loss: 9.7275 - val_loss: 34.4118\n",
      "Epoch 11/1000\n",
      " - 2s - loss: 8.1716 - val_loss: 26.8010\n",
      "Epoch 12/1000\n",
      " - 2s - loss: 7.7335 - val_loss: 21.6333\n",
      "Epoch 13/1000\n",
      " - 2s - loss: 6.5540 - val_loss: 58.6430\n",
      "Epoch 14/1000\n",
      " - 2s - loss: 6.7259 - val_loss: 40.2434\n",
      "Epoch 15/1000\n",
      " - 2s - loss: 6.6184 - val_loss: 17.1496\n",
      "Epoch 16/1000\n",
      " - 2s - loss: 5.9397 - val_loss: 31.4424\n",
      "Epoch 17/1000\n",
      " - 2s - loss: 5.6065 - val_loss: 32.1784\n",
      "Epoch 18/1000\n",
      " - 2s - loss: 4.9279 - val_loss: 24.6885\n",
      "Epoch 19/1000\n",
      " - 2s - loss: 4.9567 - val_loss: 21.4689\n",
      "Epoch 20/1000\n",
      " - 2s - loss: 4.6593 - val_loss: 42.7256\n",
      "Epoch 00020: early stopping\n"
     ]
    },
    {
     "data": {
      "text/markdown": [
       "\n",
       "**Iteration**: 1"
      ],
      "text/plain": [
       "<IPython.core.display.Markdown object>"
      ]
     },
     "metadata": {},
     "output_type": "display_data"
    },
    {
     "name": "stdout",
     "output_type": "stream",
     "text": [
      "Train on 3068 samples, validate on 1316 samples\n",
      "Epoch 1/1000\n",
      " - 15s - loss: 279.9431 - val_loss: 160677.4287\n",
      "Epoch 2/1000\n",
      " - 2s - loss: 87.4229 - val_loss: 14955.0013\n",
      "Epoch 3/1000\n",
      " - 2s - loss: 34.8185 - val_loss: 2152.6834\n",
      "Epoch 4/1000\n",
      " - 2s - loss: 21.0708 - val_loss: 1082.5802\n",
      "Epoch 5/1000\n",
      " - 2s - loss: 16.3647 - val_loss: 689.3818\n",
      "Epoch 6/1000\n",
      " - 2s - loss: 14.4268 - val_loss: 225.9438\n",
      "Epoch 7/1000\n",
      " - 2s - loss: 13.0391 - val_loss: 128.1731\n",
      "Epoch 8/1000\n",
      " - 2s - loss: 11.8062 - val_loss: 36.2807\n",
      "Epoch 9/1000\n",
      " - 2s - loss: 10.4648 - val_loss: 34.6682\n",
      "Epoch 10/1000\n",
      " - 2s - loss: 9.7183 - val_loss: 41.1534\n",
      "Epoch 11/1000\n",
      " - 2s - loss: 8.8223 - val_loss: 48.0214\n",
      "Epoch 12/1000\n",
      " - 2s - loss: 8.8688 - val_loss: 105.6340\n",
      "Epoch 13/1000\n",
      " - 2s - loss: 7.3632 - val_loss: 83.4002\n",
      "Epoch 14/1000\n",
      " - 2s - loss: 7.3471 - val_loss: 44.4774\n",
      "Epoch 00014: early stopping\n"
     ]
    },
    {
     "data": {
      "text/markdown": [
       "\n",
       "**Iteration**: 2"
      ],
      "text/plain": [
       "<IPython.core.display.Markdown object>"
      ]
     },
     "metadata": {},
     "output_type": "display_data"
    },
    {
     "name": "stdout",
     "output_type": "stream",
     "text": [
      "Train on 3068 samples, validate on 1316 samples\n",
      "Epoch 1/1000\n",
      " - 15s - loss: 345.7495 - val_loss: 5758.2398\n",
      "Epoch 2/1000\n",
      " - 2s - loss: 151.6764 - val_loss: 47351.6376\n",
      "Epoch 3/1000\n",
      " - 2s - loss: 64.3887 - val_loss: 7754.9506\n",
      "Epoch 4/1000\n",
      " - 2s - loss: 33.6850 - val_loss: 1132.8704\n",
      "Epoch 5/1000\n",
      " - 2s - loss: 19.9241 - val_loss: 420.7928\n",
      "Epoch 6/1000\n",
      " - 2s - loss: 17.0494 - val_loss: 79.6113\n",
      "Epoch 7/1000\n",
      " - 2s - loss: 14.9556 - val_loss: 20.5110\n",
      "Epoch 8/1000\n",
      " - 2s - loss: 11.9737 - val_loss: 134.2496\n",
      "Epoch 9/1000\n",
      " - 2s - loss: 11.7904 - val_loss: 52.7882\n",
      "Epoch 10/1000\n",
      " - 2s - loss: 10.3482 - val_loss: 76.6751\n",
      "Epoch 11/1000\n",
      " - 2s - loss: 9.1667 - val_loss: 95.9082\n",
      "Epoch 12/1000\n",
      " - 2s - loss: 8.6422 - val_loss: 143.8228\n",
      "Epoch 00012: early stopping\n"
     ]
    },
    {
     "data": {
      "text/markdown": [
       "\n",
       "**Iteration**: 3"
      ],
      "text/plain": [
       "<IPython.core.display.Markdown object>"
      ]
     },
     "metadata": {},
     "output_type": "display_data"
    },
    {
     "name": "stdout",
     "output_type": "stream",
     "text": [
      "Train on 3068 samples, validate on 1316 samples\n",
      "Epoch 1/1000\n",
      " - 16s - loss: 292.9327 - val_loss: 755401.1401\n",
      "Epoch 2/1000\n",
      " - 2s - loss: 175.9176 - val_loss: 54317.3455\n",
      "Epoch 3/1000\n",
      " - 2s - loss: 50.5222 - val_loss: 8653.4246\n",
      "Epoch 4/1000\n",
      " - 2s - loss: 30.7618 - val_loss: 2677.6194\n",
      "Epoch 5/1000\n",
      " - 2s - loss: 25.6293 - val_loss: 1286.5145\n",
      "Epoch 6/1000\n",
      " - 2s - loss: 19.3432 - val_loss: 346.4802\n",
      "Epoch 7/1000\n",
      " - 2s - loss: 16.2660 - val_loss: 113.8030\n",
      "Epoch 8/1000\n",
      " - 2s - loss: 15.3711 - val_loss: 179.5720\n",
      "Epoch 9/1000\n",
      " - 2s - loss: 14.2937 - val_loss: 91.4041\n",
      "Epoch 10/1000\n",
      " - 2s - loss: 13.1949 - val_loss: 78.5971\n",
      "Epoch 11/1000\n",
      " - 2s - loss: 11.8741 - val_loss: 95.6326\n",
      "Epoch 12/1000\n",
      " - 2s - loss: 10.3320 - val_loss: 110.8594\n",
      "Epoch 13/1000\n",
      " - 2s - loss: 10.8714 - val_loss: 178.0841\n",
      "Epoch 14/1000\n",
      " - 2s - loss: 9.5985 - val_loss: 176.7633\n",
      "Epoch 15/1000\n",
      " - 2s - loss: 9.2740 - val_loss: 41.0404\n",
      "Epoch 16/1000\n",
      " - 2s - loss: 8.9137 - val_loss: 224.8587\n",
      "Epoch 17/1000\n",
      " - 2s - loss: 8.1622 - val_loss: 335.9841\n",
      "Epoch 18/1000\n",
      " - 2s - loss: 8.2637 - val_loss: 129.3185\n",
      "Epoch 19/1000\n",
      " - 2s - loss: 7.8544 - val_loss: 164.2337\n",
      "Epoch 20/1000\n",
      " - 2s - loss: 7.2652 - val_loss: 42.6936\n",
      "Epoch 00020: early stopping\n"
     ]
    },
    {
     "data": {
      "text/markdown": [
       "\n",
       "**Iteration**: 4"
      ],
      "text/plain": [
       "<IPython.core.display.Markdown object>"
      ]
     },
     "metadata": {},
     "output_type": "display_data"
    },
    {
     "name": "stdout",
     "output_type": "stream",
     "text": [
      "Train on 3068 samples, validate on 1316 samples\n",
      "Epoch 1/1000\n",
      " - 16s - loss: 278.8602 - val_loss: 274357.1051\n",
      "Epoch 2/1000\n",
      " - 2s - loss: 159.8319 - val_loss: 16751.2436\n",
      "Epoch 3/1000\n",
      " - 2s - loss: 38.9446 - val_loss: 5649.2215\n",
      "Epoch 4/1000\n",
      " - 2s - loss: 24.9609 - val_loss: 1192.3216\n",
      "Epoch 5/1000\n",
      " - 2s - loss: 17.3573 - val_loss: 427.5350\n",
      "Epoch 6/1000\n",
      " - 2s - loss: 13.7760 - val_loss: 144.5816\n",
      "Epoch 7/1000\n",
      " - 2s - loss: 11.6861 - val_loss: 16.8327\n",
      "Epoch 8/1000\n",
      " - 2s - loss: 11.1797 - val_loss: 19.5246\n",
      "Epoch 9/1000\n",
      " - 2s - loss: 9.5639 - val_loss: 20.4237\n",
      "Epoch 10/1000\n",
      " - 2s - loss: 9.0543 - val_loss: 85.1945\n",
      "Epoch 11/1000\n",
      " - 2s - loss: 8.8740 - val_loss: 28.0700\n",
      "Epoch 12/1000\n",
      " - 2s - loss: 8.0935 - val_loss: 17.3320\n",
      "Epoch 00012: early stopping\n",
      "Training finished...Loading the best model\n",
      "\n"
     ]
    }
   ],
   "source": [
    "checkpointer = ModelCheckpoint(filepath=\"save/lstm.hdf5\", verbose=0, save_best_only=True) # save best model\n",
    "for i in range(5):\n",
    "    printmd(\"\\n**Iteration**: {}\".format(i))\n",
    "    #print(\"\\nIteration: {}\".format(i))\n",
    "    model = Sequential()\n",
    "    model.add(LSTM(50, activation='relu', dropout=0.2, recurrent_dropout=0.18, input_shape=(7, 5)))\n",
    "    model.add(Dense(1))\n",
    "\n",
    "    model.compile(loss='mean_squared_error', optimizer='adam')\n",
    "\n",
    "    monitor = EarlyStopping(monitor='val_loss', min_delta=1e-3, patience=5, verbose=1, mode='auto')\n",
    "\n",
    "    model.fit(x_train,y_train,validation_data=(x_test,y_test),callbacks=[monitor, checkpointer],verbose=2, epochs=1000, batch_size=32)  \n",
    "    \n",
    "print('Training finished...Loading the best model')  \n",
    "print()\n",
    "model.load_weights(\"save/lstm.hdf5\") # load weights from best model    "
   ]
  },
  {
   "cell_type": "code",
   "execution_count": 126,
   "metadata": {},
   "outputs": [
    {
     "name": "stdout",
     "output_type": "stream",
     "text": [
      "_________________________________________________________________\n",
      "Layer (type)                 Output Shape              Param #   \n",
      "=================================================================\n",
      "lstm_55 (LSTM)               (None, 50)                11200     \n",
      "_________________________________________________________________\n",
      "dense_69 (Dense)             (None, 1)                 51        \n",
      "=================================================================\n",
      "Total params: 11,251\n",
      "Trainable params: 11,251\n",
      "Non-trainable params: 0\n",
      "_________________________________________________________________\n"
     ]
    }
   ],
   "source": [
    "model.summary()"
   ]
  },
  {
   "cell_type": "code",
   "execution_count": 127,
   "metadata": {},
   "outputs": [
    {
     "name": "stdout",
     "output_type": "stream",
     "text": [
      "Score (RMSE): 4.1027696627599575\n"
     ]
    }
   ],
   "source": [
    "lstm_pred = model.predict(x_test)\n",
    "lstm_rmse = np.sqrt(metrics.mean_squared_error(lstm_pred,y_test))\n",
    "print(\"Score (RMSE): {}\".format(lstm_rmse))"
   ]
  },
  {
   "cell_type": "code",
   "execution_count": 128,
   "metadata": {},
   "outputs": [
    {
     "data": {
      "image/png": "[encoded data removed]",
      "text/plain": [
       "<Figure size 432x288 with 1 Axes>"
      ]
     },
     "metadata": {
      "needs_background": "light"
     },
     "output_type": "display_data"
    }
   ],
   "source": [
    "chart_regression(lstm_pred.flatten(), y_test)"
   ]
  },
  {
   "cell_type": "code",
   "execution_count": 129,
   "metadata": {},
   "outputs": [
    {
     "data": {
      "text/markdown": [
       "\n",
       "**Iteration**: 0"
      ],
      "text/plain": [
       "<IPython.core.display.Markdown object>"
      ]
     },
     "metadata": {},
     "output_type": "display_data"
    },
    {
     "name": "stdout",
     "output_type": "stream",
     "text": [
      "Train on 3068 samples, validate on 1316 samples\n",
      "Epoch 1/1000\n",
      " - 18s - loss: 260.5259 - val_loss: 455466.6818\n",
      "Epoch 2/1000\n",
      " - 3s - loss: 90.4601 - val_loss: 90603.4649\n",
      "Epoch 3/1000\n",
      " - 3s - loss: 28.0605 - val_loss: 12120.9257\n",
      "Epoch 4/1000\n",
      " - 3s - loss: 16.4471 - val_loss: 402.3970\n",
      "Epoch 5/1000\n",
      " - 3s - loss: 9.3517 - val_loss: 86.9109\n",
      "Epoch 6/1000\n",
      " - 3s - loss: 7.8101 - val_loss: 34.4946\n",
      "Epoch 7/1000\n",
      " - 3s - loss: 6.5858 - val_loss: 48.6588\n",
      "Epoch 8/1000\n",
      " - 3s - loss: 6.0078 - val_loss: 42.5080\n",
      "Epoch 9/1000\n",
      " - 3s - loss: 5.0757 - val_loss: 54.9374\n",
      "Epoch 10/1000\n",
      " - 3s - loss: 4.8642 - val_loss: 94.8649\n",
      "Epoch 11/1000\n",
      " - 3s - loss: 4.4505 - val_loss: 85.4848\n",
      "Epoch 00011: early stopping\n"
     ]
    },
    {
     "data": {
      "text/markdown": [
       "\n",
       "**Iteration**: 1"
      ],
      "text/plain": [
       "<IPython.core.display.Markdown object>"
      ]
     },
     "metadata": {},
     "output_type": "display_data"
    },
    {
     "name": "stdout",
     "output_type": "stream",
     "text": [
      "Train on 3068 samples, validate on 1316 samples\n",
      "Epoch 1/1000\n",
      " - 18s - loss: 253.7459 - val_loss: 191522.9671\n",
      "Epoch 2/1000\n",
      " - 3s - loss: 75.4638 - val_loss: 13973.0066\n",
      "Epoch 3/1000\n",
      " - 3s - loss: 22.1488 - val_loss: 4116.9372\n",
      "Epoch 4/1000\n",
      " - 3s - loss: 13.7059 - val_loss: 2166.8991\n",
      "Epoch 5/1000\n",
      " - 3s - loss: 11.1936 - val_loss: 1085.8584\n",
      "Epoch 6/1000\n",
      " - 3s - loss: 9.2843 - val_loss: 476.0098\n",
      "Epoch 7/1000\n",
      " - 3s - loss: 8.4023 - val_loss: 338.0021\n",
      "Epoch 8/1000\n",
      " - 3s - loss: 7.7375 - val_loss: 125.4150\n",
      "Epoch 9/1000\n",
      " - 3s - loss: 6.6132 - val_loss: 96.6023\n",
      "Epoch 10/1000\n",
      " - 3s - loss: 5.8816 - val_loss: 49.2568\n",
      "Epoch 11/1000\n",
      " - 3s - loss: 5.1012 - val_loss: 104.7539\n",
      "Epoch 12/1000\n",
      " - 3s - loss: 5.0645 - val_loss: 67.3725\n",
      "Epoch 13/1000\n",
      " - 3s - loss: 4.3178 - val_loss: 60.9553\n",
      "Epoch 14/1000\n",
      " - 3s - loss: 4.2005 - val_loss: 88.6948\n",
      "Epoch 15/1000\n",
      " - 3s - loss: 3.8871 - val_loss: 42.4341\n",
      "Epoch 16/1000\n",
      " - 3s - loss: 3.5757 - val_loss: 34.2340\n",
      "Epoch 17/1000\n",
      " - 3s - loss: 3.3039 - val_loss: 24.8592\n",
      "Epoch 18/1000\n",
      " - 3s - loss: 3.3356 - val_loss: 22.6219\n",
      "Epoch 19/1000\n",
      " - 3s - loss: 3.1500 - val_loss: 19.0000\n",
      "Epoch 20/1000\n",
      " - 3s - loss: 2.8978 - val_loss: 45.6238\n",
      "Epoch 21/1000\n",
      " - 3s - loss: 2.8582 - val_loss: 18.3270\n",
      "Epoch 22/1000\n",
      " - 4s - loss: 2.8708 - val_loss: 20.8885\n",
      "Epoch 23/1000\n",
      " - 3s - loss: 2.5589 - val_loss: 25.6067\n",
      "Epoch 24/1000\n",
      " - 3s - loss: 2.5490 - val_loss: 22.7833\n",
      "Epoch 25/1000\n",
      " - 3s - loss: 2.4878 - val_loss: 20.8118\n",
      "Epoch 26/1000\n",
      " - 3s - loss: 2.4838 - val_loss: 24.1229\n",
      "Epoch 00026: early stopping\n"
     ]
    },
    {
     "data": {
      "text/markdown": [
       "\n",
       "**Iteration**: 2"
      ],
      "text/plain": [
       "<IPython.core.display.Markdown object>"
      ]
     },
     "metadata": {},
     "output_type": "display_data"
    },
    {
     "name": "stdout",
     "output_type": "stream",
     "text": [
      "Train on 3068 samples, validate on 1316 samples\n",
      "Epoch 1/1000\n",
      " - 20s - loss: 537.6645 - val_loss: 64408.7155\n",
      "Epoch 2/1000\n",
      " - 3s - loss: 143.3341 - val_loss: 113223.1122\n",
      "Epoch 3/1000\n",
      " - 3s - loss: 50.7207 - val_loss: 26499.7352\n",
      "Epoch 4/1000\n",
      " - 3s - loss: 29.3948 - val_loss: 9158.8295\n",
      "Epoch 5/1000\n",
      " - 3s - loss: 16.8205 - val_loss: 4086.1463\n",
      "Epoch 6/1000\n",
      " - 3s - loss: 15.4992 - val_loss: 1366.9960\n",
      "Epoch 7/1000\n",
      " - 3s - loss: 10.7734 - val_loss: 1139.3237\n",
      "Epoch 8/1000\n",
      " - 3s - loss: 10.3722 - val_loss: 628.0893\n",
      "Epoch 9/1000\n",
      " - 3s - loss: 8.7474 - val_loss: 423.7041\n",
      "Epoch 10/1000\n",
      " - 3s - loss: 8.0196 - val_loss: 250.7048\n",
      "Epoch 11/1000\n",
      " - 3s - loss: 8.1108 - val_loss: 147.8218\n",
      "Epoch 12/1000\n",
      " - 3s - loss: 6.9172 - val_loss: 220.6815\n",
      "Epoch 13/1000\n",
      " - 3s - loss: 6.6098 - val_loss: 104.6846\n",
      "Epoch 14/1000\n",
      " - 3s - loss: 6.1175 - val_loss: 158.4502\n",
      "Epoch 15/1000\n",
      " - 3s - loss: 7.0677 - val_loss: 13.4180\n",
      "Epoch 16/1000\n",
      " - 3s - loss: 5.6053 - val_loss: 77.3239\n",
      "Epoch 17/1000\n",
      " - 3s - loss: 5.0692 - val_loss: 52.0369\n",
      "Epoch 18/1000\n",
      " - 3s - loss: 5.2538 - val_loss: 83.6434\n",
      "Epoch 19/1000\n",
      " - 3s - loss: 4.5889 - val_loss: 30.4669\n",
      "Epoch 20/1000\n",
      " - 3s - loss: 4.2909 - val_loss: 40.0894\n",
      "Epoch 00020: early stopping\n"
     ]
    },
    {
     "data": {
      "text/markdown": [
       "\n",
       "**Iteration**: 3"
      ],
      "text/plain": [
       "<IPython.core.display.Markdown object>"
      ]
     },
     "metadata": {},
     "output_type": "display_data"
    },
    {
     "name": "stdout",
     "output_type": "stream",
     "text": [
      "Train on 3068 samples, validate on 1316 samples\n",
      "Epoch 1/1000\n",
      " - 19s - loss: 281.2495 - val_loss: 174361.0854\n",
      "Epoch 2/1000\n",
      " - 3s - loss: 100.2521 - val_loss: 57744.8918\n",
      "Epoch 3/1000\n",
      " - 3s - loss: 51.4070 - val_loss: 5949.3303\n",
      "Epoch 4/1000\n",
      " - 3s - loss: 19.6073 - val_loss: 1080.8241\n",
      "Epoch 5/1000\n",
      " - 3s - loss: 13.5591 - val_loss: 604.5111\n",
      "Epoch 6/1000\n",
      " - 3s - loss: 10.7210 - val_loss: 202.6200\n",
      "Epoch 7/1000\n",
      " - 3s - loss: 8.7628 - val_loss: 139.3831\n",
      "Epoch 8/1000\n",
      " - 3s - loss: 8.0868 - val_loss: 22.8124\n",
      "Epoch 9/1000\n",
      " - 3s - loss: 6.4500 - val_loss: 13.5182\n",
      "Epoch 10/1000\n",
      " - 3s - loss: 5.8553 - val_loss: 15.6288\n",
      "Epoch 11/1000\n",
      " - 3s - loss: 5.5164 - val_loss: 20.0244\n",
      "Epoch 12/1000\n",
      " - 3s - loss: 4.5775 - val_loss: 13.8107\n",
      "Epoch 13/1000\n",
      " - 3s - loss: 4.7063 - val_loss: 12.5027\n",
      "Epoch 14/1000\n",
      " - 4s - loss: 4.3296 - val_loss: 22.2052\n",
      "Epoch 15/1000\n",
      " - 4s - loss: 4.3949 - val_loss: 20.4922\n",
      "Epoch 16/1000\n",
      " - 3s - loss: 3.9920 - val_loss: 24.6736\n",
      "Epoch 17/1000\n",
      " - 3s - loss: 3.4482 - val_loss: 17.8455\n",
      "Epoch 18/1000\n",
      " - 3s - loss: 3.6024 - val_loss: 16.7308\n",
      "Epoch 00018: early stopping\n"
     ]
    },
    {
     "data": {
      "text/markdown": [
       "\n",
       "**Iteration**: 4"
      ],
      "text/plain": [
       "<IPython.core.display.Markdown object>"
      ]
     },
     "metadata": {},
     "output_type": "display_data"
    },
    {
     "name": "stdout",
     "output_type": "stream",
     "text": [
      "Train on 3068 samples, validate on 1316 samples\n",
      "Epoch 1/1000\n",
      " - 20s - loss: 272.2475 - val_loss: 1185884.4844\n",
      "Epoch 2/1000\n",
      " - 3s - loss: 127.3322 - val_loss: 25721.4088\n",
      "Epoch 3/1000\n",
      " - 3s - loss: 23.6411 - val_loss: 10463.8429\n",
      "Epoch 4/1000\n",
      " - 3s - loss: 18.2376 - val_loss: 5995.6965\n",
      "Epoch 5/1000\n",
      " - 3s - loss: 12.3990 - val_loss: 3517.0314\n",
      "Epoch 6/1000\n",
      " - 3s - loss: 11.4768 - val_loss: 3898.2604\n",
      "Epoch 7/1000\n",
      " - 3s - loss: 9.3915 - val_loss: 2933.1427\n",
      "Epoch 8/1000\n",
      " - 3s - loss: 8.4944 - val_loss: 2741.7587\n",
      "Epoch 9/1000\n",
      " - 3s - loss: 7.8928 - val_loss: 1402.7835\n",
      "Epoch 10/1000\n",
      " - 3s - loss: 6.9846 - val_loss: 1761.6429\n",
      "Epoch 11/1000\n",
      " - 3s - loss: 6.5323 - val_loss: 1069.1260\n",
      "Epoch 12/1000\n",
      " - 3s - loss: 5.7668 - val_loss: 886.0029\n",
      "Epoch 13/1000\n",
      " - 3s - loss: 5.2101 - val_loss: 934.6419\n",
      "Epoch 14/1000\n",
      " - 3s - loss: 4.9666 - val_loss: 370.4983\n",
      "Epoch 15/1000\n",
      " - 3s - loss: 4.5105 - val_loss: 407.2395\n",
      "Epoch 16/1000\n",
      " - 3s - loss: 4.1872 - val_loss: 331.7867\n",
      "Epoch 17/1000\n",
      " - 3s - loss: 4.3113 - val_loss: 469.8635\n",
      "Epoch 18/1000\n",
      " - 3s - loss: 3.5162 - val_loss: 164.5581\n",
      "Epoch 19/1000\n",
      " - 3s - loss: 3.4233 - val_loss: 78.6865\n",
      "Epoch 20/1000\n",
      " - 3s - loss: 3.4513 - val_loss: 117.5410\n",
      "Epoch 21/1000\n",
      " - 3s - loss: 3.3489 - val_loss: 104.2210\n",
      "Epoch 22/1000\n",
      " - 3s - loss: 3.0464 - val_loss: 53.6184\n",
      "Epoch 23/1000\n",
      " - 3s - loss: 3.1806 - val_loss: 116.6587\n",
      "Epoch 24/1000\n",
      " - 3s - loss: 2.8542 - val_loss: 351.2784\n",
      "Epoch 25/1000\n",
      " - 3s - loss: 2.6490 - val_loss: 301.7275\n",
      "Epoch 26/1000\n",
      " - 3s - loss: 2.5284 - val_loss: 318.1396\n",
      "Epoch 27/1000\n",
      " - 3s - loss: 2.4615 - val_loss: 881.4639\n",
      "Epoch 00027: early stopping\n",
      "Training finished...Loading the best model\n",
      "\n"
     ]
    }
   ],
   "source": [
    "checkpointer = ModelCheckpoint(filepath=\"save/bi_lstm.hdf5\", verbose=0, save_best_only=True) # save best model\n",
    "for i in range(5):\n",
    "    printmd(\"\\n**Iteration**: {}\".format(i))\n",
    "    model = Sequential()\n",
    "    model.add(Bidirectional(LSTM(50, activation='relu', dropout=0.2, recurrent_dropout=0.18, input_shape=(7, 5))))\n",
    "    model.add(Dense(1))\n",
    "\n",
    "    model.compile(loss='mean_squared_error', optimizer='adam')\n",
    "\n",
    "    monitor = EarlyStopping(monitor='val_loss', min_delta=1e-3, patience=5, verbose=1, mode='auto')\n",
    "\n",
    "    model.fit(x_train,y_train,validation_data=(x_test,y_test),callbacks=[monitor, checkpointer],verbose=2, epochs=1000, batch_size=32)  \n",
    "    \n",
    "print('Training finished...Loading the best model')  \n",
    "print()\n",
    "model.load_weights(\"save/bi_lstm.hdf5\") # load weights from best model   "
   ]
  },
  {
   "cell_type": "code",
   "execution_count": 130,
   "metadata": {},
   "outputs": [
    {
     "name": "stdout",
     "output_type": "stream",
     "text": [
      "Score (RMSE): 3.5359088122105975\n"
     ]
    }
   ],
   "source": [
    "bi_lstm_pred = model.predict(x_test)\n",
    "bi_lstm_rmse = np.sqrt(metrics.mean_squared_error(bi_lstm_pred,y_test))\n",
    "print(\"Score (RMSE): {}\".format(bi_lstm_rmse))"
   ]
  },
  {
   "cell_type": "code",
   "execution_count": 131,
   "metadata": {},
   "outputs": [
    {
     "data": {
      "image/png": "[encoded data removed]",
      "text/plain": [
       "<Figure size 432x288 with 1 Axes>"
      ]
     },
     "metadata": {
      "needs_background": "light"
     },
     "output_type": "display_data"
    }
   ],
   "source": [
    "chart_regression(bi_lstm_pred.flatten(), y_test)"
   ]
  },
  {
   "cell_type": "code",
   "execution_count": 98,
   "metadata": {},
   "outputs": [
    {
     "data": {
      "text/markdown": [
       "\n",
       "**Iteration**: 0"
      ],
      "text/plain": [
       "<IPython.core.display.Markdown object>"
      ]
     },
     "metadata": {},
     "output_type": "display_data"
    },
    {
     "name": "stdout",
     "output_type": "stream",
     "text": [
      "Train on 3068 samples, validate on 1316 samples\n",
      "Epoch 1/1000\n",
      " - 9s - loss: 295.2404 - val_loss: 224006.9113\n",
      "Epoch 2/1000\n",
      " - 2s - loss: 101.9240 - val_loss: 42414.0599\n",
      "Epoch 3/1000\n",
      " - 2s - loss: 13.1702 - val_loss: 8760.4470\n",
      "Epoch 4/1000\n",
      " - 2s - loss: 2.7781 - val_loss: 8390.6391\n",
      "Epoch 5/1000\n",
      " - 2s - loss: 1.7031 - val_loss: 7764.4239\n",
      "Epoch 6/1000\n",
      " - 2s - loss: 1.1901 - val_loss: 7924.1178\n",
      "Epoch 7/1000\n",
      " - 2s - loss: 1.0577 - val_loss: 7450.0115\n",
      "Epoch 8/1000\n",
      " - 2s - loss: 0.9057 - val_loss: 7019.4531\n",
      "Epoch 9/1000\n",
      " - 2s - loss: 0.8428 - val_loss: 6612.7738\n",
      "Epoch 10/1000\n",
      " - 2s - loss: 0.7858 - val_loss: 6535.1475\n",
      "Epoch 11/1000\n",
      " - 2s - loss: 0.7514 - val_loss: 5648.0198\n",
      "Epoch 12/1000\n",
      " - 2s - loss: 0.7452 - val_loss: 5937.1961\n",
      "Epoch 13/1000\n",
      " - 2s - loss: 0.7196 - val_loss: 5341.1393\n",
      "Epoch 14/1000\n",
      " - 2s - loss: 0.6844 - val_loss: 4549.1093\n",
      "Epoch 15/1000\n",
      " - 2s - loss: 0.6780 - val_loss: 3825.2077\n",
      "Epoch 16/1000\n",
      " - 2s - loss: 0.6879 - val_loss: 3783.1736\n",
      "Epoch 17/1000\n",
      " - 2s - loss: 0.6432 - val_loss: 3004.7657\n",
      "Epoch 18/1000\n",
      " - 2s - loss: 0.6211 - val_loss: 1724.6285\n",
      "Epoch 19/1000\n",
      " - 2s - loss: 0.6526 - val_loss: 1847.4499\n",
      "Epoch 20/1000\n",
      " - 2s - loss: 0.5946 - val_loss: 1447.2349\n",
      "Epoch 21/1000\n",
      " - 2s - loss: 0.5830 - val_loss: 609.5123\n",
      "Epoch 22/1000\n",
      " - 2s - loss: 0.5686 - val_loss: 1566.7826\n",
      "Epoch 23/1000\n",
      " - 2s - loss: 0.5477 - val_loss: 701.4566\n",
      "Epoch 24/1000\n",
      " - 2s - loss: 0.5616 - val_loss: 1116.9732\n",
      "Epoch 25/1000\n",
      " - 2s - loss: 0.5297 - val_loss: 452.7122\n",
      "Epoch 26/1000\n",
      " - 2s - loss: 0.5430 - val_loss: 189.3894\n",
      "Epoch 27/1000\n",
      " - 2s - loss: 0.5002 - val_loss: 223.4635\n",
      "Epoch 28/1000\n",
      " - 2s - loss: 0.5721 - val_loss: 211.0201\n",
      "Epoch 29/1000\n",
      " - 2s - loss: 0.5614 - val_loss: 131.0378\n",
      "Epoch 30/1000\n",
      " - 2s - loss: 0.4910 - val_loss: 121.1867\n",
      "Epoch 31/1000\n",
      " - 2s - loss: 0.4728 - val_loss: 143.6489\n",
      "Epoch 32/1000\n",
      " - 2s - loss: 0.4872 - val_loss: 221.7357\n",
      "Epoch 33/1000\n",
      " - 2s - loss: 0.4684 - val_loss: 165.1757\n",
      "Epoch 34/1000\n",
      " - 2s - loss: 0.4447 - val_loss: 231.1894\n",
      "Epoch 35/1000\n",
      " - 2s - loss: 0.4753 - val_loss: 241.7692\n",
      "Epoch 00035: early stopping\n"
     ]
    },
    {
     "data": {
      "text/markdown": [
       "\n",
       "**Iteration**: 1"
      ],
      "text/plain": [
       "<IPython.core.display.Markdown object>"
      ]
     },
     "metadata": {},
     "output_type": "display_data"
    },
    {
     "name": "stdout",
     "output_type": "stream",
     "text": [
      "Train on 3068 samples, validate on 1316 samples\n",
      "Epoch 1/1000\n",
      " - 9s - loss: 303.2895 - val_loss: 1668.5027\n",
      "Epoch 2/1000\n",
      " - 2s - loss: 98.2658 - val_loss: 54019.3879\n",
      "Epoch 3/1000\n",
      " - 2s - loss: 7.2742 - val_loss: 6882.7338\n",
      "Epoch 4/1000\n",
      " - 2s - loss: 1.7024 - val_loss: 5994.0513\n",
      "Epoch 5/1000\n",
      " - 2s - loss: 1.1955 - val_loss: 5528.8436\n",
      "Epoch 6/1000\n",
      " - 2s - loss: 0.9995 - val_loss: 4981.6615\n",
      "Epoch 00006: early stopping\n"
     ]
    },
    {
     "data": {
      "text/markdown": [
       "\n",
       "**Iteration**: 2"
      ],
      "text/plain": [
       "<IPython.core.display.Markdown object>"
      ]
     },
     "metadata": {},
     "output_type": "display_data"
    },
    {
     "name": "stdout",
     "output_type": "stream",
     "text": [
      "Train on 3068 samples, validate on 1316 samples\n",
      "Epoch 1/1000\n",
      " - 9s - loss: 310.6595 - val_loss: 2890.2311\n",
      "Epoch 2/1000\n",
      " - 2s - loss: 135.8003 - val_loss: 75651.4250\n",
      "Epoch 3/1000\n",
      " - 2s - loss: 15.4506 - val_loss: 11403.9155\n",
      "Epoch 4/1000\n",
      " - 2s - loss: 1.9039 - val_loss: 7620.7881\n",
      "Epoch 5/1000\n",
      " - 2s - loss: 1.1213 - val_loss: 5654.3884\n",
      "Epoch 6/1000\n",
      " - 2s - loss: 0.9362 - val_loss: 4952.5711\n",
      "Epoch 00006: early stopping\n"
     ]
    },
    {
     "data": {
      "text/markdown": [
       "\n",
       "**Iteration**: 3"
      ],
      "text/plain": [
       "<IPython.core.display.Markdown object>"
      ]
     },
     "metadata": {},
     "output_type": "display_data"
    },
    {
     "name": "stdout",
     "output_type": "stream",
     "text": [
      "Train on 3068 samples, validate on 1316 samples\n",
      "Epoch 1/1000\n",
      " - 10s - loss: 353.1962 - val_loss: 414394.0105\n",
      "Epoch 2/1000\n",
      " - 2s - loss: 97.4567 - val_loss: 113550.6414\n",
      "Epoch 3/1000\n",
      " - 2s - loss: 32.4277 - val_loss: 25201.0013\n",
      "Epoch 4/1000\n",
      " - 2s - loss: 7.0966 - val_loss: 9434.5939\n",
      "Epoch 5/1000\n",
      " - 2s - loss: 2.2692 - val_loss: 6215.6450\n",
      "Epoch 6/1000\n",
      " - 2s - loss: 1.4183 - val_loss: 3847.0672\n",
      "Epoch 7/1000\n",
      " - 2s - loss: 1.0082 - val_loss: 2898.4719\n",
      "Epoch 8/1000\n",
      " - 2s - loss: 0.7852 - val_loss: 2280.5538\n",
      "Epoch 9/1000\n",
      " - 2s - loss: 0.6854 - val_loss: 1875.1496\n",
      "Epoch 10/1000\n",
      " - 2s - loss: 0.5972 - val_loss: 1613.3173\n",
      "Epoch 11/1000\n",
      " - 2s - loss: 0.5480 - val_loss: 1405.4684\n",
      "Epoch 12/1000\n",
      " - 2s - loss: 0.5250 - val_loss: 1430.3463\n",
      "Epoch 13/1000\n",
      " - 2s - loss: 0.4998 - val_loss: 1383.1952\n",
      "Epoch 14/1000\n",
      " - 2s - loss: 0.4922 - val_loss: 1397.0498\n",
      "Epoch 15/1000\n",
      " - 2s - loss: 0.4700 - val_loss: 1259.3281\n",
      "Epoch 16/1000\n",
      " - 2s - loss: 0.4517 - val_loss: 1149.3014\n",
      "Epoch 17/1000\n",
      " - 2s - loss: 0.4520 - val_loss: 1183.4159\n",
      "Epoch 18/1000\n",
      " - 2s - loss: 0.4642 - val_loss: 1010.5107\n",
      "Epoch 19/1000\n",
      " - 2s - loss: 0.4677 - val_loss: 1192.0555\n",
      "Epoch 20/1000\n",
      " - 2s - loss: 0.4659 - val_loss: 1121.5784\n",
      "Epoch 21/1000\n",
      " - 2s - loss: 0.4495 - val_loss: 1101.8497\n",
      "Epoch 22/1000\n",
      " - 2s - loss: 0.4373 - val_loss: 1048.8183\n",
      "Epoch 23/1000\n",
      " - 2s - loss: 0.4509 - val_loss: 1089.5864\n",
      "Epoch 00023: early stopping\n"
     ]
    },
    {
     "data": {
      "text/markdown": [
       "\n",
       "**Iteration**: 4"
      ],
      "text/plain": [
       "<IPython.core.display.Markdown object>"
      ]
     },
     "metadata": {},
     "output_type": "display_data"
    },
    {
     "name": "stdout",
     "output_type": "stream",
     "text": [
      "Train on 3068 samples, validate on 1316 samples\n",
      "Epoch 1/1000\n",
      " - 9s - loss: 303.2904 - val_loss: 3597.9236\n",
      "Epoch 2/1000\n",
      " - 2s - loss: 149.6923 - val_loss: 23523.2753\n",
      "Epoch 3/1000\n",
      " - 2s - loss: 7.7020 - val_loss: 7451.0611\n",
      "Epoch 4/1000\n",
      " - 2s - loss: 1.8582 - val_loss: 5935.1561\n",
      "Epoch 5/1000\n",
      " - 2s - loss: 1.2731 - val_loss: 4519.2228\n",
      "Epoch 6/1000\n",
      " - 2s - loss: 1.0260 - val_loss: 6499.4755\n",
      "Epoch 00006: early stopping\n",
      "Training finished...Loading the best model\n",
      "\n"
     ]
    }
   ],
   "source": [
    "checkpointer = ModelCheckpoint(filepath=\"save/lstm_nodropout.hdf5\", verbose=0, save_best_only=True) # save best model\n",
    "for i in range(5):\n",
    "    printmd(\"\\n**Iteration**: {}\".format(i))\n",
    "    model = Sequential()\n",
    "    model.add(LSTM(50, activation='relu', input_shape=(7, 5)))\n",
    "    model.add(Dense(1))\n",
    "\n",
    "    model.compile(loss='mean_squared_error', optimizer='adam')\n",
    "\n",
    "    monitor = EarlyStopping(monitor='val_loss', min_delta=1e-3, patience=5, verbose=1, mode='auto')\n",
    "\n",
    "    model.fit(x_train,y_train,validation_data=(x_test,y_test),callbacks=[monitor, checkpointer],verbose=2, epochs=1000, batch_size=32)  \n",
    "    \n",
    "print('Training finished...Loading the best model')  \n",
    "print()\n",
    "model.load_weights(\"save/lstm_nodropout.hdf5\") # load weights from best model "
   ]
  },
  {
   "cell_type": "code",
   "execution_count": 99,
   "metadata": {},
   "outputs": [
    {
     "name": "stdout",
     "output_type": "stream",
     "text": [
      "_________________________________________________________________\n",
      "Layer (type)                 Output Shape              Param #   \n",
      "=================================================================\n",
      "lstm_35 (LSTM)               (None, 50)                11200     \n",
      "_________________________________________________________________\n",
      "dense_49 (Dense)             (None, 1)                 51        \n",
      "=================================================================\n",
      "Total params: 11,251\n",
      "Trainable params: 11,251\n",
      "Non-trainable params: 0\n",
      "_________________________________________________________________\n"
     ]
    }
   ],
   "source": [
    "model.summary()"
   ]
  },
  {
   "cell_type": "code",
   "execution_count": 100,
   "metadata": {},
   "outputs": [
    {
     "name": "stdout",
     "output_type": "stream",
     "text": [
      "Score (RMSE): 11.008483803311481\n"
     ]
    }
   ],
   "source": [
    "lstm_nodropout_pred = model.predict(x_test)\n",
    "lstm_nodropout_rmse = np.sqrt(metrics.mean_squared_error(lstm_nodropout_pred,y_test))\n",
    "print(\"Score (RMSE): {}\".format(lstm_nodropout_rmse))"
   ]
  },
  {
   "cell_type": "code",
   "execution_count": 132,
   "metadata": {},
   "outputs": [
    {
     "data": {
      "image/png": "[encoded data removed]",
      "text/plain": [
       "<Figure size 648x504 with 1 Axes>"
      ]
     },
     "metadata": {
      "needs_background": "light"
     },
     "output_type": "display_data"
    }
   ],
   "source": [
    "t = pd.DataFrame({'pred' : lstm_pred.flatten(), 'pred_nodropout': lstm_nodropout_pred.flatten(), 'bi_pred': bi_lstm_pred.flatten(), 'y' : y_test.flatten()})   \n",
    "plt.figure(figsize=(9,7))\n",
    "a = plt.plot(t['y'].tolist(),label='expected')\n",
    "b = plt.plot(t['pred'].tolist(),label='prediction')\n",
    "c = plt.plot(t['pred_nodropout'].tolist(),label='prediction_nodropout')\n",
    "d = plt.plot(t['bi_pred'].tolist(),label='prediction_bidirectional')\n",
    "plt.ylabel('output')\n",
    "plt.legend()\n",
    "plt.show()    "
   ]
  },
  {
   "cell_type": "markdown",
   "metadata": {},
   "source": [
    "# CNN model"
   ]
  },
  {
   "cell_type": "code",
   "execution_count": 102,
   "metadata": {},
   "outputs": [],
   "source": [
    "df = pd.read_csv('CSC215_Project4_Stock_Price.csv')"
   ]
  },
  {
   "cell_type": "code",
   "execution_count": 103,
   "metadata": {},
   "outputs": [
    {
     "data": {
      "text/html": [
       "<div>\n",
       "<style scoped>\n",
       "    .dataframe tbody tr th:only-of-type {\n",
       "        vertical-align: middle;\n",
       "    }\n",
       "\n",
       "    .dataframe tbody tr th {\n",
       "        vertical-align: top;\n",
       "    }\n",
       "\n",
       "    .dataframe thead th {\n",
       "        text-align: right;\n",
       "    }\n",
       "</style>\n",
       "<table border=\"1\" class=\"dataframe\">\n",
       "  <thead>\n",
       "    <tr style=\"text-align: right;\">\n",
       "      <th></th>\n",
       "      <th>Open</th>\n",
       "      <th>High</th>\n",
       "      <th>Low</th>\n",
       "      <th>Close</th>\n",
       "      <th>Volume</th>\n",
       "    </tr>\n",
       "  </thead>\n",
       "  <tbody>\n",
       "    <tr>\n",
       "      <th>0</th>\n",
       "      <td>3.812500</td>\n",
       "      <td>4.156250</td>\n",
       "      <td>3.812500</td>\n",
       "      <td>4.125000</td>\n",
       "      <td>3675600</td>\n",
       "    </tr>\n",
       "    <tr>\n",
       "      <th>1</th>\n",
       "      <td>4.125000</td>\n",
       "      <td>4.125000</td>\n",
       "      <td>4.000000</td>\n",
       "      <td>4.015625</td>\n",
       "      <td>1077600</td>\n",
       "    </tr>\n",
       "    <tr>\n",
       "      <th>2</th>\n",
       "      <td>4.000000</td>\n",
       "      <td>4.031250</td>\n",
       "      <td>3.953125</td>\n",
       "      <td>4.000000</td>\n",
       "      <td>437200</td>\n",
       "    </tr>\n",
       "    <tr>\n",
       "      <th>3</th>\n",
       "      <td>4.000000</td>\n",
       "      <td>4.000000</td>\n",
       "      <td>3.843750</td>\n",
       "      <td>3.843750</td>\n",
       "      <td>1883600</td>\n",
       "    </tr>\n",
       "    <tr>\n",
       "      <th>4</th>\n",
       "      <td>3.734375</td>\n",
       "      <td>3.734375</td>\n",
       "      <td>3.390625</td>\n",
       "      <td>3.390625</td>\n",
       "      <td>7931600</td>\n",
       "    </tr>\n",
       "  </tbody>\n",
       "</table>\n",
       "</div>"
      ],
      "text/plain": [
       "       Open      High       Low     Close   Volume\n",
       "0  3.812500  4.156250  3.812500  4.125000  3675600\n",
       "1  4.125000  4.125000  4.000000  4.015625  1077600\n",
       "2  4.000000  4.031250  3.953125  4.000000   437200\n",
       "3  4.000000  4.000000  3.843750  3.843750  1883600\n",
       "4  3.734375  3.734375  3.390625  3.390625  7931600"
      ]
     },
     "execution_count": 103,
     "metadata": {},
     "output_type": "execute_result"
    }
   ],
   "source": [
    "df.drop(columns=['Adj_Close','Date'], inplace=True)\n",
    "df.head()"
   ]
  },
  {
   "cell_type": "code",
   "execution_count": 104,
   "metadata": {},
   "outputs": [
    {
     "name": "stdout",
     "output_type": "stream",
     "text": [
      "Shape of x: (4384, 7, 5)\n",
      "Shape of y: (4384,)\n"
     ]
    }
   ],
   "source": [
    "SEQUENCE_SIZE = 7\n",
    "x, y = to_sequences(SEQUENCE_SIZE,df, 'Close')\n",
    "x = zscore(x)\n",
    "\n",
    "print(\"Shape of x: {}\".format(x.shape))\n",
    "print(\"Shape of y: {}\".format(y.shape))"
   ]
  },
  {
   "cell_type": "code",
   "execution_count": 105,
   "metadata": {},
   "outputs": [
    {
     "name": "stdout",
     "output_type": "stream",
     "text": [
      "(4384, 7, 5, 1)\n"
     ]
    }
   ],
   "source": [
    "x = x.reshape(x.shape[0], x.shape[1], x.shape[2], 1)\n",
    "print(x.shape)"
   ]
  },
  {
   "cell_type": "code",
   "execution_count": 106,
   "metadata": {},
   "outputs": [
    {
     "name": "stdout",
     "output_type": "stream",
     "text": [
      "Shape of x_train: (3068, 7, 5, 1)\n",
      "Shape of x_test: (1316, 7, 5, 1)\n",
      "Shape of y_train: (3068,)\n",
      "Shape of y_test: (1316,)\n"
     ]
    }
   ],
   "source": [
    "x_train = x[0:int(0.7*len(x))]\n",
    "x_test = x[int(0.7*len(x)):]\n",
    "y_train = y[0:int(0.7*len(y))]\n",
    "y_test = y[int(0.7*len(y)):]\n",
    "#x_train, x_test, y_train, y_test = train_test_split(x, y, test_size=0.3)\n",
    "print(\"Shape of x_train: {}\".format(x_train.shape))\n",
    "print(\"Shape of x_test: {}\".format(x_test.shape))\n",
    "print(\"Shape of y_train: {}\".format(y_train.shape))\n",
    "print(\"Shape of y_test: {}\".format(y_test.shape))"
   ]
  },
  {
   "cell_type": "code",
   "execution_count": 107,
   "metadata": {},
   "outputs": [
    {
     "data": {
      "text/markdown": [
       "\n",
       "**Iteration**: 0"
      ],
      "text/plain": [
       "<IPython.core.display.Markdown object>"
      ]
     },
     "metadata": {},
     "output_type": "display_data"
    },
    {
     "name": "stdout",
     "output_type": "stream",
     "text": [
      "Train on 3068 samples, validate on 1316 samples\n",
      "Epoch 1/1000\n",
      " - 9s - loss: 202.8486 - val_loss: 1699.0953\n",
      "Epoch 2/1000\n",
      " - 0s - loss: 26.9339 - val_loss: 1195.3121\n",
      "Epoch 3/1000\n",
      " - 0s - loss: 10.9505 - val_loss: 259.3865\n",
      "Epoch 4/1000\n",
      " - 0s - loss: 7.3066 - val_loss: 35.0574\n",
      "Epoch 5/1000\n",
      " - 0s - loss: 6.5212 - val_loss: 26.0220\n",
      "Epoch 6/1000\n",
      " - 0s - loss: 6.0993 - val_loss: 11.1197\n",
      "Epoch 7/1000\n",
      " - 0s - loss: 6.5412 - val_loss: 48.7897\n",
      "Epoch 8/1000\n",
      " - 0s - loss: 6.1445 - val_loss: 27.0944\n",
      "Epoch 9/1000\n",
      " - 0s - loss: 5.9714 - val_loss: 49.1530\n",
      "Epoch 10/1000\n",
      " - 0s - loss: 6.2275 - val_loss: 59.5905\n",
      "Epoch 11/1000\n",
      " - 0s - loss: 6.0093 - val_loss: 30.5623\n",
      "Epoch 00011: early stopping\n"
     ]
    },
    {
     "data": {
      "text/markdown": [
       "\n",
       "**Iteration**: 1"
      ],
      "text/plain": [
       "<IPython.core.display.Markdown object>"
      ]
     },
     "metadata": {},
     "output_type": "display_data"
    },
    {
     "name": "stdout",
     "output_type": "stream",
     "text": [
      "Train on 3068 samples, validate on 1316 samples\n",
      "Epoch 1/1000\n",
      " - 8s - loss: 208.7499 - val_loss: 1321.7572\n",
      "Epoch 2/1000\n",
      " - 0s - loss: 29.6400 - val_loss: 927.6749\n",
      "Epoch 3/1000\n",
      " - 0s - loss: 8.9600 - val_loss: 183.0550\n",
      "Epoch 4/1000\n",
      " - 0s - loss: 6.4877 - val_loss: 77.1908\n",
      "Epoch 5/1000\n",
      " - 0s - loss: 5.9658 - val_loss: 99.8735\n",
      "Epoch 6/1000\n",
      " - 0s - loss: 6.2125 - val_loss: 50.4017\n",
      "Epoch 7/1000\n",
      " - 0s - loss: 5.6579 - val_loss: 63.1628\n",
      "Epoch 8/1000\n",
      " - 0s - loss: 6.2549 - val_loss: 61.6111\n",
      "Epoch 9/1000\n",
      " - 0s - loss: 5.9451 - val_loss: 65.4932\n",
      "Epoch 10/1000\n",
      " - 0s - loss: 5.6001 - val_loss: 74.4885\n",
      "Epoch 11/1000\n",
      " - 0s - loss: 6.2372 - val_loss: 43.9948\n",
      "Epoch 12/1000\n",
      " - 0s - loss: 6.4560 - val_loss: 49.6672\n",
      "Epoch 13/1000\n",
      " - 0s - loss: 6.1123 - val_loss: 40.1538\n",
      "Epoch 14/1000\n",
      " - 0s - loss: 5.8767 - val_loss: 55.9601\n",
      "Epoch 15/1000\n",
      " - 0s - loss: 5.7595 - val_loss: 19.1173\n",
      "Epoch 16/1000\n",
      " - 0s - loss: 5.3829 - val_loss: 28.2074\n",
      "Epoch 17/1000\n",
      " - 0s - loss: 5.8777 - val_loss: 36.1290\n",
      "Epoch 18/1000\n",
      " - 0s - loss: 6.4864 - val_loss: 48.2881\n",
      "Epoch 19/1000\n",
      " - 0s - loss: 5.5265 - val_loss: 38.2838\n",
      "Epoch 20/1000\n",
      " - 0s - loss: 5.8391 - val_loss: 48.6696\n",
      "Epoch 00020: early stopping\n"
     ]
    },
    {
     "data": {
      "text/markdown": [
       "\n",
       "**Iteration**: 2"
      ],
      "text/plain": [
       "<IPython.core.display.Markdown object>"
      ]
     },
     "metadata": {},
     "output_type": "display_data"
    },
    {
     "name": "stdout",
     "output_type": "stream",
     "text": [
      "Train on 3068 samples, validate on 1316 samples\n",
      "Epoch 1/1000\n",
      " - 8s - loss: 199.9206 - val_loss: 3727.9574\n",
      "Epoch 2/1000\n",
      " - 0s - loss: 26.2329 - val_loss: 1014.4769\n",
      "Epoch 3/1000\n",
      " - 0s - loss: 9.5403 - val_loss: 84.5354\n",
      "Epoch 4/1000\n",
      " - 0s - loss: 6.1545 - val_loss: 21.8662\n",
      "Epoch 5/1000\n",
      " - 0s - loss: 6.5682 - val_loss: 26.9562\n",
      "Epoch 6/1000\n",
      " - 0s - loss: 5.9687 - val_loss: 28.0753\n",
      "Epoch 7/1000\n",
      " - 0s - loss: 5.9262 - val_loss: 24.8005\n",
      "Epoch 8/1000\n",
      " - 0s - loss: 5.9862 - val_loss: 27.8279\n",
      "Epoch 9/1000\n",
      " - 0s - loss: 6.3507 - val_loss: 84.1391\n",
      "Epoch 00009: early stopping\n"
     ]
    },
    {
     "data": {
      "text/markdown": [
       "\n",
       "**Iteration**: 3"
      ],
      "text/plain": [
       "<IPython.core.display.Markdown object>"
      ]
     },
     "metadata": {},
     "output_type": "display_data"
    },
    {
     "name": "stdout",
     "output_type": "stream",
     "text": [
      "Train on 3068 samples, validate on 1316 samples\n",
      "Epoch 1/1000\n",
      " - 8s - loss: 224.6651 - val_loss: 306.6466\n",
      "Epoch 2/1000\n",
      " - 0s - loss: 30.3708 - val_loss: 746.8496\n",
      "Epoch 3/1000\n",
      " - 0s - loss: 11.2094 - val_loss: 135.5284\n",
      "Epoch 4/1000\n",
      " - 0s - loss: 7.4591 - val_loss: 17.8047\n",
      "Epoch 5/1000\n",
      " - 0s - loss: 6.7166 - val_loss: 9.2078\n",
      "Epoch 6/1000\n",
      " - 0s - loss: 6.5539 - val_loss: 7.2166\n",
      "Epoch 7/1000\n",
      " - 0s - loss: 6.3984 - val_loss: 8.3104\n",
      "Epoch 8/1000\n",
      " - 0s - loss: 6.4926 - val_loss: 8.4842\n",
      "Epoch 9/1000\n",
      " - 0s - loss: 6.9527 - val_loss: 7.3283\n",
      "Epoch 10/1000\n",
      " - 0s - loss: 6.4095 - val_loss: 7.8495\n",
      "Epoch 11/1000\n",
      " - 0s - loss: 6.4882 - val_loss: 7.4664\n",
      "Epoch 00011: early stopping\n"
     ]
    },
    {
     "data": {
      "text/markdown": [
       "\n",
       "**Iteration**: 4"
      ],
      "text/plain": [
       "<IPython.core.display.Markdown object>"
      ]
     },
     "metadata": {},
     "output_type": "display_data"
    },
    {
     "name": "stdout",
     "output_type": "stream",
     "text": [
      "Train on 3068 samples, validate on 1316 samples\n",
      "Epoch 1/1000\n",
      " - 8s - loss: 229.8859 - val_loss: 165.1372\n",
      "Epoch 2/1000\n",
      " - 0s - loss: 26.7648 - val_loss: 759.6540\n",
      "Epoch 3/1000\n",
      " - 0s - loss: 8.7674 - val_loss: 69.8145\n",
      "Epoch 4/1000\n",
      " - 0s - loss: 6.1702 - val_loss: 79.7407\n",
      "Epoch 5/1000\n",
      " - 0s - loss: 6.1292 - val_loss: 19.7078\n",
      "Epoch 6/1000\n",
      " - 0s - loss: 5.8860 - val_loss: 9.6987\n",
      "Epoch 7/1000\n",
      " - 0s - loss: 5.7946 - val_loss: 10.2437\n",
      "Epoch 8/1000\n",
      " - 0s - loss: 6.3927 - val_loss: 9.9949\n",
      "Epoch 9/1000\n",
      " - 0s - loss: 6.1570 - val_loss: 30.4997\n",
      "Epoch 10/1000\n",
      " - 0s - loss: 5.3605 - val_loss: 9.7269\n",
      "Epoch 11/1000\n",
      " - 0s - loss: 6.0568 - val_loss: 9.7594\n",
      "Epoch 00011: early stopping\n",
      "Training finished...Loading the best model\n",
      "\n"
     ]
    }
   ],
   "source": [
    "checkpointer = ModelCheckpoint(filepath=\"save/cnn.hdf5\", verbose=0, save_best_only=True) # save best model\n",
    "input_shape = (7, 5, 1)\n",
    "for i in range(5):\n",
    "    printmd(\"\\n**Iteration**: {}\".format(i))\n",
    "    #Build network\n",
    "    model = Sequential()\n",
    "\n",
    "    model.add(Conv2D(32, kernel_size=(1, 2), strides=(1, 1), padding='valid',\n",
    "                 activation='relu',\n",
    "                 input_shape=input_shape))\n",
    "    model.add(Conv2D(64, (1, 2), activation='relu'))\n",
    "    model.add(MaxPooling2D(pool_size=(1, 2), strides=None))\n",
    "    model.add(Dropout(0.25)) \n",
    "    model.add(Flatten())\n",
    "    model.add(Dense(128, activation='relu'))\n",
    "    model.add(Dropout(0.5))\n",
    "    model.add(Dense(1))\n",
    "\n",
    "    model.compile(loss=\"mean_squared_error\", optimizer='adam')\n",
    "\n",
    "    monitor = EarlyStopping(monitor='val_loss', min_delta=1e-3, patience=5, verbose=1, mode='auto')\n",
    "\n",
    "    model.fit(x_train,y_train, validation_data=(x_test,y_test), callbacks=[monitor,checkpointer],verbose=2,epochs=1000, batch_size=64, shuffle=True)    # Verbosity mode. 0 = silent, 1 = progress bar, 2 = one line per epoch.\n",
    "    \n",
    "    \n",
    "print('Training finished...Loading the best model')  \n",
    "print()\n",
    "model.load_weights('save/cnn.hdf5') # load weights from best model\n"
   ]
  },
  {
   "cell_type": "code",
   "execution_count": 108,
   "metadata": {},
   "outputs": [
    {
     "name": "stdout",
     "output_type": "stream",
     "text": [
      "_________________________________________________________________\n",
      "Layer (type)                 Output Shape              Param #   \n",
      "=================================================================\n",
      "conv2d_9 (Conv2D)            (None, 7, 4, 32)          96        \n",
      "_________________________________________________________________\n",
      "conv2d_10 (Conv2D)           (None, 7, 3, 64)          4160      \n",
      "_________________________________________________________________\n",
      "max_pooling2d_5 (MaxPooling2 (None, 7, 1, 64)          0         \n",
      "_________________________________________________________________\n",
      "dropout_19 (Dropout)         (None, 7, 1, 64)          0         \n",
      "_________________________________________________________________\n",
      "flatten_5 (Flatten)          (None, 448)               0         \n",
      "_________________________________________________________________\n",
      "dense_58 (Dense)             (None, 128)               57472     \n",
      "_________________________________________________________________\n",
      "dropout_20 (Dropout)         (None, 128)               0         \n",
      "_________________________________________________________________\n",
      "dense_59 (Dense)             (None, 1)                 129       \n",
      "=================================================================\n",
      "Total params: 61,857\n",
      "Trainable params: 61,857\n",
      "Non-trainable params: 0\n",
      "_________________________________________________________________\n"
     ]
    }
   ],
   "source": [
    "model.summary()"
   ]
  },
  {
   "cell_type": "code",
   "execution_count": 109,
   "metadata": {},
   "outputs": [
    {
     "name": "stdout",
     "output_type": "stream",
     "text": [
      "Score (RMSE): 2.686379350934843\n"
     ]
    }
   ],
   "source": [
    "cnn_pred = model.predict(x_test)\n",
    "cnn_rmse = np.sqrt(metrics.mean_squared_error(cnn_pred,y_test))\n",
    "print(\"Score (RMSE): {}\".format(cnn_rmse))"
   ]
  },
  {
   "cell_type": "code",
   "execution_count": 110,
   "metadata": {},
   "outputs": [
    {
     "data": {
      "image/png": "[encoded data removed]",
      "text/plain": [
       "<Figure size 432x288 with 1 Axes>"
      ]
     },
     "metadata": {
      "needs_background": "light"
     },
     "output_type": "display_data"
    }
   ],
   "source": [
    "chart_regression(cnn_pred.flatten(), y_test)"
   ]
  },
  {
   "cell_type": "markdown",
   "metadata": {},
   "source": [
    "# Additional Feature"
   ]
  },
  {
   "cell_type": "markdown",
   "metadata": {},
   "source": [
    "## Predicting Google's stock for the next 3 days"
   ]
  },
  {
   "cell_type": "code",
   "execution_count": 5,
   "metadata": {},
   "outputs": [],
   "source": [
    "df = pd.read_csv('GOOG.csv')"
   ]
  },
  {
   "cell_type": "code",
   "execution_count": 6,
   "metadata": {},
   "outputs": [
    {
     "data": {
      "text/plain": [
       "(3578, 5)"
      ]
     },
     "execution_count": 6,
     "metadata": {},
     "output_type": "execute_result"
    }
   ],
   "source": [
    "df.drop(columns=['Adj Close','Date'], inplace=True)\n",
    "df.shape"
   ]
  },
  {
   "cell_type": "code",
   "execution_count": 7,
   "metadata": {},
   "outputs": [],
   "source": [
    "x, y = to_sequences_continuous(7, df, 'Close', 3)"
   ]
  },
  {
   "cell_type": "code",
   "execution_count": 8,
   "metadata": {},
   "outputs": [
    {
     "name": "stdout",
     "output_type": "stream",
     "text": [
      "Shape of x_train: (2496, 7, 5)\n",
      "Shape of x_test: (1071, 7, 5)\n",
      "Shape of y_train: (2496, 3)\n",
      "Shape of y_test: (1071, 3)\n"
     ]
    }
   ],
   "source": [
    "x = zscore(x)\n",
    "x_train = x[0:int(0.7*len(x))]\n",
    "x_test = x[int(0.7*len(x)):]\n",
    "y_train = y[0:int(0.7*len(y))]\n",
    "y_test = y[int(0.7*len(y)):]\n",
    "#x_train, x_test, y_train, y_test = train_test_split(x, y, test_size=0.3)\n",
    "print(\"Shape of x_train: {}\".format(x_train.shape))\n",
    "print(\"Shape of x_test: {}\".format(x_test.shape))\n",
    "print(\"Shape of y_train: {}\".format(y_train.shape))\n",
    "print(\"Shape of y_test: {}\".format(y_test.shape))"
   ]
  },
  {
   "cell_type": "code",
   "execution_count": 9,
   "metadata": {},
   "outputs": [
    {
     "data": {
      "text/markdown": [
       "\n",
       "**Iteration**: 0"
      ],
      "text/plain": [
       "<IPython.core.display.Markdown object>"
      ]
     },
     "metadata": {},
     "output_type": "display_data"
    },
    {
     "name": "stdout",
     "output_type": "stream",
     "text": [
      "Train on 2496 samples, validate on 1071 samples\n",
      "Epoch 1/1000\n",
      " - 13s - loss: 36647.0349 - val_loss: 1291601.0329\n",
      "Epoch 2/1000\n",
      " - 5s - loss: 3282.5977 - val_loss: 6291.9336\n",
      "Epoch 3/1000\n",
      " - 4s - loss: 1762.8163 - val_loss: 2786.8907\n",
      "Epoch 4/1000\n",
      " - 4s - loss: 1404.4664 - val_loss: 2171.7696\n",
      "Epoch 5/1000\n",
      " - 4s - loss: 1170.9368 - val_loss: 1340.4434\n",
      "Epoch 6/1000\n",
      " - 4s - loss: 1034.4632 - val_loss: 2098.7680\n",
      "Epoch 7/1000\n",
      " - 4s - loss: 709.4143 - val_loss: 5631.1699\n",
      "Epoch 8/1000\n",
      " - 4s - loss: 754.0801 - val_loss: 9097.6019\n",
      "Epoch 9/1000\n",
      " - 5s - loss: 625.7763 - val_loss: 3892.7080\n",
      "Epoch 10/1000\n",
      " - 4s - loss: 601.8465 - val_loss: 7295.5027\n",
      "Epoch 00010: early stopping\n"
     ]
    },
    {
     "data": {
      "text/markdown": [
       "\n",
       "**Iteration**: 1"
      ],
      "text/plain": [
       "<IPython.core.display.Markdown object>"
      ]
     },
     "metadata": {},
     "output_type": "display_data"
    },
    {
     "name": "stdout",
     "output_type": "stream",
     "text": [
      "Train on 2496 samples, validate on 1071 samples\n",
      "Epoch 1/1000\n",
      " - 11s - loss: 45687.8416 - val_loss: 334798.4125\n",
      "Epoch 2/1000\n",
      " - 5s - loss: 4378.6206 - val_loss: 17422.3716\n",
      "Epoch 3/1000\n",
      " - 5s - loss: 1776.1590 - val_loss: 4673.9109\n",
      "Epoch 4/1000\n",
      " - 5s - loss: 1128.3682 - val_loss: 17397.9267\n",
      "Epoch 5/1000\n",
      " - 5s - loss: 918.0209 - val_loss: 3582.5983\n",
      "Epoch 6/1000\n",
      " - 5s - loss: 845.1591 - val_loss: 11219.3109\n",
      "Epoch 7/1000\n",
      " - 5s - loss: 687.8068 - val_loss: 7601.9244\n",
      "Epoch 8/1000\n",
      " - 5s - loss: 667.0346 - val_loss: 9577.5266\n",
      "Epoch 9/1000\n",
      " - 5s - loss: 723.3102 - val_loss: 36524.5810\n",
      "Epoch 10/1000\n",
      " - 5s - loss: 657.3614 - val_loss: 10794.0297\n",
      "Epoch 00010: early stopping\n"
     ]
    },
    {
     "data": {
      "text/markdown": [
       "\n",
       "**Iteration**: 2"
      ],
      "text/plain": [
       "<IPython.core.display.Markdown object>"
      ]
     },
     "metadata": {},
     "output_type": "display_data"
    },
    {
     "name": "stdout",
     "output_type": "stream",
     "text": [
      "Train on 2496 samples, validate on 1071 samples\n",
      "Epoch 1/1000\n",
      " - 12s - loss: 27997.7517 - val_loss: 24541.3757\n",
      "Epoch 2/1000\n",
      " - 5s - loss: 2487.4617 - val_loss: 3603.7790\n",
      "Epoch 3/1000\n",
      " - 5s - loss: 1340.8484 - val_loss: 4144.5132\n",
      "Epoch 4/1000\n",
      " - 5s - loss: 928.8021 - val_loss: 16189.6661\n",
      "Epoch 5/1000\n",
      " - 5s - loss: 850.7996 - val_loss: 11840.7286\n",
      "Epoch 6/1000\n",
      " - 5s - loss: 671.3516 - val_loss: 7217.9333\n",
      "Epoch 7/1000\n",
      " - 5s - loss: 667.4219 - val_loss: 13714.3165\n",
      "Epoch 00007: early stopping\n"
     ]
    },
    {
     "data": {
      "text/markdown": [
       "\n",
       "**Iteration**: 3"
      ],
      "text/plain": [
       "<IPython.core.display.Markdown object>"
      ]
     },
     "metadata": {},
     "output_type": "display_data"
    },
    {
     "name": "stdout",
     "output_type": "stream",
     "text": [
      "Train on 2496 samples, validate on 1071 samples\n",
      "Epoch 1/1000\n",
      " - 12s - loss: 61840.1092 - val_loss: 195583.5576\n",
      "Epoch 2/1000\n",
      " - 5s - loss: 6672.6345 - val_loss: 3139.8143\n",
      "Epoch 3/1000\n",
      " - 5s - loss: 2344.9253 - val_loss: 8186.2533\n",
      "Epoch 4/1000\n",
      " - 5s - loss: 1659.1162 - val_loss: 3932.1065\n",
      "Epoch 5/1000\n",
      " - 4s - loss: 1207.8233 - val_loss: 13580.3631\n",
      "Epoch 6/1000\n",
      " - 5s - loss: 1022.5461 - val_loss: 24731.2988\n",
      "Epoch 7/1000\n",
      " - 5s - loss: 981.6784 - val_loss: 11393.8894\n",
      "Epoch 00007: early stopping\n"
     ]
    },
    {
     "data": {
      "text/markdown": [
       "\n",
       "**Iteration**: 4"
      ],
      "text/plain": [
       "<IPython.core.display.Markdown object>"
      ]
     },
     "metadata": {},
     "output_type": "display_data"
    },
    {
     "name": "stdout",
     "output_type": "stream",
     "text": [
      "Train on 2496 samples, validate on 1071 samples\n",
      "Epoch 1/1000\n",
      " - 13s - loss: 26883.8993 - val_loss: 16177.9683\n",
      "Epoch 2/1000\n",
      " - 5s - loss: 2559.7715 - val_loss: 11962.8295\n",
      "Epoch 3/1000\n",
      " - 5s - loss: 1407.6039 - val_loss: 3731.9365\n",
      "Epoch 4/1000\n",
      " - 5s - loss: 966.4617 - val_loss: 4884.7330\n",
      "Epoch 5/1000\n",
      " - 5s - loss: 752.7103 - val_loss: 3321.6323\n",
      "Epoch 6/1000\n",
      " - 5s - loss: 619.8979 - val_loss: 6352.8159\n",
      "Epoch 7/1000\n",
      " - 5s - loss: 624.6977 - val_loss: 21420.8117\n",
      "Epoch 8/1000\n",
      " - 5s - loss: 584.1094 - val_loss: 56761.3357\n",
      "Epoch 9/1000\n",
      " - 5s - loss: 594.3222 - val_loss: 16107.7189\n",
      "Epoch 10/1000\n",
      " - 5s - loss: 541.0804 - val_loss: 63189.0178\n",
      "Epoch 00010: early stopping\n",
      "Training finished...Loading the best model\n",
      "\n"
     ]
    }
   ],
   "source": [
    "checkpointer = ModelCheckpoint(filepath=\"save/continuous_3.hdf5\", verbose=0, save_best_only=True) # save best model\n",
    "for i in range(5):\n",
    "    printmd(\"\\n**Iteration**: {}\".format(i))\n",
    "    model = Sequential()\n",
    "    model.add(Bidirectional(LSTM(512, activation='relu', dropout=0.25, recurrent_dropout=0.18, return_sequences=True, input_shape=(x_train.shape[1], x_train.shape[2]))))\n",
    "    model.add(Bidirectional(LSTM(512, activation='relu', dropout=0.25, recurrent_dropout=0.18, return_sequences=False)))\n",
    "    model.add(Dense(y_train.shape[1]))\n",
    "\n",
    "    model.compile(loss='mean_squared_error', optimizer='adam')\n",
    "\n",
    "    monitor = EarlyStopping(monitor='val_loss', min_delta=1e-3, patience=5, verbose=1, mode='auto')\n",
    "\n",
    "    model.fit(x_train,y_train,validation_data=(x_test,y_test),callbacks=[monitor, checkpointer],verbose=2, epochs=1000, batch_size=32)  \n",
    "    \n",
    "print('Training finished...Loading the best model')  \n",
    "print()"
   ]
  },
  {
   "cell_type": "code",
   "execution_count": 10,
   "metadata": {},
   "outputs": [
    {
     "name": "stdout",
     "output_type": "stream",
     "text": [
      "_________________________________________________________________\n",
      "Layer (type)                 Output Shape              Param #   \n",
      "=================================================================\n",
      "bidirectional_9 (Bidirection (None, 7, 1024)           2121728   \n",
      "_________________________________________________________________\n",
      "bidirectional_10 (Bidirectio (None, 1024)              6295552   \n",
      "_________________________________________________________________\n",
      "dense_5 (Dense)              (None, 3)                 3075      \n",
      "=================================================================\n",
      "Total params: 8,420,355\n",
      "Trainable params: 8,420,355\n",
      "Non-trainable params: 0\n",
      "_________________________________________________________________\n"
     ]
    }
   ],
   "source": [
    "model.load_weights(\"save/continuous_3.hdf5\") # load weights from best model\n",
    "model.summary()"
   ]
  },
  {
   "cell_type": "code",
   "execution_count": 11,
   "metadata": {},
   "outputs": [
    {
     "name": "stdout",
     "output_type": "stream",
     "text": [
      "Score (RMSE): 36.612067039566206\n"
     ]
    }
   ],
   "source": [
    "continuous_3_pred = model.predict(x_test)\n",
    "continuous_3_rmse = np.sqrt(metrics.mean_squared_error(continuous_3_pred,y_test))\n",
    "print(\"Score (RMSE): {}\".format(continuous_3_rmse))"
   ]
  },
  {
   "cell_type": "code",
   "execution_count": 12,
   "metadata": {},
   "outputs": [
    {
     "data": {
      "image/png": "[encoded data removed]",
      "text/plain": [
       "<Figure size 432x288 with 1 Axes>"
      ]
     },
     "metadata": {
      "needs_background": "light"
     },
     "output_type": "display_data"
    }
   ],
   "source": [
    "chart_regression(continuous_3_pred.flatten(), y_test)"
   ]
  },
  {
   "cell_type": "code",
   "execution_count": 13,
   "metadata": {},
   "outputs": [
    {
     "name": "stdout",
     "output_type": "stream",
     "text": [
      "Sample comparision result: \n",
      "\n",
      "          Predicted           Real\n",
      "Day 1:    559.8802           574.7000\n",
      "Day 2:    565.8223           567.8775\n",
      "Day 3:    560.5074           566.0873\n"
     ]
    }
   ],
   "source": [
    "print(\"Sample comparision result: \\n\")\n",
    "print(\"          Predicted           Real\")\n",
    "for i in range(3):\n",
    "    print(\"Day {}:\".format(i+1), end =\" \")   \n",
    "    print(\"   {:.4f}           {:.4f}\".format(continuous_3_pred[19][i], y_test[19][i]))\n"
   ]
  },
  {
   "cell_type": "markdown",
   "metadata": {},
   "source": [
    "## Predicting Google's stock for the next 7 days"
   ]
  },
  {
   "cell_type": "code",
   "execution_count": 151,
   "metadata": {},
   "outputs": [],
   "source": [
    "df = pd.read_csv('GOOG.csv')"
   ]
  },
  {
   "cell_type": "code",
   "execution_count": 152,
   "metadata": {},
   "outputs": [
    {
     "data": {
      "text/plain": [
       "(3578, 5)"
      ]
     },
     "execution_count": 152,
     "metadata": {},
     "output_type": "execute_result"
    }
   ],
   "source": [
    "df.drop(columns=['Adj Close','Date'], inplace=True)\n",
    "df.shape"
   ]
  },
  {
   "cell_type": "code",
   "execution_count": 153,
   "metadata": {},
   "outputs": [],
   "source": [
    "x, y = to_sequences_continuous(7, df, 'Close', 7)"
   ]
  },
  {
   "cell_type": "code",
   "execution_count": 154,
   "metadata": {},
   "outputs": [
    {
     "name": "stdout",
     "output_type": "stream",
     "text": [
      "Shape of x_train: (2494, 7, 5)\n",
      "Shape of x_test: (1069, 7, 5)\n",
      "Shape of y_train: (2494, 7)\n",
      "Shape of y_test: (1069, 7)\n"
     ]
    }
   ],
   "source": [
    "x = zscore(x)\n",
    "x_train = x[0:int(0.7*len(x))]\n",
    "x_test = x[int(0.7*len(x)):]\n",
    "y_train = y[0:int(0.7*len(y))]\n",
    "y_test = y[int(0.7*len(y)):]\n",
    "#x_train, x_test, y_train, y_test = train_test_split(x, y, test_size=0.3)\n",
    "print(\"Shape of x_train: {}\".format(x_train.shape))\n",
    "print(\"Shape of x_test: {}\".format(x_test.shape))\n",
    "print(\"Shape of y_train: {}\".format(y_train.shape))\n",
    "print(\"Shape of y_test: {}\".format(y_test.shape))"
   ]
  },
  {
   "cell_type": "code",
   "execution_count": 155,
   "metadata": {},
   "outputs": [
    {
     "data": {
      "text/markdown": [
       "\n",
       "**Iteration**: 0"
      ],
      "text/plain": [
       "<IPython.core.display.Markdown object>"
      ]
     },
     "metadata": {},
     "output_type": "display_data"
    },
    {
     "name": "stdout",
     "output_type": "stream",
     "text": [
      "Train on 2494 samples, validate on 1069 samples\n",
      "Epoch 1/1000\n",
      " - 51s - loss: 80069.3998 - val_loss: 92147.9905\n",
      "Epoch 2/1000\n",
      " - 9s - loss: 7501.0684 - val_loss: 13207.1237\n",
      "Epoch 3/1000\n",
      " - 9s - loss: 3008.4668 - val_loss: 72113.4973\n",
      "Epoch 4/1000\n",
      " - 9s - loss: 2186.9635 - val_loss: 9178.8336\n",
      "Epoch 5/1000\n",
      " - 9s - loss: 1635.5376 - val_loss: 17009.3777\n",
      "Epoch 6/1000\n",
      " - 9s - loss: 1424.3091 - val_loss: 26743.0127\n",
      "Epoch 7/1000\n",
      " - 9s - loss: 1178.0850 - val_loss: 15298.6000\n",
      "Epoch 8/1000\n",
      " - 9s - loss: 1074.7350 - val_loss: 26103.3970\n",
      "Epoch 9/1000\n",
      " - 9s - loss: 938.5138 - val_loss: 44909.9303\n",
      "Epoch 00009: early stopping\n"
     ]
    },
    {
     "data": {
      "text/markdown": [
       "\n",
       "**Iteration**: 1"
      ],
      "text/plain": [
       "<IPython.core.display.Markdown object>"
      ]
     },
     "metadata": {},
     "output_type": "display_data"
    },
    {
     "name": "stdout",
     "output_type": "stream",
     "text": [
      "Train on 2494 samples, validate on 1069 samples\n",
      "Epoch 1/1000\n",
      " - 52s - loss: 34296.4177 - val_loss: 34844.9469\n",
      "Epoch 2/1000\n",
      " - 10s - loss: 3115.6616 - val_loss: 3031.8711\n",
      "Epoch 3/1000\n",
      " - 10s - loss: 2021.5126 - val_loss: 5286.0194\n",
      "Epoch 4/1000\n",
      " - 10s - loss: 1270.1433 - val_loss: 2606.6384\n",
      "Epoch 5/1000\n",
      " - 10s - loss: 1039.9670 - val_loss: 6736.0760\n",
      "Epoch 6/1000\n",
      " - 10s - loss: 768.9717 - val_loss: 4390.3442\n",
      "Epoch 7/1000\n",
      " - 10s - loss: 728.2489 - val_loss: 4112.1749\n",
      "Epoch 8/1000\n",
      " - 10s - loss: 646.5925 - val_loss: 22857.4688\n",
      "Epoch 9/1000\n",
      " - 10s - loss: 635.2518 - val_loss: 6110.8731\n",
      "Epoch 00009: early stopping\n"
     ]
    },
    {
     "data": {
      "text/markdown": [
       "\n",
       "**Iteration**: 2"
      ],
      "text/plain": [
       "<IPython.core.display.Markdown object>"
      ]
     },
     "metadata": {},
     "output_type": "display_data"
    },
    {
     "name": "stdout",
     "output_type": "stream",
     "text": [
      "Train on 2494 samples, validate on 1069 samples\n",
      "Epoch 1/1000\n",
      " - 53s - loss: 63364.8063 - val_loss: 1168189.6540\n",
      "Epoch 2/1000\n",
      " - 9s - loss: 5951.5681 - val_loss: 56585.6352\n",
      "Epoch 3/1000\n",
      " - 9s - loss: 2833.3064 - val_loss: 47114.1811\n",
      "Epoch 4/1000\n",
      " - 9s - loss: 1936.6211 - val_loss: 91034.4863\n",
      "Epoch 5/1000\n",
      " - 9s - loss: 1464.9026 - val_loss: 40007.6739\n",
      "Epoch 6/1000\n",
      " - 9s - loss: 1149.1269 - val_loss: 78681.0589\n",
      "Epoch 7/1000\n",
      " - 10s - loss: 1102.2300 - val_loss: 44135.5433\n",
      "Epoch 8/1000\n",
      " - 9s - loss: 875.9710 - val_loss: 25842.6879\n",
      "Epoch 9/1000\n",
      " - 9s - loss: 807.5642 - val_loss: 33446.7368\n",
      "Epoch 10/1000\n",
      " - 9s - loss: 732.1450 - val_loss: 65787.7530\n",
      "Epoch 11/1000\n",
      " - 9s - loss: 678.3067 - val_loss: 29712.9483\n",
      "Epoch 12/1000\n",
      " - 9s - loss: 644.3206 - val_loss: 35877.5842\n",
      "Epoch 13/1000\n",
      " - 9s - loss: 610.8796 - val_loss: 39711.1650\n",
      "Epoch 00013: early stopping\n"
     ]
    },
    {
     "data": {
      "text/markdown": [
       "\n",
       "**Iteration**: 3"
      ],
      "text/plain": [
       "<IPython.core.display.Markdown object>"
      ]
     },
     "metadata": {},
     "output_type": "display_data"
    },
    {
     "name": "stdout",
     "output_type": "stream",
     "text": [
      "Train on 2494 samples, validate on 1069 samples\n",
      "Epoch 1/1000\n",
      " - 54s - loss: 49918.4155 - val_loss: 61840.4223\n",
      "Epoch 2/1000\n",
      " - 10s - loss: 4307.8641 - val_loss: 1969.9019\n",
      "Epoch 3/1000\n",
      " - 10s - loss: 2036.9112 - val_loss: 3844.2092\n",
      "Epoch 4/1000\n",
      " - 10s - loss: 1692.2036 - val_loss: 4466.0594\n",
      "Epoch 5/1000\n",
      " - 10s - loss: 1365.4572 - val_loss: 1480.4014\n",
      "Epoch 6/1000\n",
      " - 10s - loss: 1142.1889 - val_loss: 4399.9912\n",
      "Epoch 7/1000\n",
      " - 10s - loss: 932.6584 - val_loss: 6903.6316\n",
      "Epoch 8/1000\n",
      " - 10s - loss: 827.4728 - val_loss: 1674.8458\n",
      "Epoch 9/1000\n",
      " - 10s - loss: 865.8157 - val_loss: 12502.3603\n",
      "Epoch 10/1000\n",
      " - 10s - loss: 909.2911 - val_loss: 2377.6199\n",
      "Epoch 00010: early stopping\n"
     ]
    },
    {
     "data": {
      "text/markdown": [
       "\n",
       "**Iteration**: 4"
      ],
      "text/plain": [
       "<IPython.core.display.Markdown object>"
      ]
     },
     "metadata": {},
     "output_type": "display_data"
    },
    {
     "name": "stdout",
     "output_type": "stream",
     "text": [
      "Train on 2494 samples, validate on 1069 samples\n",
      "Epoch 1/1000\n",
      " - 55s - loss: 57047.8666 - val_loss: 1362285.3308\n",
      "Epoch 2/1000\n",
      " - 10s - loss: 6025.4942 - val_loss: 133234.5713\n",
      "Epoch 3/1000\n",
      " - 10s - loss: 2925.8106 - val_loss: 53801.3601\n",
      "Epoch 4/1000\n",
      " - 10s - loss: 1999.1052 - val_loss: 19394.4981\n",
      "Epoch 5/1000\n",
      " - 10s - loss: 1721.8610 - val_loss: 20884.1953\n",
      "Epoch 6/1000\n",
      " - 10s - loss: 1440.5499 - val_loss: 38799.3800\n",
      "Epoch 7/1000\n",
      " - 10s - loss: 1073.4856 - val_loss: 52866.9930\n",
      "Epoch 8/1000\n",
      " - 10s - loss: 993.3482 - val_loss: 44388.1697\n",
      "Epoch 9/1000\n",
      " - 10s - loss: 867.5251 - val_loss: 33151.8012\n",
      "Epoch 00009: early stopping\n",
      "Training finished...Loading the best model\n",
      "\n"
     ]
    }
   ],
   "source": [
    "checkpointer = ModelCheckpoint(filepath=\"save/continuous.hdf5\", verbose=0, save_best_only=True) # save best model\n",
    "for i in range(5):\n",
    "    printmd(\"\\n**Iteration**: {}\".format(i))\n",
    "    model = Sequential()\n",
    "    model.add(Bidirectional(LSTM(512, activation='relu', dropout=0.25, recurrent_dropout=0.18, return_sequences=True, input_shape=(x_train.shape[1], x_train.shape[2]))))\n",
    "    model.add(Bidirectional(LSTM(512, activation='relu', dropout=0.25, recurrent_dropout=0.18, return_sequences=False)))\n",
    "    model.add(Dense(7))\n",
    "\n",
    "    model.compile(loss='mean_squared_error', optimizer='adam')\n",
    "\n",
    "    monitor = EarlyStopping(monitor='val_loss', min_delta=1e-3, patience=5, verbose=1, mode='auto')\n",
    "\n",
    "    model.fit(x_train,y_train,validation_data=(x_test,y_test),callbacks=[monitor, checkpointer],verbose=2, epochs=1000, batch_size=32)  \n",
    "    \n",
    "print('Training finished...Loading the best model')  \n",
    "print()"
   ]
  },
  {
   "cell_type": "code",
   "execution_count": 156,
   "metadata": {},
   "outputs": [
    {
     "name": "stdout",
     "output_type": "stream",
     "text": [
      "_________________________________________________________________\n",
      "Layer (type)                 Output Shape              Param #   \n",
      "=================================================================\n",
      "bidirectional_94 (Bidirectio (None, 7, 1024)           2121728   \n",
      "_________________________________________________________________\n",
      "bidirectional_95 (Bidirectio (None, 1024)              6295552   \n",
      "_________________________________________________________________\n",
      "dense_89 (Dense)             (None, 7)                 7175      \n",
      "=================================================================\n",
      "Total params: 8,424,455\n",
      "Trainable params: 8,424,455\n",
      "Non-trainable params: 0\n",
      "_________________________________________________________________\n"
     ]
    }
   ],
   "source": [
    "model.load_weights(\"save/continuous.hdf5\") # load weights from best model\n",
    "model.summary()"
   ]
  },
  {
   "cell_type": "code",
   "execution_count": 157,
   "metadata": {},
   "outputs": [
    {
     "name": "stdout",
     "output_type": "stream",
     "text": [
      "Score (RMSE): 38.4759843724456\n"
     ]
    }
   ],
   "source": [
    "continuous_pred = model.predict(x_test)\n",
    "continuous_rmse = np.sqrt(metrics.mean_squared_error(continuous_pred,y_test))\n",
    "print(\"Score (RMSE): {}\".format(continuous_rmse))"
   ]
  },
  {
   "cell_type": "code",
   "execution_count": 158,
   "metadata": {},
   "outputs": [
    {
     "data": {
      "image/png": "[encoded data removed]",
      "text/plain": [
       "<Figure size 432x288 with 1 Axes>"
      ]
     },
     "metadata": {
      "needs_background": "light"
     },
     "output_type": "display_data"
    }
   ],
   "source": [
    "chart_regression(continuous_pred.flatten(), y_test)"
   ]
  },
  {
   "cell_type": "code",
   "execution_count": 159,
   "metadata": {},
   "outputs": [
    {
     "name": "stdout",
     "output_type": "stream",
     "text": [
      "Sample comparision result: \n",
      "\n",
      "          Predicted           Real\n",
      "Day 1:    558.7465           579.3743\n",
      "Day 2:    559.3696           577.0272\n",
      "Day 3:    557.5245           574.7000\n",
      "Day 4:    557.8124           567.8775\n",
      "Day 5:    562.1210           566.0873\n",
      "Day 6:    559.4254           568.4742\n",
      "Day 7:    562.6073           574.1729\n"
     ]
    }
   ],
   "source": [
    "print(\"Sample comparision result: \\n\")\n",
    "print(\"          Predicted           Real\")\n",
    "for i in range(7):\n",
    "    print(\"Day {}:\".format(i+1), end =\" \")   \n",
    "    print(\"   {:.4f}           {:.4f}\".format(continuous_pred[19][i], y_test[19][i]))\n"
   ]
  },
  {
   "cell_type": "code",
   "execution_count": null,
   "metadata": {},
   "outputs": [],
   "source": []
  }
 ],
 "metadata": {
  "kernelspec": {
   "display_name": "TensorFlow-GPU",
   "language": "python",
   "name": "tf-gpu"
  },
  "language_info": {
   "codemirror_mode": {
    "name": "ipython",
    "version": 3
   },
   "file_extension": ".py",
   "mimetype": "text/x-python",
   "name": "python",
   "nbconvert_exporter": "python",
   "pygments_lexer": "ipython3",
   "version": "3.6.8"
  }
 },
 "nbformat": 4,
 "nbformat_minor": 2
}
