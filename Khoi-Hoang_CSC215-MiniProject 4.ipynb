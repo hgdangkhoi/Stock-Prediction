{
 "cells": [
  {
   "cell_type": "code",
   "execution_count": 4,
   "metadata": {},
   "outputs": [],
   "source": [
    "import os\n",
    "import csv\n",
    "import json\n",
    "import numpy as np\n",
    "import pandas as pd\n",
    "import matplotlib.pyplot as plt\n",
    "import collections\n",
    "import sklearn.feature_extraction.text as sk_text\n",
    "import scipy as sp\n",
    "import math\n",
    "from scipy.stats import zscore\n",
    "from sklearn import preprocessing\n",
    "from sklearn.model_selection import train_test_split\n",
    "from sklearn import metrics\n",
    "from sklearn.metrics import roc_curve, auc\n",
    "from sklearn import svm, datasets\n",
    "from sklearn.metrics import confusion_matrix, classification_report\n",
    "from matplotlib.pyplot import figure, show\n",
    "from IPython.display import Markdown, display\n",
    "from sklearn import metrics\n",
    "\n",
    "%matplotlib inline"
   ]
  },
  {
   "cell_type": "code",
   "execution_count": 162,
   "metadata": {},
   "outputs": [],
   "source": [
    "# Encode text values to dummy variables(i.e. [1,0,0],[0,1,0],[0,0,1] for red,green,blue)\n",
    "def encode_text_dummy(df, name):\n",
    "    dummies = pd.get_dummies(df[name])\n",
    "    for x in dummies.columns:\n",
    "        dummy_name = \"{}-{}\".format(name, x)\n",
    "        df[dummy_name] = dummies[x]\n",
    "    df.drop(name, axis=1, inplace=True)\n",
    "\n",
    "# Encode text values to indexes(i.e. [1],[2],[3] for red,green,blue).\n",
    "def encode_text_index(df, name):\n",
    "    le = preprocessing.LabelEncoder()\n",
    "    df[name] = le.fit_transform(df[name])\n",
    "    return le.classes_\n",
    "\n",
    "# Encode a numeric column as zscores\n",
    "def encode_numeric_zscore(df, name, mean=None, sd=None):\n",
    "    if mean is None:\n",
    "        mean = df[name].mean()\n",
    "\n",
    "    if sd is None:\n",
    "        sd = df[name].std()\n",
    "\n",
    "    df[name] = (df[name] - mean) / sd\n",
    "    \n",
    "# Convert all missing values in the specified column to the median\n",
    "def missing_median(df, name):\n",
    "    med = df[name].median()\n",
    "    df[name] = df[name].fillna(med)    \n",
    "\n",
    "# Regression chart.\n",
    "def chart_regression(pred,y,sort=True):\n",
    "    t = pd.DataFrame({'pred' : pred, 'y' : y.flatten()})\n",
    "    if sort:\n",
    "        t.sort_values(by=['y'],inplace=True)\n",
    "    a = plt.plot(t['y'].tolist(),label='expected')\n",
    "    b = plt.plot(t['pred'].tolist(),label='prediction')\n",
    "    plt.ylabel('output')\n",
    "    plt.legend()\n",
    "    plt.show()    \n",
    "    \n",
    "# Convert a Pandas dataframe to the x,y inputs that TensorFlow needs\n",
    "def to_xy(df, target):\n",
    "    result = []\n",
    "    for x in df.columns:\n",
    "        if x != target:\n",
    "            result.append(x)\n",
    "    # find out the type of the target column. \n",
    "    target_type = df[target].dtypes\n",
    "    target_type = target_type[0] if isinstance(target_type, collections.Sequence) else target_type\n",
    "    # Encode to int for classification, float otherwise. TensorFlow likes 32 bits.\n",
    "    if target_type in (np.int64, np.int32):\n",
    "        # Classification\n",
    "        dummies = pd.get_dummies(df[target])\n",
    "        return df[result].values.astype(np.float32), dummies.values.astype(np.float32)\n",
    "    else:\n",
    "        # Regression\n",
    "        return df[result].values.astype(np.float32), df[target].values.astype(np.float32)\n",
    "    \n",
    "# Print markdown style\n",
    "def printmd(string):\n",
    "    display(Markdown(string))\n",
    "    \n",
    "def to_sequences(seq_size, data):\n",
    "    x = []\n",
    "    y = []\n",
    "\n",
    "    for i in range(len(data.index)-SEQUENCE_SIZE-1):\n",
    "        window = data[i:(i+SEQUENCE_SIZE)]\n",
    "        after_window = data.iloc[i+SEQUENCE_SIZE]\n",
    "        window = [row.values for index, row in window.iterrows()]\n",
    "        x.append(window)\n",
    "        y.append(after_window['Close'])\n",
    "        \n",
    "    return np.array(x),np.array(y)"
   ]
  },
  {
   "cell_type": "markdown",
   "metadata": {},
   "source": [
    "# Data Preprocessing"
   ]
  },
  {
   "cell_type": "code",
   "execution_count": 54,
   "metadata": {},
   "outputs": [],
   "source": [
    "df = pd.read_csv('CSC215_Project4_Stock_Price.csv')\n",
    "#df.columns = ['Date', 'Open', 'High', 'Low', 'Close', 'Adj_Close', 'Volume']"
   ]
  },
  {
   "cell_type": "code",
   "execution_count": 55,
   "metadata": {},
   "outputs": [
    {
     "data": {
      "text/html": [
       "<div>\n",
       "<style scoped>\n",
       "    .dataframe tbody tr th:only-of-type {\n",
       "        vertical-align: middle;\n",
       "    }\n",
       "\n",
       "    .dataframe tbody tr th {\n",
       "        vertical-align: top;\n",
       "    }\n",
       "\n",
       "    .dataframe thead th {\n",
       "        text-align: right;\n",
       "    }\n",
       "</style>\n",
       "<table border=\"1\" class=\"dataframe\">\n",
       "  <thead>\n",
       "    <tr style=\"text-align: right;\">\n",
       "      <th></th>\n",
       "      <th>Open</th>\n",
       "      <th>High</th>\n",
       "      <th>Low</th>\n",
       "      <th>Close</th>\n",
       "      <th>Volume</th>\n",
       "    </tr>\n",
       "  </thead>\n",
       "  <tbody>\n",
       "    <tr>\n",
       "      <th>0</th>\n",
       "      <td>3.812500</td>\n",
       "      <td>4.156250</td>\n",
       "      <td>3.812500</td>\n",
       "      <td>4.125000</td>\n",
       "      <td>3675600</td>\n",
       "    </tr>\n",
       "    <tr>\n",
       "      <th>1</th>\n",
       "      <td>4.125000</td>\n",
       "      <td>4.125000</td>\n",
       "      <td>4.000000</td>\n",
       "      <td>4.015625</td>\n",
       "      <td>1077600</td>\n",
       "    </tr>\n",
       "    <tr>\n",
       "      <th>2</th>\n",
       "      <td>4.000000</td>\n",
       "      <td>4.031250</td>\n",
       "      <td>3.953125</td>\n",
       "      <td>4.000000</td>\n",
       "      <td>437200</td>\n",
       "    </tr>\n",
       "    <tr>\n",
       "      <th>3</th>\n",
       "      <td>4.000000</td>\n",
       "      <td>4.000000</td>\n",
       "      <td>3.843750</td>\n",
       "      <td>3.843750</td>\n",
       "      <td>1883600</td>\n",
       "    </tr>\n",
       "    <tr>\n",
       "      <th>4</th>\n",
       "      <td>3.734375</td>\n",
       "      <td>3.734375</td>\n",
       "      <td>3.390625</td>\n",
       "      <td>3.390625</td>\n",
       "      <td>7931600</td>\n",
       "    </tr>\n",
       "  </tbody>\n",
       "</table>\n",
       "</div>"
      ],
      "text/plain": [
       "       Open      High       Low     Close   Volume\n",
       "0  3.812500  4.156250  3.812500  4.125000  3675600\n",
       "1  4.125000  4.125000  4.000000  4.015625  1077600\n",
       "2  4.000000  4.031250  3.953125  4.000000   437200\n",
       "3  4.000000  4.000000  3.843750  3.843750  1883600\n",
       "4  3.734375  3.734375  3.390625  3.390625  7931600"
      ]
     },
     "execution_count": 55,
     "metadata": {},
     "output_type": "execute_result"
    }
   ],
   "source": [
    "df.drop(columns=['Adj_Close','Date'], inplace=True)\n",
    "df.head()"
   ]
  },
  {
   "cell_type": "code",
   "execution_count": 56,
   "metadata": {},
   "outputs": [
    {
     "data": {
      "text/html": [
       "<div>\n",
       "<style scoped>\n",
       "    .dataframe tbody tr th:only-of-type {\n",
       "        vertical-align: middle;\n",
       "    }\n",
       "\n",
       "    .dataframe tbody tr th {\n",
       "        vertical-align: top;\n",
       "    }\n",
       "\n",
       "    .dataframe thead th {\n",
       "        text-align: right;\n",
       "    }\n",
       "</style>\n",
       "<table border=\"1\" class=\"dataframe\">\n",
       "  <thead>\n",
       "    <tr style=\"text-align: right;\">\n",
       "      <th></th>\n",
       "      <th>Open</th>\n",
       "      <th>High</th>\n",
       "      <th>Low</th>\n",
       "      <th>Volume</th>\n",
       "      <th>Close</th>\n",
       "    </tr>\n",
       "  </thead>\n",
       "  <tbody>\n",
       "    <tr>\n",
       "      <th>0</th>\n",
       "      <td>3.812500</td>\n",
       "      <td>4.156250</td>\n",
       "      <td>3.812500</td>\n",
       "      <td>3675600</td>\n",
       "      <td>4.125000</td>\n",
       "    </tr>\n",
       "    <tr>\n",
       "      <th>1</th>\n",
       "      <td>4.125000</td>\n",
       "      <td>4.125000</td>\n",
       "      <td>4.000000</td>\n",
       "      <td>1077600</td>\n",
       "      <td>4.015625</td>\n",
       "    </tr>\n",
       "    <tr>\n",
       "      <th>2</th>\n",
       "      <td>4.000000</td>\n",
       "      <td>4.031250</td>\n",
       "      <td>3.953125</td>\n",
       "      <td>437200</td>\n",
       "      <td>4.000000</td>\n",
       "    </tr>\n",
       "    <tr>\n",
       "      <th>3</th>\n",
       "      <td>4.000000</td>\n",
       "      <td>4.000000</td>\n",
       "      <td>3.843750</td>\n",
       "      <td>1883600</td>\n",
       "      <td>3.843750</td>\n",
       "    </tr>\n",
       "    <tr>\n",
       "      <th>4</th>\n",
       "      <td>3.734375</td>\n",
       "      <td>3.734375</td>\n",
       "      <td>3.390625</td>\n",
       "      <td>7931600</td>\n",
       "      <td>3.390625</td>\n",
       "    </tr>\n",
       "  </tbody>\n",
       "</table>\n",
       "</div>"
      ],
      "text/plain": [
       "       Open      High       Low   Volume     Close\n",
       "0  3.812500  4.156250  3.812500  3675600  4.125000\n",
       "1  4.125000  4.125000  4.000000  1077600  4.015625\n",
       "2  4.000000  4.031250  3.953125   437200  4.000000\n",
       "3  4.000000  4.000000  3.843750  1883600  3.843750\n",
       "4  3.734375  3.734375  3.390625  7931600  3.390625"
      ]
     },
     "execution_count": 56,
     "metadata": {},
     "output_type": "execute_result"
    }
   ],
   "source": [
    "# Rearrange the columns\n",
    "df = df[['Open', 'High', 'Low', 'Volume', 'Close']]\n",
    "df.head()"
   ]
  },
  {
   "cell_type": "code",
   "execution_count": 57,
   "metadata": {},
   "outputs": [
    {
     "data": {
      "text/plain": [
       "Open      False\n",
       "High      False\n",
       "Low       False\n",
       "Volume    False\n",
       "Close     False\n",
       "dtype: bool"
      ]
     },
     "execution_count": 57,
     "metadata": {},
     "output_type": "execute_result"
    }
   ],
   "source": [
    "df.isnull().any()"
   ]
  },
  {
   "cell_type": "code",
   "execution_count": 58,
   "metadata": {},
   "outputs": [
    {
     "name": "stdout",
     "output_type": "stream",
     "text": [
      "(4392, 5)\n"
     ]
    },
    {
     "data": {
      "text/html": [
       "<div>\n",
       "<style scoped>\n",
       "    .dataframe tbody tr th:only-of-type {\n",
       "        vertical-align: middle;\n",
       "    }\n",
       "\n",
       "    .dataframe tbody tr th {\n",
       "        vertical-align: top;\n",
       "    }\n",
       "\n",
       "    .dataframe thead th {\n",
       "        text-align: right;\n",
       "    }\n",
       "</style>\n",
       "<table border=\"1\" class=\"dataframe\">\n",
       "  <thead>\n",
       "    <tr style=\"text-align: right;\">\n",
       "      <th></th>\n",
       "      <th>Open</th>\n",
       "      <th>High</th>\n",
       "      <th>Low</th>\n",
       "      <th>Volume</th>\n",
       "      <th>Close</th>\n",
       "    </tr>\n",
       "  </thead>\n",
       "  <tbody>\n",
       "    <tr>\n",
       "      <th>0</th>\n",
       "      <td>-0.894209</td>\n",
       "      <td>-0.885022</td>\n",
       "      <td>-0.892306</td>\n",
       "      <td>1.104812</td>\n",
       "      <td>4.125000</td>\n",
       "    </tr>\n",
       "    <tr>\n",
       "      <th>1</th>\n",
       "      <td>-0.883762</td>\n",
       "      <td>-0.886056</td>\n",
       "      <td>-0.885975</td>\n",
       "      <td>-0.497301</td>\n",
       "      <td>4.015625</td>\n",
       "    </tr>\n",
       "    <tr>\n",
       "      <th>2</th>\n",
       "      <td>-0.887941</td>\n",
       "      <td>-0.889159</td>\n",
       "      <td>-0.887558</td>\n",
       "      <td>-0.892217</td>\n",
       "      <td>4.000000</td>\n",
       "    </tr>\n",
       "    <tr>\n",
       "      <th>3</th>\n",
       "      <td>-0.887941</td>\n",
       "      <td>-0.890194</td>\n",
       "      <td>-0.891251</td>\n",
       "      <td>-0.000263</td>\n",
       "      <td>3.843750</td>\n",
       "    </tr>\n",
       "    <tr>\n",
       "      <th>4</th>\n",
       "      <td>-0.896820</td>\n",
       "      <td>-0.898986</td>\n",
       "      <td>-0.906551</td>\n",
       "      <td>3.729366</td>\n",
       "      <td>3.390625</td>\n",
       "    </tr>\n",
       "  </tbody>\n",
       "</table>\n",
       "</div>"
      ],
      "text/plain": [
       "       Open      High       Low    Volume     Close\n",
       "0 -0.894209 -0.885022 -0.892306  1.104812  4.125000\n",
       "1 -0.883762 -0.886056 -0.885975 -0.497301  4.015625\n",
       "2 -0.887941 -0.889159 -0.887558 -0.892217  4.000000\n",
       "3 -0.887941 -0.890194 -0.891251 -0.000263  3.843750\n",
       "4 -0.896820 -0.898986 -0.906551  3.729366  3.390625"
      ]
     },
     "execution_count": 58,
     "metadata": {},
     "output_type": "execute_result"
    }
   ],
   "source": [
    "#df['Open'] = zscore(df['Open'])\n",
    "#df['High'] = zscore(df['High'])\n",
    "#df['Low'] = zscore(df['Low'])\n",
    "#df['Volume'] = zscore(df['Volume'])\n",
    "encode_numeric_zscore(df, 'Open')\n",
    "encode_numeric_zscore(df, 'High')\n",
    "encode_numeric_zscore(df, 'Low')\n",
    "encode_numeric_zscore(df, 'Volume')\n",
    "print(df.shape)\n",
    "df.head()"
   ]
  },
  {
   "cell_type": "code",
   "execution_count": 59,
   "metadata": {},
   "outputs": [],
   "source": [
    "x, y = to_xy(df, 'Close')"
   ]
  },
  {
   "cell_type": "code",
   "execution_count": 60,
   "metadata": {},
   "outputs": [
    {
     "data": {
      "text/plain": [
       "array([[-8.9420879e-01, -8.8502169e-01, -8.9230639e-01,  1.1048120e+00],\n",
       "       [-8.8376242e-01, -8.8605607e-01, -8.8597530e-01, -4.9730068e-01],\n",
       "       [-8.8794094e-01, -8.8915926e-01, -8.8755810e-01, -8.9221716e-01],\n",
       "       [-8.8794094e-01, -8.9019364e-01, -8.9125121e-01, -2.6340524e-04],\n",
       "       [-8.9682037e-01, -8.9898598e-01, -9.0655136e-01,  3.7293661e+00]],\n",
       "      dtype=float32)"
      ]
     },
     "execution_count": 60,
     "metadata": {},
     "output_type": "execute_result"
    }
   ],
   "source": [
    "x[0:5]"
   ]
  },
  {
   "cell_type": "code",
   "execution_count": 61,
   "metadata": {},
   "outputs": [],
   "source": [
    "x_train, x_test, y_train, y_test = train_test_split(x, y, test_size=0.3, random_state=43)"
   ]
  },
  {
   "cell_type": "code",
   "execution_count": 84,
   "metadata": {},
   "outputs": [
    {
     "data": {
      "text/plain": [
       "(3074, 4)"
      ]
     },
     "execution_count": 84,
     "metadata": {},
     "output_type": "execute_result"
    }
   ],
   "source": [
    "x_train.shape"
   ]
  },
  {
   "cell_type": "markdown",
   "metadata": {},
   "source": [
    "# Fully Connected Neural Network"
   ]
  },
  {
   "cell_type": "code",
   "execution_count": 168,
   "metadata": {},
   "outputs": [],
   "source": [
    "from keras.preprocessing import sequence\n",
    "from keras.models import Sequential\n",
    "from keras.layers.core import Dense, Activation, Dropout\n",
    "from keras.layers import LSTM, Embedding\n",
    "from keras.callbacks import EarlyStopping\n",
    "from keras.callbacks import ModelCheckpoint\n",
    "from keras import optimizers\n",
    "from tensorflow import keras"
   ]
  },
  {
   "cell_type": "code",
   "execution_count": 76,
   "metadata": {},
   "outputs": [
    {
     "data": {
      "text/markdown": [
       "**Activation** = relu  **Optimizer** = adam "
      ],
      "text/plain": [
       "<IPython.core.display.Markdown object>"
      ]
     },
     "metadata": {},
     "output_type": "display_data"
    },
    {
     "name": "stdout",
     "output_type": "stream",
     "text": [
      "Train on 3074 samples, validate on 1318 samples\n",
      "Epoch 1/500\n",
      " - 3s - loss: 1740.8611 - acc: 0.0000e+00 - val_loss: 1886.3924 - val_acc: 0.0000e+00\n",
      "Epoch 2/500\n",
      " - 0s - loss: 1697.4837 - acc: 0.0000e+00 - val_loss: 1829.3406 - val_acc: 0.0000e+00\n",
      "Epoch 3/500\n",
      " - 0s - loss: 1633.4513 - acc: 0.0000e+00 - val_loss: 1749.5545 - val_acc: 0.0000e+00\n",
      "Epoch 4/500\n",
      " - 0s - loss: 1548.3373 - acc: 0.0000e+00 - val_loss: 1627.1984 - val_acc: 0.0000e+00\n",
      "Epoch 5/500\n",
      " - 0s - loss: 1420.4473 - acc: 3.2531e-04 - val_loss: 1455.1072 - val_acc: 0.0000e+00\n",
      "Epoch 6/500\n",
      " - 0s - loss: 1237.2234 - acc: 3.2531e-04 - val_loss: 1217.7634 - val_acc: 0.0000e+00\n",
      "Epoch 7/500\n",
      " - 0s - loss: 1003.8087 - acc: 9.7593e-04 - val_loss: 939.7263 - val_acc: 7.5873e-04\n",
      "Epoch 8/500\n",
      " - 0s - loss: 756.1648 - acc: 3.2531e-04 - val_loss: 665.0821 - val_acc: 0.0000e+00\n",
      "Epoch 9/500\n",
      " - 0s - loss: 509.3234 - acc: 3.2531e-04 - val_loss: 409.0013 - val_acc: 0.0000e+00\n",
      "Epoch 10/500\n",
      " - 0s - loss: 305.1235 - acc: 0.0000e+00 - val_loss: 227.7654 - val_acc: 0.0000e+00\n",
      "Epoch 11/500\n",
      " - 0s - loss: 180.3024 - acc: 3.2531e-04 - val_loss: 124.0331 - val_acc: 0.0000e+00\n",
      "Epoch 12/500\n",
      " - 0s - loss: 113.2167 - acc: 6.5062e-04 - val_loss: 71.8420 - val_acc: 0.0000e+00\n",
      "Epoch 13/500\n",
      " - 0s - loss: 81.0673 - acc: 6.5062e-04 - val_loss: 52.2528 - val_acc: 0.0000e+00\n",
      "Epoch 14/500\n",
      " - 0s - loss: 73.9743 - acc: 3.2531e-04 - val_loss: 44.2452 - val_acc: 0.0000e+00\n",
      "Epoch 15/500\n",
      " - 0s - loss: 67.1210 - acc: 0.0000e+00 - val_loss: 39.2805 - val_acc: 7.5873e-04\n",
      "Epoch 16/500\n",
      " - 0s - loss: 62.5966 - acc: 3.2531e-04 - val_loss: 35.0030 - val_acc: 7.5873e-04\n",
      "Epoch 17/500\n",
      " - 0s - loss: 59.3423 - acc: 6.5062e-04 - val_loss: 31.9816 - val_acc: 7.5873e-04\n",
      "Epoch 18/500\n",
      " - 0s - loss: 55.0527 - acc: 0.0000e+00 - val_loss: 29.5139 - val_acc: 7.5873e-04\n",
      "Epoch 19/500\n",
      " - 0s - loss: 50.3060 - acc: 3.2531e-04 - val_loss: 25.7780 - val_acc: 7.5873e-04\n",
      "Epoch 20/500\n",
      " - 0s - loss: 50.8992 - acc: 0.0000e+00 - val_loss: 23.3827 - val_acc: 7.5873e-04\n",
      "Epoch 21/500\n",
      " - 0s - loss: 45.6349 - acc: 3.2531e-04 - val_loss: 21.0322 - val_acc: 7.5873e-04\n",
      "Epoch 22/500\n",
      " - 0s - loss: 41.6420 - acc: 3.2531e-04 - val_loss: 19.0622 - val_acc: 7.5873e-04\n",
      "Epoch 23/500\n",
      " - 0s - loss: 41.9535 - acc: 6.5062e-04 - val_loss: 17.0617 - val_acc: 7.5873e-04\n",
      "Epoch 24/500\n",
      " - 0s - loss: 38.5740 - acc: 0.0013 - val_loss: 15.4054 - val_acc: 7.5873e-04\n",
      "Epoch 25/500\n",
      " - 0s - loss: 37.4847 - acc: 0.0000e+00 - val_loss: 13.8008 - val_acc: 7.5873e-04\n",
      "Epoch 26/500\n",
      " - 0s - loss: 37.3352 - acc: 9.7593e-04 - val_loss: 12.4550 - val_acc: 0.0000e+00\n",
      "Epoch 27/500\n",
      " - 0s - loss: 35.7987 - acc: 6.5062e-04 - val_loss: 11.1102 - val_acc: 0.0000e+00\n",
      "Epoch 28/500\n",
      " - 0s - loss: 35.4158 - acc: 3.2531e-04 - val_loss: 9.7187 - val_acc: 0.0000e+00\n",
      "Epoch 29/500\n",
      " - 0s - loss: 35.0102 - acc: 3.2531e-04 - val_loss: 8.4592 - val_acc: 0.0000e+00\n",
      "Epoch 30/500\n",
      " - 0s - loss: 29.8867 - acc: 6.5062e-04 - val_loss: 7.6501 - val_acc: 0.0000e+00\n",
      "Epoch 31/500\n",
      " - 0s - loss: 29.3182 - acc: 0.0023 - val_loss: 7.1105 - val_acc: 0.0000e+00\n",
      "Epoch 32/500\n",
      " - 0s - loss: 31.9158 - acc: 9.7593e-04 - val_loss: 6.3533 - val_acc: 7.5873e-04\n",
      "Epoch 33/500\n",
      " - 0s - loss: 32.2178 - acc: 9.7593e-04 - val_loss: 5.7251 - val_acc: 0.0000e+00\n",
      "Epoch 34/500\n",
      " - 0s - loss: 28.9850 - acc: 0.0013 - val_loss: 4.9962 - val_acc: 0.0015\n",
      "Epoch 35/500\n",
      " - 0s - loss: 29.4474 - acc: 0.0016 - val_loss: 5.3992 - val_acc: 0.0000e+00\n",
      "Epoch 36/500\n",
      " - 0s - loss: 29.7087 - acc: 6.5062e-04 - val_loss: 5.1082 - val_acc: 0.0000e+00\n",
      "Epoch 37/500\n",
      " - 0s - loss: 28.3274 - acc: 6.5062e-04 - val_loss: 3.5419 - val_acc: 7.5873e-04\n",
      "Epoch 38/500\n",
      " - 0s - loss: 27.4637 - acc: 0.0013 - val_loss: 3.2960 - val_acc: 7.5873e-04\n",
      "Epoch 39/500\n",
      " - 0s - loss: 28.8657 - acc: 0.0016 - val_loss: 3.1842 - val_acc: 7.5873e-04\n",
      "Epoch 40/500\n",
      " - 0s - loss: 26.2000 - acc: 0.0013 - val_loss: 2.7526 - val_acc: 7.5873e-04\n",
      "Epoch 41/500\n",
      " - 0s - loss: 27.1088 - acc: 9.7593e-04 - val_loss: 2.8300 - val_acc: 7.5873e-04\n",
      "Epoch 42/500\n",
      " - 0s - loss: 25.9759 - acc: 9.7593e-04 - val_loss: 2.5901 - val_acc: 7.5873e-04\n",
      "Epoch 43/500\n",
      " - 0s - loss: 25.2149 - acc: 0.0013 - val_loss: 2.8813 - val_acc: 0.0000e+00\n",
      "Epoch 44/500\n",
      " - 0s - loss: 27.3696 - acc: 0.0023 - val_loss: 4.1201 - val_acc: 0.0000e+00\n",
      "Epoch 45/500\n",
      " - 0s - loss: 24.5698 - acc: 0.0013 - val_loss: 2.2837 - val_acc: 7.5873e-04\n",
      "Epoch 46/500\n",
      " - 0s - loss: 22.8519 - acc: 3.2531e-04 - val_loss: 1.8048 - val_acc: 7.5873e-04\n",
      "Epoch 47/500\n",
      " - 0s - loss: 25.1944 - acc: 3.2531e-04 - val_loss: 1.7585 - val_acc: 7.5873e-04\n",
      "Epoch 48/500\n",
      " - 0s - loss: 23.5509 - acc: 0.0016 - val_loss: 1.6689 - val_acc: 7.5873e-04\n",
      "Epoch 49/500\n",
      " - 0s - loss: 22.2955 - acc: 6.5062e-04 - val_loss: 1.9181 - val_acc: 0.0000e+00\n",
      "Epoch 50/500\n",
      " - 0s - loss: 20.5956 - acc: 9.7593e-04 - val_loss: 1.6443 - val_acc: 7.5873e-04\n",
      "Epoch 51/500\n",
      " - 0s - loss: 24.8921 - acc: 0.0016 - val_loss: 1.8237 - val_acc: 7.5873e-04\n",
      "Epoch 52/500\n",
      " - 0s - loss: 22.2235 - acc: 0.0023 - val_loss: 1.2655 - val_acc: 0.0030\n",
      "Epoch 53/500\n",
      " - 0s - loss: 20.2548 - acc: 9.7593e-04 - val_loss: 1.2123 - val_acc: 0.0015\n",
      "Epoch 54/500\n",
      " - 0s - loss: 22.2601 - acc: 0.0013 - val_loss: 0.9894 - val_acc: 0.0038\n",
      "Epoch 55/500\n",
      " - 0s - loss: 22.9964 - acc: 9.7593e-04 - val_loss: 1.1000 - val_acc: 0.0038\n",
      "Epoch 56/500\n",
      " - 0s - loss: 20.7730 - acc: 9.7593e-04 - val_loss: 1.2436 - val_acc: 0.0015\n",
      "Epoch 57/500\n",
      " - 0s - loss: 21.9638 - acc: 0.0013 - val_loss: 1.6663 - val_acc: 7.5873e-04\n",
      "Epoch 58/500\n",
      " - 0s - loss: 21.8281 - acc: 0.0029 - val_loss: 0.9859 - val_acc: 0.0030\n",
      "Epoch 59/500\n",
      " - 0s - loss: 21.1602 - acc: 0.0026 - val_loss: 0.8027 - val_acc: 0.0038\n",
      "Epoch 60/500\n",
      " - 0s - loss: 21.1658 - acc: 0.0023 - val_loss: 1.0847 - val_acc: 0.0015\n",
      "Epoch 61/500\n",
      " - 0s - loss: 21.8097 - acc: 9.7593e-04 - val_loss: 0.6735 - val_acc: 0.0038\n",
      "Epoch 62/500\n",
      " - 0s - loss: 19.0808 - acc: 0.0016 - val_loss: 1.0167 - val_acc: 0.0015\n",
      "Epoch 63/500\n",
      " - 0s - loss: 19.9513 - acc: 0.0023 - val_loss: 1.0563 - val_acc: 7.5873e-04\n",
      "Epoch 64/500\n",
      " - 0s - loss: 21.1163 - acc: 0.0013 - val_loss: 1.7245 - val_acc: 0.0015\n",
      "Epoch 65/500\n",
      " - 0s - loss: 19.6144 - acc: 0.0026 - val_loss: 0.6900 - val_acc: 0.0046\n",
      "Epoch 66/500\n",
      " - 0s - loss: 19.8865 - acc: 0.0023 - val_loss: 0.6616 - val_acc: 0.0053\n",
      "Epoch 67/500\n",
      " - 0s - loss: 21.7827 - acc: 0.0016 - val_loss: 0.4920 - val_acc: 0.0053\n",
      "Epoch 68/500\n",
      " - 0s - loss: 19.8541 - acc: 0.0029 - val_loss: 0.8248 - val_acc: 0.0038\n",
      "Epoch 69/500\n",
      " - 0s - loss: 19.7914 - acc: 0.0020 - val_loss: 0.7800 - val_acc: 0.0046\n",
      "Epoch 70/500\n",
      " - 0s - loss: 18.1865 - acc: 0.0023 - val_loss: 1.0460 - val_acc: 0.0038\n",
      "Epoch 71/500\n",
      " - 0s - loss: 19.6250 - acc: 0.0013 - val_loss: 0.5896 - val_acc: 0.0046\n",
      "Epoch 72/500\n",
      " - 0s - loss: 18.8338 - acc: 0.0020 - val_loss: 1.0052 - val_acc: 0.0023\n",
      "Epoch 00072: early stopping\n",
      "Training finished...Loading the best model\n",
      "\n"
     ]
    }
   ],
   "source": [
    "checkpointer = ModelCheckpoint(filepath=\"save/nn.hdf5\", verbose=0, save_best_only=True) # save best model\n",
    "activation_func = ['relu']\n",
    "optimizer_func = ['adam']\n",
    "for i in range(len(activation_func)):\n",
    "    for j in range(len(optimizer_func)):\n",
    "        printmd(\"**Activation** = {}  **Optimizer** = {} \".format(activation_func[i], optimizer_func[j]))\n",
    "        model = Sequential()\n",
    "\n",
    "        model.add(Dense(25, input_dim=x_train.shape[1], activation=activation_func[i])) # Hidden 1     #  why input_dim=x.shape[1]?  \n",
    "        model.add(Dropout(0.2))\n",
    "        model.add(Dense(10, activation=activation_func[i])) # Hidden 2\n",
    "        model.add(Dense(1)) # Output\n",
    "\n",
    "        model.compile(loss='mean_squared_error', optimizer=optimizer_func[j], metrics=['accuracy'])\n",
    "\n",
    "        monitor = EarlyStopping(monitor='val_loss', min_delta=1e-3, patience=5, verbose=1, mode='auto')\n",
    "\n",
    "        model.fit(x_train,y_train,validation_data=(x_test,y_test), callbacks=[monitor,checkpointer],verbose=2,epochs=500, batch_size=128, shuffle=True)\n",
    "\n",
    "print('Training finished...Loading the best model')  \n",
    "print()\n",
    "model.load_weights(\"save/nn.hdf5\") # load weights from best model    "
   ]
  },
  {
   "cell_type": "code",
   "execution_count": 77,
   "metadata": {},
   "outputs": [
    {
     "data": {
      "text/markdown": [
       "-----------------**Fully-Connected Neural Network Report**---------------"
      ],
      "text/plain": [
       "<IPython.core.display.Markdown object>"
      ]
     },
     "metadata": {},
     "output_type": "display_data"
    },
    {
     "name": "stdout",
     "output_type": "stream",
     "text": [
      "RMSE score: 0.7014450430870056\n"
     ]
    }
   ],
   "source": [
    "nn_pred = model.predict(x_test)\n",
    "\n",
    "nn_rmse = np.sqrt(metrics.mean_squared_error(nn_pred, y_test))\n",
    "printmd(\"-----------------**Fully-Connected Neural Network Report**---------------\")\n",
    "print(\"RMSE score: {}\".format(nn_rmse))"
   ]
  },
  {
   "cell_type": "code",
   "execution_count": 82,
   "metadata": {},
   "outputs": [
    {
     "data": {
      "image/png": "[encoded data removed]",
      "text/plain": [
       "<Figure size 432x288 with 1 Axes>"
      ]
     },
     "metadata": {
      "needs_background": "light"
     },
     "output_type": "display_data"
    }
   ],
   "source": [
    "chart_regression(nn_pred.flatten(), y_test)"
   ]
  },
  {
   "cell_type": "markdown",
   "metadata": {},
   "source": [
    "# LSTM model"
   ]
  },
  {
   "cell_type": "code",
   "execution_count": 164,
   "metadata": {},
   "outputs": [
    {
     "name": "stdout",
     "output_type": "stream",
     "text": [
      "Shape of x_train: (3066, 7, 5)\n",
      "Shape of x_test: (1309, 7, 5)\n",
      "Shape of y_train: (3066,)\n",
      "Shape of y_test: (1309,)\n"
     ]
    }
   ],
   "source": [
    "SEQUENCE_SIZE = 7\n",
    "df_train = df[0:3074]\n",
    "df_test = df[3075:]\n",
    "\n",
    "x_train,y_train = to_sequences(SEQUENCE_SIZE,df_train)\n",
    "x_test,y_test = to_sequences(SEQUENCE_SIZE,df_test)\n",
    "\n",
    "print(\"Shape of x_train: {}\".format(x_train.shape))\n",
    "print(\"Shape of x_test: {}\".format(x_test.shape))\n",
    "print(\"Shape of y_train: {}\".format(y_train.shape))\n",
    "print(\"Shape of y_test: {}\".format(y_test.shape))"
   ]
  },
  {
   "cell_type": "code",
   "execution_count": 180,
   "metadata": {},
   "outputs": [
    {
     "name": "stdout",
     "output_type": "stream",
     "text": [
      "Train on 3066 samples, validate on 1309 samples\n",
      "Epoch 1/100\n",
      " - 5s - loss: 99.8952 - acc: 9.7847e-04 - val_loss: 284.8958 - val_acc: 0.0000e+00\n",
      "Epoch 2/100\n",
      " - 1s - loss: 45.1445 - acc: 0.0020 - val_loss: 359.8721 - val_acc: 0.0000e+00\n",
      "Epoch 3/100\n",
      " - 1s - loss: 28.0681 - acc: 0.0020 - val_loss: 359.9064 - val_acc: 0.0000e+00\n",
      "Epoch 4/100\n",
      " - 1s - loss: 21.6724 - acc: 0.0016 - val_loss: 159.7214 - val_acc: 0.0000e+00\n",
      "Epoch 5/100\n",
      " - 1s - loss: 14.9972 - acc: 0.0020 - val_loss: 327.8095 - val_acc: 0.0000e+00\n",
      "Epoch 6/100\n",
      " - 1s - loss: 13.5630 - acc: 0.0023 - val_loss: 293.4437 - val_acc: 0.0000e+00\n",
      "Epoch 7/100\n",
      " - 1s - loss: 12.2747 - acc: 0.0026 - val_loss: 136.2847 - val_acc: 0.0000e+00\n",
      "Epoch 8/100\n",
      " - 1s - loss: 11.1441 - acc: 0.0029 - val_loss: 164.2204 - val_acc: 0.0000e+00\n",
      "Epoch 9/100\n",
      " - 1s - loss: 14.1348 - acc: 0.0033 - val_loss: 233.8517 - val_acc: 0.0000e+00\n",
      "Epoch 10/100\n",
      " - 1s - loss: 9.3313 - acc: 0.0029 - val_loss: 161.5370 - val_acc: 0.0000e+00\n",
      "Epoch 11/100\n",
      " - 1s - loss: 10.3835 - acc: 0.0023 - val_loss: 165.0327 - val_acc: 0.0000e+00\n",
      "Epoch 12/100\n",
      " - 1s - loss: 8.0958 - acc: 0.0033 - val_loss: 223.7213 - val_acc: 0.0000e+00\n",
      "Epoch 00012: early stopping\n"
     ]
    },
    {
     "data": {
      "text/plain": [
       "<keras.callbacks.History at 0x1c724e3f940>"
      ]
     },
     "execution_count": 180,
     "metadata": {},
     "output_type": "execute_result"
    }
   ],
   "source": [
    "model = Sequential()\n",
    "\n",
    "model.add(LSTM(64, activation='relu', dropout=0.2, recurrent_dropout=0.2, input_shape=(SEQUENCE_SIZE, x_train.shape[2])))\n",
    "model.add(Dropout(0.25))\n",
    "model.add(Dense(32))\n",
    "model.add(Dense(1))\n",
    "\n",
    "model.compile(loss='mean_squared_error', optimizer='adam', metrics=['accuracy'])\n",
    "\n",
    "monitor = EarlyStopping(monitor='val_loss', min_delta=1e-3, patience=5, verbose=1, mode='auto')\n",
    "\n",
    "model.fit(x_train,y_train,validation_data=(x_test,y_test),callbacks=[monitor],verbose=2, epochs=100, batch_size=64)  "
   ]
  },
  {
   "cell_type": "code",
   "execution_count": 177,
   "metadata": {},
   "outputs": [
    {
     "name": "stdout",
     "output_type": "stream",
     "text": [
      "Score (RMSE): 16.58448006798713\n"
     ]
    }
   ],
   "source": [
    "lstm_pred = model.predict(x_test)\n",
    "lstm_rmse = np.sqrt(metrics.mean_squared_error(lstm_pred,y_test))\n",
    "print(\"Score (RMSE): {}\".format(lstm_rmse))"
   ]
  },
  {
   "cell_type": "code",
   "execution_count": 178,
   "metadata": {},
   "outputs": [
    {
     "data": {
      "image/png": "[encoded data removed]",
      "text/plain": [
       "<Figure size 432x288 with 1 Axes>"
      ]
     },
     "metadata": {
      "needs_background": "light"
     },
     "output_type": "display_data"
    }
   ],
   "source": [
    "chart_regression(lstm_rmse, y_test)"
   ]
  },
  {
   "cell_type": "code",
   "execution_count": 151,
   "metadata": {},
   "outputs": [
    {
     "data": {
      "text/plain": [
       "array([[[-8.83762414e-01, -8.86056090e-01, -8.85975321e-01,\n",
       "         -4.97300682e-01,  4.01562500e+00],\n",
       "        [-8.87940954e-01, -8.89159267e-01, -8.87558093e-01,\n",
       "         -8.92217148e-01,  4.00000000e+00],\n",
       "        [-8.87940954e-01, -8.90193659e-01, -8.91251228e-01,\n",
       "         -2.63405247e-04,  3.84375000e+00],\n",
       "        [-8.96820350e-01, -8.98985994e-01, -9.06551358e-01,\n",
       "          3.72936618e+00,  3.39062500e+00],\n",
       "        [-9.04655112e-01, -9.00020387e-01, -9.04968586e-01,\n",
       "          5.92175691e+00,  3.43750000e+00],\n",
       "        [-9.03610477e-01, -9.04157956e-01, -9.16575581e-01,\n",
       "          6.93926498e+00,  3.50000000e+00],\n",
       "        [-9.05699747e-01, -9.04675152e-01, -9.04440995e-01,\n",
       "          2.75379178e+00,  3.48437500e+00]],\n",
       "\n",
       "       [[-8.83762414e-01, -8.86056090e-01, -8.85975321e-01,\n",
       "         -4.97300682e-01,  4.01562500e+00],\n",
       "        [-8.87940954e-01, -8.89159267e-01, -8.87558093e-01,\n",
       "         -8.92217148e-01,  4.00000000e+00],\n",
       "        [-8.87940954e-01, -8.90193659e-01, -8.91251228e-01,\n",
       "         -2.63405247e-04,  3.84375000e+00],\n",
       "        [-8.96820350e-01, -8.98985994e-01, -9.06551358e-01,\n",
       "          3.72936618e+00,  3.39062500e+00],\n",
       "        [-9.04655112e-01, -9.00020387e-01, -9.04968586e-01,\n",
       "          5.92175691e+00,  3.43750000e+00],\n",
       "        [-9.03610477e-01, -9.04157956e-01, -9.16575581e-01,\n",
       "          6.93926498e+00,  3.50000000e+00],\n",
       "        [-9.05699747e-01, -9.04675152e-01, -9.04440995e-01,\n",
       "          2.75379178e+00,  3.48437500e+00]]])"
      ]
     },
     "execution_count": 151,
     "metadata": {},
     "output_type": "execute_result"
    }
   ],
   "source": [
    "temp = np.array(x)\n",
    "temp"
   ]
  },
  {
   "cell_type": "code",
   "execution_count": 121,
   "metadata": {},
   "outputs": [
    {
     "data": {
      "text/plain": [
       "array([[[-8.83762414e-01, -8.86056090e-01, -8.85975321e-01,\n",
       "         -4.97300682e-01,  4.01562500e+00],\n",
       "        [-8.87940954e-01, -8.89159267e-01, -8.87558093e-01,\n",
       "         -8.92217148e-01,  4.00000000e+00],\n",
       "        [-8.87940954e-01, -8.90193659e-01, -8.91251228e-01,\n",
       "         -2.63405247e-04,  3.84375000e+00],\n",
       "        [-8.96820350e-01, -8.98985994e-01, -9.06551358e-01,\n",
       "          3.72936618e+00,  3.39062500e+00],\n",
       "        [-9.04655112e-01, -9.00020387e-01, -9.04968586e-01,\n",
       "          5.92175691e+00,  3.43750000e+00],\n",
       "        [-9.03610477e-01, -9.04157956e-01, -9.16575581e-01,\n",
       "          6.93926498e+00,  3.50000000e+00],\n",
       "        [-9.05699747e-01, -9.04675152e-01, -9.04440995e-01,\n",
       "          2.75379178e+00,  3.48437500e+00]]])"
      ]
     },
     "execution_count": 121,
     "metadata": {},
     "output_type": "execute_result"
    }
   ],
   "source": [
    "temp"
   ]
  },
  {
   "cell_type": "code",
   "execution_count": null,
   "metadata": {},
   "outputs": [],
   "source": []
  }
 ],
 "metadata": {
  "kernelspec": {
   "display_name": "TensorFlow-GPU",
   "language": "python",
   "name": "tf-gpu"
  },
  "language_info": {
   "codemirror_mode": {
    "name": "ipython",
    "version": 3
   },
   "file_extension": ".py",
   "mimetype": "text/x-python",
   "name": "python",
   "nbconvert_exporter": "python",
   "pygments_lexer": "ipython3",
   "version": "3.6.8"
  }
 },
 "nbformat": 4,
 "nbformat_minor": 2
}
