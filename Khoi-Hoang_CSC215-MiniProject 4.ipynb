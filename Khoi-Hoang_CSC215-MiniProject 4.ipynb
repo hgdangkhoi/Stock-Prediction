{
 "cells": [
  {
   "cell_type": "markdown",
   "metadata": {},
   "source": [
    "# CSC 215 - MiniProject 4\n",
    "## Khoi Hoang"
   ]
  },
  {
   "cell_type": "code",
   "execution_count": 1,
   "metadata": {},
   "outputs": [],
   "source": [
    "import os\n",
    "import csv\n",
    "import json\n",
    "import numpy as np\n",
    "import pandas as pd\n",
    "import matplotlib.pyplot as plt\n",
    "import collections\n",
    "import sklearn.feature_extraction.text as sk_text\n",
    "import scipy as sp\n",
    "import math\n",
    "from scipy.stats import zscore\n",
    "from sklearn import preprocessing\n",
    "from sklearn.model_selection import train_test_split\n",
    "from sklearn import metrics\n",
    "from sklearn.metrics import roc_curve, auc\n",
    "from sklearn import svm, datasets\n",
    "from sklearn.metrics import confusion_matrix, classification_report\n",
    "from matplotlib.pyplot import figure, show\n",
    "from IPython.display import Markdown, display\n",
    "from sklearn import metrics\n",
    "\n",
    "%matplotlib inline"
   ]
  },
  {
   "cell_type": "code",
   "execution_count": 2,
   "metadata": {},
   "outputs": [],
   "source": [
    "# Encode text values to dummy variables(i.e. [1,0,0],[0,1,0],[0,0,1] for red,green,blue)\n",
    "def encode_text_dummy(df, name):\n",
    "    dummies = pd.get_dummies(df[name])\n",
    "    for x in dummies.columns:\n",
    "        dummy_name = \"{}-{}\".format(name, x)\n",
    "        df[dummy_name] = dummies[x]\n",
    "    df.drop(name, axis=1, inplace=True)\n",
    "\n",
    "# Encode text values to indexes(i.e. [1],[2],[3] for red,green,blue).\n",
    "def encode_text_index(df, name):\n",
    "    le = preprocessing.LabelEncoder()\n",
    "    df[name] = le.fit_transform(df[name])\n",
    "    return le.classes_\n",
    "\n",
    "# Encode a numeric column as zscores\n",
    "def encode_numeric_zscore(df, name, mean=None, sd=None):\n",
    "    if mean is None:\n",
    "        mean = df[name].mean()\n",
    "\n",
    "    if sd is None:\n",
    "        sd = df[name].std()\n",
    "\n",
    "    df[name] = (df[name] - mean) / sd\n",
    "    \n",
    "# Convert all missing values in the specified column to the median\n",
    "def missing_median(df, name):\n",
    "    med = df[name].median()\n",
    "    df[name] = df[name].fillna(med)    \n",
    "\n",
    "# Regression chart.\n",
    "def chart_regression(pred,y,sort=True):\n",
    "    t = pd.DataFrame({'pred' : pred, 'y' : y.flatten()})\n",
    "    if sort:\n",
    "        t.sort_values(by=['y'],inplace=True)\n",
    "    a = plt.plot(t['y'].tolist(),label='expected')\n",
    "    b = plt.plot(t['pred'].tolist(),label='prediction')\n",
    "    plt.ylabel('output')\n",
    "    plt.legend()\n",
    "    plt.show()    \n",
    "    \n",
    "# Convert a Pandas dataframe to the x,y inputs that TensorFlow needs\n",
    "def to_xy(df, target):\n",
    "    result = []\n",
    "    for x in df.columns:\n",
    "        if x != target:\n",
    "            result.append(x)\n",
    "    # find out the type of the target column. \n",
    "    target_type = df[target].dtypes\n",
    "    target_type = target_type[0] if isinstance(target_type, collections.Sequence) else target_type\n",
    "    # Encode to int for classification, float otherwise. TensorFlow likes 32 bits.\n",
    "    if target_type in (np.int64, np.int32):\n",
    "        # Classification\n",
    "        dummies = pd.get_dummies(df[target])\n",
    "        return df[result].values.astype(np.float32), dummies.values.astype(np.float32)\n",
    "    else:\n",
    "        # Regression\n",
    "        return df[result].values.astype(np.float32), df[target].values.astype(np.float32)\n",
    "    \n",
    "# Print markdown style\n",
    "def printmd(string):\n",
    "    display(Markdown(string))\n",
    "    \n",
    "def to_sequences(seq_size, data, target):\n",
    "    x = []\n",
    "    y = []\n",
    "\n",
    "    for i in range(len(data)-SEQUENCE_SIZE-1):\n",
    "        window = data[i:(i+SEQUENCE_SIZE)]\n",
    "        after_window = data.iloc[(i+SEQUENCE_SIZE)]\n",
    "        window = window.values.tolist()\n",
    "        x.append(window)\n",
    "        y.append(after_window[target])\n",
    "        \n",
    "    return np.array(x),np.array(y)"
   ]
  },
  {
   "cell_type": "markdown",
   "metadata": {},
   "source": [
    "# Data Preprocessing"
   ]
  },
  {
   "cell_type": "code",
   "execution_count": 3,
   "metadata": {},
   "outputs": [],
   "source": [
    "df = pd.read_csv('CSC215_Project4_Stock_Price.csv')"
   ]
  },
  {
   "cell_type": "code",
   "execution_count": 4,
   "metadata": {},
   "outputs": [
    {
     "data": {
      "text/html": [
       "<div>\n",
       "<style scoped>\n",
       "    .dataframe tbody tr th:only-of-type {\n",
       "        vertical-align: middle;\n",
       "    }\n",
       "\n",
       "    .dataframe tbody tr th {\n",
       "        vertical-align: top;\n",
       "    }\n",
       "\n",
       "    .dataframe thead th {\n",
       "        text-align: right;\n",
       "    }\n",
       "</style>\n",
       "<table border=\"1\" class=\"dataframe\">\n",
       "  <thead>\n",
       "    <tr style=\"text-align: right;\">\n",
       "      <th></th>\n",
       "      <th>Open</th>\n",
       "      <th>High</th>\n",
       "      <th>Low</th>\n",
       "      <th>Close</th>\n",
       "      <th>Volume</th>\n",
       "    </tr>\n",
       "  </thead>\n",
       "  <tbody>\n",
       "    <tr>\n",
       "      <th>0</th>\n",
       "      <td>3.812500</td>\n",
       "      <td>4.156250</td>\n",
       "      <td>3.812500</td>\n",
       "      <td>4.125000</td>\n",
       "      <td>3675600</td>\n",
       "    </tr>\n",
       "    <tr>\n",
       "      <th>1</th>\n",
       "      <td>4.125000</td>\n",
       "      <td>4.125000</td>\n",
       "      <td>4.000000</td>\n",
       "      <td>4.015625</td>\n",
       "      <td>1077600</td>\n",
       "    </tr>\n",
       "    <tr>\n",
       "      <th>2</th>\n",
       "      <td>4.000000</td>\n",
       "      <td>4.031250</td>\n",
       "      <td>3.953125</td>\n",
       "      <td>4.000000</td>\n",
       "      <td>437200</td>\n",
       "    </tr>\n",
       "    <tr>\n",
       "      <th>3</th>\n",
       "      <td>4.000000</td>\n",
       "      <td>4.000000</td>\n",
       "      <td>3.843750</td>\n",
       "      <td>3.843750</td>\n",
       "      <td>1883600</td>\n",
       "    </tr>\n",
       "    <tr>\n",
       "      <th>4</th>\n",
       "      <td>3.734375</td>\n",
       "      <td>3.734375</td>\n",
       "      <td>3.390625</td>\n",
       "      <td>3.390625</td>\n",
       "      <td>7931600</td>\n",
       "    </tr>\n",
       "  </tbody>\n",
       "</table>\n",
       "</div>"
      ],
      "text/plain": [
       "       Open      High       Low     Close   Volume\n",
       "0  3.812500  4.156250  3.812500  4.125000  3675600\n",
       "1  4.125000  4.125000  4.000000  4.015625  1077600\n",
       "2  4.000000  4.031250  3.953125  4.000000   437200\n",
       "3  4.000000  4.000000  3.843750  3.843750  1883600\n",
       "4  3.734375  3.734375  3.390625  3.390625  7931600"
      ]
     },
     "execution_count": 4,
     "metadata": {},
     "output_type": "execute_result"
    }
   ],
   "source": [
    "df.drop(columns=['Adj_Close','Date'], inplace=True)\n",
    "df.head()"
   ]
  },
  {
   "cell_type": "code",
   "execution_count": 5,
   "metadata": {},
   "outputs": [],
   "source": [
    "# Rearrange the columns\n",
    "#df = df[['Open', 'High', 'Low', 'Volume', 'Close']]\n",
    "#df.head()"
   ]
  },
  {
   "cell_type": "code",
   "execution_count": 6,
   "metadata": {},
   "outputs": [
    {
     "data": {
      "text/plain": [
       "Open      False\n",
       "High      False\n",
       "Low       False\n",
       "Close     False\n",
       "Volume    False\n",
       "dtype: bool"
      ]
     },
     "execution_count": 6,
     "metadata": {},
     "output_type": "execute_result"
    }
   ],
   "source": [
    "df.isnull().any()"
   ]
  },
  {
   "cell_type": "code",
   "execution_count": 7,
   "metadata": {},
   "outputs": [
    {
     "name": "stdout",
     "output_type": "stream",
     "text": [
      "(4392, 5)\n"
     ]
    },
    {
     "data": {
      "text/html": [
       "<div>\n",
       "<style scoped>\n",
       "    .dataframe tbody tr th:only-of-type {\n",
       "        vertical-align: middle;\n",
       "    }\n",
       "\n",
       "    .dataframe tbody tr th {\n",
       "        vertical-align: top;\n",
       "    }\n",
       "\n",
       "    .dataframe thead th {\n",
       "        text-align: right;\n",
       "    }\n",
       "</style>\n",
       "<table border=\"1\" class=\"dataframe\">\n",
       "  <thead>\n",
       "    <tr style=\"text-align: right;\">\n",
       "      <th></th>\n",
       "      <th>Open</th>\n",
       "      <th>High</th>\n",
       "      <th>Low</th>\n",
       "      <th>Close</th>\n",
       "      <th>Volume</th>\n",
       "    </tr>\n",
       "  </thead>\n",
       "  <tbody>\n",
       "    <tr>\n",
       "      <th>4387</th>\n",
       "      <td>2.782154</td>\n",
       "      <td>2.754177</td>\n",
       "      <td>2.787407</td>\n",
       "      <td>113.309998</td>\n",
       "      <td>-0.575988</td>\n",
       "    </tr>\n",
       "    <tr>\n",
       "      <th>4388</th>\n",
       "      <td>2.739700</td>\n",
       "      <td>2.735310</td>\n",
       "      <td>2.732368</td>\n",
       "      <td>111.870003</td>\n",
       "      <td>-0.048610</td>\n",
       "    </tr>\n",
       "    <tr>\n",
       "      <th>4389</th>\n",
       "      <td>2.723320</td>\n",
       "      <td>2.700885</td>\n",
       "      <td>2.701641</td>\n",
       "      <td>112.230003</td>\n",
       "      <td>0.155816</td>\n",
       "    </tr>\n",
       "    <tr>\n",
       "      <th>4390</th>\n",
       "      <td>2.737694</td>\n",
       "      <td>2.714457</td>\n",
       "      <td>2.760732</td>\n",
       "      <td>112.339996</td>\n",
       "      <td>-0.390000</td>\n",
       "    </tr>\n",
       "    <tr>\n",
       "      <th>4391</th>\n",
       "      <td>2.732346</td>\n",
       "      <td>2.777017</td>\n",
       "      <td>2.761069</td>\n",
       "      <td>113.190002</td>\n",
       "      <td>-0.167936</td>\n",
       "    </tr>\n",
       "  </tbody>\n",
       "</table>\n",
       "</div>"
      ],
      "text/plain": [
       "          Open      High       Low       Close    Volume\n",
       "4387  2.782154  2.754177  2.787407  113.309998 -0.575988\n",
       "4388  2.739700  2.735310  2.732368  111.870003 -0.048610\n",
       "4389  2.723320  2.700885  2.701641  112.230003  0.155816\n",
       "4390  2.737694  2.714457  2.760732  112.339996 -0.390000\n",
       "4391  2.732346  2.777017  2.761069  113.190002 -0.167936"
      ]
     },
     "execution_count": 7,
     "metadata": {},
     "output_type": "execute_result"
    }
   ],
   "source": [
    "#df['Open'] = zscore(df['Open'])\n",
    "#df['High'] = zscore(df['High'])\n",
    "#df['Low'] = zscore(df['Low'])\n",
    "#df['Volume'] = zscore(df['Volume'])\n",
    "encode_numeric_zscore(df, 'Open')\n",
    "encode_numeric_zscore(df, 'High')\n",
    "encode_numeric_zscore(df, 'Low')\n",
    "encode_numeric_zscore(df, 'Volume')\n",
    "print(df.shape)\n",
    "df.tail()"
   ]
  },
  {
   "cell_type": "code",
   "execution_count": 8,
   "metadata": {},
   "outputs": [],
   "source": [
    "x, y = to_xy(df, 'Close')"
   ]
  },
  {
   "cell_type": "code",
   "execution_count": 9,
   "metadata": {},
   "outputs": [],
   "source": [
    "x_train = x[0:int(0.7*len(x))]\n",
    "x_test = x[int(0.7*len(x)):]\n",
    "y_train = y[0:int(0.7*len(y))]\n",
    "y_test = y[int(0.7*len(y)):]"
   ]
  },
  {
   "cell_type": "code",
   "execution_count": 10,
   "metadata": {},
   "outputs": [],
   "source": [
    "#x_train, x_test, y_train, y_test = train_test_split(x, y, test_size=0.3, random_state=43)"
   ]
  },
  {
   "cell_type": "code",
   "execution_count": 11,
   "metadata": {},
   "outputs": [
    {
     "data": {
      "text/plain": [
       "(1318, 4)"
      ]
     },
     "execution_count": 11,
     "metadata": {},
     "output_type": "execute_result"
    }
   ],
   "source": [
    "x_test.shape"
   ]
  },
  {
   "cell_type": "markdown",
   "metadata": {},
   "source": [
    "# Fully Connected Neural Network"
   ]
  },
  {
   "cell_type": "code",
   "execution_count": 13,
   "metadata": {},
   "outputs": [
    {
     "name": "stderr",
     "output_type": "stream",
     "text": [
      "Using TensorFlow backend.\n"
     ]
    }
   ],
   "source": [
    "from keras.preprocessing import sequence\n",
    "from keras.models import Sequential\n",
    "from keras.layers.core import Dense, Activation, Dropout\n",
    "from keras.layers import LSTM, Embedding, Bidirectional\n",
    "from keras.callbacks import EarlyStopping\n",
    "from keras.callbacks import ModelCheckpoint\n",
    "from keras import optimizers\n",
    "from tensorflow import keras"
   ]
  },
  {
   "cell_type": "code",
   "execution_count": 16,
   "metadata": {},
   "outputs": [
    {
     "name": "stdout",
     "output_type": "stream",
     "text": [
      "Train on 3074 samples, validate on 1318 samples\n",
      "Epoch 1/500\n",
      " - 1s - loss: 217.5864 - acc: 0.0013 - val_loss: 185.5187 - val_acc: 7.5873e-04\n",
      "Epoch 2/500\n",
      " - 0s - loss: 41.3716 - acc: 0.0000e+00 - val_loss: 583.7490 - val_acc: 0.0000e+00\n",
      "Epoch 3/500\n",
      " - 0s - loss: 15.4332 - acc: 9.7593e-04 - val_loss: 170.0034 - val_acc: 0.0000e+00\n",
      "Epoch 4/500\n",
      " - 0s - loss: 7.8682 - acc: 0.0016 - val_loss: 93.8360 - val_acc: 7.5873e-04\n",
      "Epoch 5/500\n",
      " - 0s - loss: 5.3680 - acc: 0.0036 - val_loss: 41.5099 - val_acc: 7.5873e-04\n",
      "Epoch 6/500\n",
      " - 0s - loss: 4.5051 - acc: 0.0039 - val_loss: 9.3603 - val_acc: 0.0046\n",
      "Epoch 7/500\n",
      " - 0s - loss: 4.9714 - acc: 0.0013 - val_loss: 2.7803 - val_acc: 0.0023\n",
      "Epoch 8/500\n",
      " - 0s - loss: 4.3819 - acc: 0.0023 - val_loss: 12.1265 - val_acc: 0.0015\n",
      "Epoch 9/500\n",
      " - 0s - loss: 4.0608 - acc: 0.0020 - val_loss: 9.3833 - val_acc: 0.0030\n",
      "Epoch 10/500\n",
      " - 0s - loss: 3.9520 - acc: 0.0033 - val_loss: 18.0746 - val_acc: 7.5873e-04\n",
      "Epoch 11/500\n",
      " - 0s - loss: 3.8372 - acc: 0.0023 - val_loss: 2.6884 - val_acc: 0.0068\n",
      "Epoch 12/500\n",
      " - 0s - loss: 3.7659 - acc: 0.0033 - val_loss: 9.3324 - val_acc: 7.5873e-04\n",
      "Epoch 13/500\n",
      " - 0s - loss: 4.0431 - acc: 0.0033 - val_loss: 0.7774 - val_acc: 0.0068\n",
      "Epoch 14/500\n",
      " - 0s - loss: 3.6439 - acc: 0.0042 - val_loss: 1.2581 - val_acc: 0.0023\n",
      "Epoch 15/500\n",
      " - 0s - loss: 3.7615 - acc: 0.0033 - val_loss: 4.4079 - val_acc: 7.5873e-04\n",
      "Epoch 16/500\n",
      " - 0s - loss: 3.4182 - acc: 0.0036 - val_loss: 2.8701 - val_acc: 0.0030\n",
      "Epoch 17/500\n",
      " - 0s - loss: 3.8410 - acc: 0.0029 - val_loss: 0.9808 - val_acc: 0.0083\n",
      "Epoch 18/500\n",
      " - 0s - loss: 3.3106 - acc: 0.0042 - val_loss: 2.5042 - val_acc: 0.0030\n",
      "Epoch 00018: early stopping\n",
      "Train on 3074 samples, validate on 1318 samples\n",
      "Epoch 1/500\n",
      " - 1s - loss: 231.0804 - acc: 3.2531e-04 - val_loss: 151.0142 - val_acc: 0.0000e+00\n",
      "Epoch 2/500\n",
      " - 0s - loss: 50.7882 - acc: 6.5062e-04 - val_loss: 638.1434 - val_acc: 0.0000e+00\n",
      "Epoch 3/500\n",
      " - 0s - loss: 19.7785 - acc: 3.2531e-04 - val_loss: 120.0174 - val_acc: 0.0015\n",
      "Epoch 4/500\n",
      " - 0s - loss: 9.0905 - acc: 6.5062e-04 - val_loss: 50.9066 - val_acc: 7.5873e-04\n",
      "Epoch 5/500\n",
      " - 0s - loss: 6.5342 - acc: 0.0026 - val_loss: 32.1277 - val_acc: 7.5873e-04\n",
      "Epoch 6/500\n",
      " - 0s - loss: 5.0641 - acc: 0.0029 - val_loss: 9.9095 - val_acc: 0.0046\n",
      "Epoch 7/500\n",
      " - 0s - loss: 4.4865 - acc: 0.0036 - val_loss: 17.3924 - val_acc: 7.5873e-04\n",
      "Epoch 8/500\n",
      " - 0s - loss: 3.8568 - acc: 0.0029 - val_loss: 10.9037 - val_acc: 0.0015\n",
      "Epoch 9/500\n",
      " - 0s - loss: 4.3833 - acc: 0.0029 - val_loss: 2.8507 - val_acc: 0.0053\n",
      "Epoch 10/500\n",
      " - 0s - loss: 3.9892 - acc: 0.0046 - val_loss: 1.2154 - val_acc: 0.0083\n",
      "Epoch 11/500\n",
      " - 0s - loss: 3.8247 - acc: 0.0026 - val_loss: 2.2892 - val_acc: 0.0061\n",
      "Epoch 12/500\n",
      " - 0s - loss: 4.1073 - acc: 0.0036 - val_loss: 0.9557 - val_acc: 0.0046\n",
      "Epoch 13/500\n",
      " - 0s - loss: 4.0101 - acc: 0.0055 - val_loss: 3.0986 - val_acc: 0.0030\n",
      "Epoch 14/500\n",
      " - 0s - loss: 3.8908 - acc: 0.0042 - val_loss: 0.7102 - val_acc: 0.0068\n",
      "Epoch 15/500\n",
      " - 0s - loss: 3.5764 - acc: 0.0039 - val_loss: 0.7071 - val_acc: 0.0068\n",
      "Epoch 16/500\n",
      " - 0s - loss: 3.6901 - acc: 0.0029 - val_loss: 1.5815 - val_acc: 0.0061\n",
      "Epoch 17/500\n",
      " - 0s - loss: 4.0230 - acc: 0.0052 - val_loss: 1.2933 - val_acc: 0.0061\n",
      "Epoch 18/500\n",
      " - 1s - loss: 3.6537 - acc: 0.0046 - val_loss: 2.9917 - val_acc: 0.0030\n",
      "Epoch 19/500\n",
      " - 1s - loss: 3.5614 - acc: 0.0059 - val_loss: 8.4664 - val_acc: 7.5873e-04\n",
      "Epoch 20/500\n",
      " - 1s - loss: 3.7334 - acc: 0.0039 - val_loss: 0.8063 - val_acc: 0.0083\n",
      "Epoch 00020: early stopping\n",
      "Train on 3074 samples, validate on 1318 samples\n",
      "Epoch 1/500\n",
      " - 1s - loss: 213.4270 - acc: 6.5062e-04 - val_loss: 126.3840 - val_acc: 7.5873e-04\n",
      "Epoch 2/500\n",
      " - 1s - loss: 31.9164 - acc: 0.0016 - val_loss: 525.2174 - val_acc: 0.0000e+00\n",
      "Epoch 3/500\n",
      " - 1s - loss: 11.3146 - acc: 0.0013 - val_loss: 158.9963 - val_acc: 0.0000e+00\n",
      "Epoch 4/500\n",
      " - 0s - loss: 5.8867 - acc: 0.0029 - val_loss: 43.6763 - val_acc: 7.5873e-04\n",
      "Epoch 5/500\n",
      " - 0s - loss: 4.8580 - acc: 0.0026 - val_loss: 12.1035 - val_acc: 0.0030\n",
      "Epoch 6/500\n",
      " - 0s - loss: 4.9107 - acc: 0.0023 - val_loss: 11.5592 - val_acc: 0.0023\n",
      "Epoch 7/500\n",
      " - 1s - loss: 4.3542 - acc: 0.0026 - val_loss: 6.3246 - val_acc: 0.0015\n",
      "Epoch 8/500\n",
      " - 1s - loss: 4.5016 - acc: 0.0029 - val_loss: 8.5819 - val_acc: 0.0015\n",
      "Epoch 9/500\n",
      " - 1s - loss: 4.2480 - acc: 0.0023 - val_loss: 0.9796 - val_acc: 0.0076\n",
      "Epoch 10/500\n",
      " - 1s - loss: 4.0473 - acc: 0.0026 - val_loss: 0.8611 - val_acc: 0.0038\n",
      "Epoch 11/500\n",
      " - 1s - loss: 4.2942 - acc: 0.0033 - val_loss: 2.5115 - val_acc: 0.0000e+00\n",
      "Epoch 12/500\n",
      " - 1s - loss: 3.8440 - acc: 0.0026 - val_loss: 2.0275 - val_acc: 7.5873e-04\n",
      "Epoch 13/500\n",
      " - 0s - loss: 3.4237 - acc: 0.0033 - val_loss: 7.1369 - val_acc: 0.0000e+00\n",
      "Epoch 14/500\n",
      " - 0s - loss: 3.6357 - acc: 0.0039 - val_loss: 4.0119 - val_acc: 7.5873e-04\n",
      "Epoch 15/500\n",
      " - 1s - loss: 3.4370 - acc: 0.0033 - val_loss: 1.9440 - val_acc: 7.5873e-04\n",
      "Epoch 00015: early stopping\n",
      "Train on 3074 samples, validate on 1318 samples\n",
      "Epoch 1/500\n",
      " - 1s - loss: 239.4249 - acc: 3.2531e-04 - val_loss: 375.0517 - val_acc: 0.0000e+00\n",
      "Epoch 2/500\n",
      " - 0s - loss: 49.8214 - acc: 0.0000e+00 - val_loss: 683.4258 - val_acc: 0.0000e+00\n",
      "Epoch 3/500\n",
      " - 0s - loss: 19.8356 - acc: 6.5062e-04 - val_loss: 256.2678 - val_acc: 0.0000e+00\n",
      "Epoch 4/500\n",
      " - 0s - loss: 11.5118 - acc: 0.0016 - val_loss: 86.7673 - val_acc: 0.0000e+00\n",
      "Epoch 5/500\n",
      " - 0s - loss: 6.9986 - acc: 0.0020 - val_loss: 70.9744 - val_acc: 7.5873e-04\n",
      "Epoch 6/500\n",
      " - 0s - loss: 5.6045 - acc: 0.0016 - val_loss: 47.5438 - val_acc: 7.5873e-04\n",
      "Epoch 7/500\n",
      " - 0s - loss: 4.7777 - acc: 0.0026 - val_loss: 20.2575 - val_acc: 0.0023\n",
      "Epoch 8/500\n",
      " - 0s - loss: 5.0917 - acc: 0.0039 - val_loss: 3.4934 - val_acc: 0.0053\n",
      "Epoch 9/500\n",
      " - 0s - loss: 3.9844 - acc: 0.0039 - val_loss: 22.6212 - val_acc: 7.5873e-04\n",
      "Epoch 10/500\n",
      " - 0s - loss: 4.4372 - acc: 0.0036 - val_loss: 5.1481 - val_acc: 0.0068\n",
      "Epoch 11/500\n",
      " - 0s - loss: 3.9318 - acc: 0.0039 - val_loss: 2.8767 - val_acc: 0.0053\n",
      "Epoch 12/500\n",
      " - 0s - loss: 4.2634 - acc: 0.0029 - val_loss: 0.9997 - val_acc: 0.0038\n",
      "Epoch 13/500\n",
      " - 0s - loss: 3.6311 - acc: 0.0029 - val_loss: 1.3058 - val_acc: 0.0046\n",
      "Epoch 14/500\n",
      " - 0s - loss: 3.9923 - acc: 0.0033 - val_loss: 0.9929 - val_acc: 0.0038\n",
      "Epoch 15/500\n",
      " - 0s - loss: 4.0697 - acc: 0.0029 - val_loss: 1.0922 - val_acc: 0.0038\n",
      "Epoch 16/500\n",
      " - 1s - loss: 3.8879 - acc: 0.0029 - val_loss: 0.9443 - val_acc: 0.0030\n",
      "Epoch 17/500\n",
      " - 0s - loss: 3.7636 - acc: 0.0029 - val_loss: 1.3332 - val_acc: 0.0038\n",
      "Epoch 18/500\n",
      " - 0s - loss: 3.7415 - acc: 0.0052 - val_loss: 4.3576 - val_acc: 7.5873e-04\n",
      "Epoch 19/500\n",
      " - 0s - loss: 3.6691 - acc: 0.0036 - val_loss: 11.1659 - val_acc: 0.0000e+00\n",
      "Epoch 20/500\n",
      " - 0s - loss: 3.3828 - acc: 0.0046 - val_loss: 2.2637 - val_acc: 0.0015\n",
      "Epoch 21/500\n",
      " - 0s - loss: 3.4387 - acc: 0.0036 - val_loss: 4.6970 - val_acc: 7.5873e-04\n",
      "Epoch 00021: early stopping\n",
      "Train on 3074 samples, validate on 1318 samples\n",
      "Epoch 1/500\n",
      " - 1s - loss: 217.7098 - acc: 3.2531e-04 - val_loss: 134.0796 - val_acc: 0.0000e+00\n",
      "Epoch 2/500\n",
      " - 0s - loss: 38.5854 - acc: 6.5062e-04 - val_loss: 567.5362 - val_acc: 0.0000e+00\n",
      "Epoch 3/500\n",
      " - 1s - loss: 17.6452 - acc: 3.2531e-04 - val_loss: 190.3376 - val_acc: 0.0000e+00\n",
      "Epoch 4/500\n",
      " - 1s - loss: 7.2933 - acc: 0.0016 - val_loss: 58.9632 - val_acc: 0.0000e+00\n",
      "Epoch 5/500\n",
      " - 1s - loss: 6.3551 - acc: 0.0023 - val_loss: 6.2908 - val_acc: 0.0038\n",
      "Epoch 6/500\n",
      " - 0s - loss: 5.2195 - acc: 0.0029 - val_loss: 13.6433 - val_acc: 0.0015\n",
      "Epoch 7/500\n",
      " - 1s - loss: 4.4637 - acc: 0.0029 - val_loss: 7.9379 - val_acc: 0.0046\n",
      "Epoch 8/500\n",
      " - 1s - loss: 4.5135 - acc: 0.0033 - val_loss: 6.3880 - val_acc: 0.0023\n",
      "Epoch 9/500\n",
      " - 0s - loss: 4.1731 - acc: 0.0042 - val_loss: 8.1534 - val_acc: 0.0015\n",
      "Epoch 10/500\n",
      " - 0s - loss: 3.9196 - acc: 0.0020 - val_loss: 1.0765 - val_acc: 0.0091\n",
      "Epoch 11/500\n",
      " - 1s - loss: 3.9883 - acc: 0.0026 - val_loss: 5.1701 - val_acc: 0.0015\n",
      "Epoch 12/500\n",
      " - 1s - loss: 3.8030 - acc: 0.0039 - val_loss: 1.3835 - val_acc: 0.0091\n",
      "Epoch 13/500\n",
      " - 1s - loss: 3.6233 - acc: 0.0033 - val_loss: 0.8518 - val_acc: 0.0046\n",
      "Epoch 14/500\n",
      " - 0s - loss: 3.8684 - acc: 0.0033 - val_loss: 2.7076 - val_acc: 0.0023\n",
      "Epoch 15/500\n",
      " - 0s - loss: 3.8436 - acc: 0.0039 - val_loss: 1.2160 - val_acc: 0.0091\n",
      "Epoch 16/500\n",
      " - 0s - loss: 3.6971 - acc: 0.0033 - val_loss: 1.0095 - val_acc: 0.0053\n"
     ]
    },
    {
     "name": "stdout",
     "output_type": "stream",
     "text": [
      "Epoch 17/500\n",
      " - 0s - loss: 3.6393 - acc: 0.0026 - val_loss: 0.5470 - val_acc: 0.0076\n",
      "Epoch 18/500\n",
      " - 0s - loss: 3.7858 - acc: 0.0039 - val_loss: 0.8378 - val_acc: 0.0068\n",
      "Epoch 19/500\n",
      " - 0s - loss: 3.5973 - acc: 0.0042 - val_loss: 0.5200 - val_acc: 0.0068\n",
      "Epoch 20/500\n",
      " - 0s - loss: 3.7316 - acc: 0.0023 - val_loss: 0.9011 - val_acc: 0.0091\n",
      "Epoch 21/500\n",
      " - 0s - loss: 3.2939 - acc: 0.0042 - val_loss: 0.5089 - val_acc: 0.0091\n",
      "Epoch 22/500\n",
      " - 0s - loss: 3.2849 - acc: 0.0036 - val_loss: 1.1693 - val_acc: 0.0053\n",
      "Epoch 23/500\n",
      " - 0s - loss: 3.7013 - acc: 0.0049 - val_loss: 4.2609 - val_acc: 0.0015\n",
      "Epoch 24/500\n",
      " - 0s - loss: 3.2482 - acc: 0.0036 - val_loss: 1.8039 - val_acc: 0.0053\n",
      "Epoch 25/500\n",
      " - 0s - loss: 3.2074 - acc: 0.0036 - val_loss: 0.5585 - val_acc: 0.0076\n",
      "Epoch 26/500\n",
      " - 0s - loss: 3.5507 - acc: 0.0042 - val_loss: 0.4909 - val_acc: 0.0076\n",
      "Epoch 27/500\n",
      " - 0s - loss: 2.9456 - acc: 0.0029 - val_loss: 2.7301 - val_acc: 0.0030\n",
      "Epoch 28/500\n",
      " - 0s - loss: 2.8271 - acc: 0.0026 - val_loss: 1.2394 - val_acc: 0.0046\n",
      "Epoch 29/500\n",
      " - 0s - loss: 3.3671 - acc: 0.0042 - val_loss: 24.9418 - val_acc: 0.0000e+00\n",
      "Epoch 30/500\n",
      " - 0s - loss: 3.1378 - acc: 0.0026 - val_loss: 0.4823 - val_acc: 0.0083\n",
      "Epoch 31/500\n",
      " - 0s - loss: 3.0849 - acc: 0.0036 - val_loss: 2.3557 - val_acc: 0.0030\n",
      "Epoch 32/500\n",
      " - 1s - loss: 2.8089 - acc: 0.0042 - val_loss: 1.0834 - val_acc: 0.0083\n",
      "Epoch 33/500\n",
      " - 0s - loss: 3.0697 - acc: 0.0029 - val_loss: 4.0973 - val_acc: 0.0015\n",
      "Epoch 34/500\n",
      " - 1s - loss: 2.9353 - acc: 0.0046 - val_loss: 0.7419 - val_acc: 0.0061\n",
      "Epoch 35/500\n",
      " - 0s - loss: 3.1961 - acc: 0.0029 - val_loss: 2.6584 - val_acc: 0.0030\n",
      "Epoch 00035: early stopping\n",
      "Training finished...Loading the best model\n",
      "\n"
     ]
    }
   ],
   "source": [
    "checkpointer = ModelCheckpoint(filepath=\"save/nn.hdf5\", verbose=0, save_best_only=True) # save best model\n",
    "for i in range(5):\n",
    "    model = Sequential()\n",
    "\n",
    "    model.add(Dense(128, input_dim=x_train.shape[1], activation='relu')) # Hidden 1     #  why input_dim=x.shape[1]?  \n",
    "    model.add(Dropout(0.25))\n",
    "    model.add(Dense(64, activation='relu')) # Hidden 2\n",
    "    model.add(Dropout(0.25))\n",
    "    model.add(Dense(32, activation='relu')) \n",
    "    model.add(Dense(1)) # Output\n",
    "\n",
    "    model.compile(loss='mean_squared_error', optimizer='adam', metrics=['accuracy'])\n",
    "\n",
    "    monitor = EarlyStopping(monitor='val_loss', min_delta=1e-3, patience=5, verbose=1, mode='auto')\n",
    "\n",
    "    model.fit(x_train,y_train,validation_data=(x_test,y_test), callbacks=[monitor,checkpointer],verbose=2,epochs=500, batch_size=32, shuffle=True)\n",
    "\n",
    "print('Training finished...Loading the best model')  \n",
    "print()\n",
    "model.load_weights(\"save/nn.hdf5\") # load weights from best model    "
   ]
  },
  {
   "cell_type": "code",
   "execution_count": 17,
   "metadata": {},
   "outputs": [
    {
     "data": {
      "text/markdown": [
       "-----------------**Fully-Connected Neural Network Report**---------------"
      ],
      "text/plain": [
       "<IPython.core.display.Markdown object>"
      ]
     },
     "metadata": {},
     "output_type": "display_data"
    },
    {
     "name": "stdout",
     "output_type": "stream",
     "text": [
      "RMSE score: 0.6944844722747803\n"
     ]
    }
   ],
   "source": [
    "nn_pred = model.predict(x_test)\n",
    "\n",
    "nn_rmse = np.sqrt(metrics.mean_squared_error(nn_pred, y_test))\n",
    "printmd(\"-----------------**Fully-Connected Neural Network Report**---------------\")\n",
    "print(\"RMSE score: {}\".format(nn_rmse))"
   ]
  },
  {
   "cell_type": "code",
   "execution_count": 18,
   "metadata": {},
   "outputs": [
    {
     "data": {
      "image/png": "[encoded data removed]",
      "text/plain": [
       "<Figure size 432x288 with 1 Axes>"
      ]
     },
     "metadata": {
      "needs_background": "light"
     },
     "output_type": "display_data"
    }
   ],
   "source": [
    "chart_regression(nn_pred.flatten(), y_test)"
   ]
  },
  {
   "cell_type": "markdown",
   "metadata": {},
   "source": [
    "# LSTM model"
   ]
  },
  {
   "cell_type": "code",
   "execution_count": 50,
   "metadata": {},
   "outputs": [],
   "source": [
    "df = pd.read_csv('CSC215_Project4_Stock_Price.csv')"
   ]
  },
  {
   "cell_type": "code",
   "execution_count": 51,
   "metadata": {},
   "outputs": [
    {
     "data": {
      "text/html": [
       "<div>\n",
       "<style scoped>\n",
       "    .dataframe tbody tr th:only-of-type {\n",
       "        vertical-align: middle;\n",
       "    }\n",
       "\n",
       "    .dataframe tbody tr th {\n",
       "        vertical-align: top;\n",
       "    }\n",
       "\n",
       "    .dataframe thead th {\n",
       "        text-align: right;\n",
       "    }\n",
       "</style>\n",
       "<table border=\"1\" class=\"dataframe\">\n",
       "  <thead>\n",
       "    <tr style=\"text-align: right;\">\n",
       "      <th></th>\n",
       "      <th>Open</th>\n",
       "      <th>High</th>\n",
       "      <th>Low</th>\n",
       "      <th>Close</th>\n",
       "      <th>Volume</th>\n",
       "    </tr>\n",
       "  </thead>\n",
       "  <tbody>\n",
       "    <tr>\n",
       "      <th>0</th>\n",
       "      <td>3.812500</td>\n",
       "      <td>4.156250</td>\n",
       "      <td>3.812500</td>\n",
       "      <td>4.125000</td>\n",
       "      <td>3675600</td>\n",
       "    </tr>\n",
       "    <tr>\n",
       "      <th>1</th>\n",
       "      <td>4.125000</td>\n",
       "      <td>4.125000</td>\n",
       "      <td>4.000000</td>\n",
       "      <td>4.015625</td>\n",
       "      <td>1077600</td>\n",
       "    </tr>\n",
       "    <tr>\n",
       "      <th>2</th>\n",
       "      <td>4.000000</td>\n",
       "      <td>4.031250</td>\n",
       "      <td>3.953125</td>\n",
       "      <td>4.000000</td>\n",
       "      <td>437200</td>\n",
       "    </tr>\n",
       "    <tr>\n",
       "      <th>3</th>\n",
       "      <td>4.000000</td>\n",
       "      <td>4.000000</td>\n",
       "      <td>3.843750</td>\n",
       "      <td>3.843750</td>\n",
       "      <td>1883600</td>\n",
       "    </tr>\n",
       "    <tr>\n",
       "      <th>4</th>\n",
       "      <td>3.734375</td>\n",
       "      <td>3.734375</td>\n",
       "      <td>3.390625</td>\n",
       "      <td>3.390625</td>\n",
       "      <td>7931600</td>\n",
       "    </tr>\n",
       "  </tbody>\n",
       "</table>\n",
       "</div>"
      ],
      "text/plain": [
       "       Open      High       Low     Close   Volume\n",
       "0  3.812500  4.156250  3.812500  4.125000  3675600\n",
       "1  4.125000  4.125000  4.000000  4.015625  1077600\n",
       "2  4.000000  4.031250  3.953125  4.000000   437200\n",
       "3  4.000000  4.000000  3.843750  3.843750  1883600\n",
       "4  3.734375  3.734375  3.390625  3.390625  7931600"
      ]
     },
     "execution_count": 51,
     "metadata": {},
     "output_type": "execute_result"
    }
   ],
   "source": [
    "df.drop(columns=['Adj_Close','Date'], inplace=True)\n",
    "df.head()"
   ]
  },
  {
   "cell_type": "code",
   "execution_count": 52,
   "metadata": {},
   "outputs": [
    {
     "data": {
      "text/html": [
       "<div>\n",
       "<style scoped>\n",
       "    .dataframe tbody tr th:only-of-type {\n",
       "        vertical-align: middle;\n",
       "    }\n",
       "\n",
       "    .dataframe tbody tr th {\n",
       "        vertical-align: top;\n",
       "    }\n",
       "\n",
       "    .dataframe thead th {\n",
       "        text-align: right;\n",
       "    }\n",
       "</style>\n",
       "<table border=\"1\" class=\"dataframe\">\n",
       "  <thead>\n",
       "    <tr style=\"text-align: right;\">\n",
       "      <th></th>\n",
       "      <th>Open</th>\n",
       "      <th>High</th>\n",
       "      <th>Low</th>\n",
       "      <th>Close</th>\n",
       "      <th>Volume</th>\n",
       "    </tr>\n",
       "  </thead>\n",
       "  <tbody>\n",
       "    <tr>\n",
       "      <th>0</th>\n",
       "      <td>3.812500</td>\n",
       "      <td>4.156250</td>\n",
       "      <td>3.812500</td>\n",
       "      <td>4.125000</td>\n",
       "      <td>3675600.0</td>\n",
       "    </tr>\n",
       "    <tr>\n",
       "      <th>1</th>\n",
       "      <td>4.125000</td>\n",
       "      <td>4.125000</td>\n",
       "      <td>4.000000</td>\n",
       "      <td>4.015625</td>\n",
       "      <td>1077600.0</td>\n",
       "    </tr>\n",
       "    <tr>\n",
       "      <th>2</th>\n",
       "      <td>4.000000</td>\n",
       "      <td>4.031250</td>\n",
       "      <td>3.953125</td>\n",
       "      <td>4.000000</td>\n",
       "      <td>437200.0</td>\n",
       "    </tr>\n",
       "    <tr>\n",
       "      <th>3</th>\n",
       "      <td>4.000000</td>\n",
       "      <td>4.000000</td>\n",
       "      <td>3.843750</td>\n",
       "      <td>3.843750</td>\n",
       "      <td>1883600.0</td>\n",
       "    </tr>\n",
       "    <tr>\n",
       "      <th>4</th>\n",
       "      <td>3.734375</td>\n",
       "      <td>3.734375</td>\n",
       "      <td>3.390625</td>\n",
       "      <td>3.390625</td>\n",
       "      <td>7931600.0</td>\n",
       "    </tr>\n",
       "  </tbody>\n",
       "</table>\n",
       "</div>"
      ],
      "text/plain": [
       "       Open      High       Low     Close     Volume\n",
       "0  3.812500  4.156250  3.812500  4.125000  3675600.0\n",
       "1  4.125000  4.125000  4.000000  4.015625  1077600.0\n",
       "2  4.000000  4.031250  3.953125  4.000000   437200.0\n",
       "3  4.000000  4.000000  3.843750  3.843750  1883600.0\n",
       "4  3.734375  3.734375  3.390625  3.390625  7931600.0"
      ]
     },
     "execution_count": 52,
     "metadata": {},
     "output_type": "execute_result"
    }
   ],
   "source": [
    "SEQUENCE_SIZE = 7\n",
    "#x, y = to_sequences(SEQUENCE_SIZE,df, 'Close')\n",
    "df_lstm = df.copy().astype('float64')\n",
    "df_lstm.head()"
   ]
  },
  {
   "cell_type": "code",
   "execution_count": 53,
   "metadata": {},
   "outputs": [],
   "source": [
    "#scaler = preprocessing.StandardScaler()\n",
    "#df_lstm[['Open']] = scaler.fit_transform(df_lstm[['Open']])\n",
    "#df_lstm[['High']] = scaler.fit_transform(df_lstm[['High']])\n",
    "#df_lstm[['Low']] = scaler.fit_transform(df_lstm[['Low']])\n",
    "#df_lstm[['Close']] = scaler.fit_transform(df_lstm[['Close']])\n",
    "#df_lstm[['Volume']] = scaler.fit_transform(df_lstm[['Volume']])\n",
    "encode_numeric_zscore(df_lstm, 'Open')\n",
    "encode_numeric_zscore(df_lstm, 'High')\n",
    "encode_numeric_zscore(df_lstm, 'Low')\n",
    "encode_numeric_zscore(df_lstm, 'Close')\n",
    "encode_numeric_zscore(df_lstm, 'Volume')\n",
    "df_lstm = pd.DataFrame(df_lstm, columns=df.columns)"
   ]
  },
  {
   "cell_type": "code",
   "execution_count": 54,
   "metadata": {},
   "outputs": [
    {
     "data": {
      "text/html": [
       "<div>\n",
       "<style scoped>\n",
       "    .dataframe tbody tr th:only-of-type {\n",
       "        vertical-align: middle;\n",
       "    }\n",
       "\n",
       "    .dataframe tbody tr th {\n",
       "        vertical-align: top;\n",
       "    }\n",
       "\n",
       "    .dataframe thead th {\n",
       "        text-align: right;\n",
       "    }\n",
       "</style>\n",
       "<table border=\"1\" class=\"dataframe\">\n",
       "  <thead>\n",
       "    <tr style=\"text-align: right;\">\n",
       "      <th></th>\n",
       "      <th>Open</th>\n",
       "      <th>High</th>\n",
       "      <th>Low</th>\n",
       "      <th>Close</th>\n",
       "      <th>Volume</th>\n",
       "    </tr>\n",
       "  </thead>\n",
       "  <tbody>\n",
       "    <tr>\n",
       "      <th>0</th>\n",
       "      <td>-0.894209</td>\n",
       "      <td>-0.885022</td>\n",
       "      <td>-0.892306</td>\n",
       "      <td>-0.884364</td>\n",
       "      <td>1.104812</td>\n",
       "    </tr>\n",
       "    <tr>\n",
       "      <th>1</th>\n",
       "      <td>-0.883762</td>\n",
       "      <td>-0.886056</td>\n",
       "      <td>-0.885975</td>\n",
       "      <td>-0.888021</td>\n",
       "      <td>-0.497301</td>\n",
       "    </tr>\n",
       "    <tr>\n",
       "      <th>2</th>\n",
       "      <td>-0.887941</td>\n",
       "      <td>-0.889159</td>\n",
       "      <td>-0.887558</td>\n",
       "      <td>-0.888543</td>\n",
       "      <td>-0.892217</td>\n",
       "    </tr>\n",
       "    <tr>\n",
       "      <th>3</th>\n",
       "      <td>-0.887941</td>\n",
       "      <td>-0.890194</td>\n",
       "      <td>-0.891251</td>\n",
       "      <td>-0.893768</td>\n",
       "      <td>-0.000263</td>\n",
       "    </tr>\n",
       "    <tr>\n",
       "      <th>4</th>\n",
       "      <td>-0.896820</td>\n",
       "      <td>-0.898986</td>\n",
       "      <td>-0.906551</td>\n",
       "      <td>-0.908920</td>\n",
       "      <td>3.729366</td>\n",
       "    </tr>\n",
       "  </tbody>\n",
       "</table>\n",
       "</div>"
      ],
      "text/plain": [
       "       Open      High       Low     Close    Volume\n",
       "0 -0.894209 -0.885022 -0.892306 -0.884364  1.104812\n",
       "1 -0.883762 -0.886056 -0.885975 -0.888021 -0.497301\n",
       "2 -0.887941 -0.889159 -0.887558 -0.888543 -0.892217\n",
       "3 -0.887941 -0.890194 -0.891251 -0.893768 -0.000263\n",
       "4 -0.896820 -0.898986 -0.906551 -0.908920  3.729366"
      ]
     },
     "execution_count": 54,
     "metadata": {},
     "output_type": "execute_result"
    }
   ],
   "source": [
    "df_lstm.head()"
   ]
  },
  {
   "cell_type": "code",
   "execution_count": 55,
   "metadata": {},
   "outputs": [],
   "source": [
    "x = []\n",
    "y = []\n",
    "\n",
    "for i in range(len(df_lstm)-SEQUENCE_SIZE-1):\n",
    "    window = df_lstm[i:(i+SEQUENCE_SIZE)]\n",
    "    after_window = df.iloc[(i+SEQUENCE_SIZE)]\n",
    "    window = window.values.tolist()\n",
    "    x.append(window)\n",
    "    y.append(after_window['Close'])\n",
    "        \n",
    "x = np.array(x)\n",
    "y = np.array(y)"
   ]
  },
  {
   "cell_type": "code",
   "execution_count": 56,
   "metadata": {},
   "outputs": [
    {
     "name": "stdout",
     "output_type": "stream",
     "text": [
      "Shape of x_train: (3068, 7, 5)\n",
      "Shape of x_test: (1316, 7, 5)\n",
      "Shape of y_train: (3068,)\n",
      "Shape of y_test: (1316,)\n"
     ]
    }
   ],
   "source": [
    "x_train = x[0:int(0.7*len(x))]\n",
    "x_test = x[int(0.7*len(x)):]\n",
    "y_train = y[0:int(0.7*len(y))]\n",
    "y_test = y[int(0.7*len(y)):]\n",
    "#x = zscore(x)\n",
    "#x_train, x_test, y_train, y_test = train_test_split(x, y, test_size=0.3)\n",
    "print(\"Shape of x_train: {}\".format(x_train.shape))\n",
    "print(\"Shape of x_test: {}\".format(x_test.shape))\n",
    "print(\"Shape of y_train: {}\".format(y_train.shape))\n",
    "print(\"Shape of y_test: {}\".format(y_test.shape))"
   ]
  },
  {
   "cell_type": "code",
   "execution_count": 57,
   "metadata": {},
   "outputs": [
    {
     "data": {
      "text/plain": [
       "array([[[-8.94208763e-01, -8.85021698e-01, -8.92306409e-01,\n",
       "         -8.84363545e-01,  1.10481203e+00],\n",
       "        [-8.83762414e-01, -8.86056090e-01, -8.85975321e-01,\n",
       "         -8.88020865e-01, -4.97300682e-01],\n",
       "        [-8.87940954e-01, -8.89159267e-01, -8.87558093e-01,\n",
       "         -8.88543339e-01, -8.92217148e-01],\n",
       "        ...,\n",
       "        [-8.96820350e-01, -8.98985994e-01, -9.06551358e-01,\n",
       "         -9.08919836e-01,  3.72936618e+00],\n",
       "        [-9.04655112e-01, -9.00020387e-01, -9.04968586e-01,\n",
       "         -9.07352413e-01,  5.92175691e+00],\n",
       "        [-9.03610477e-01, -9.04157956e-01, -9.16575581e-01,\n",
       "         -9.05262516e-01,  6.93926498e+00]],\n",
       "\n",
       "       [[-8.83762414e-01, -8.86056090e-01, -8.85975321e-01,\n",
       "         -8.88020865e-01, -4.97300682e-01],\n",
       "        [-8.87940954e-01, -8.89159267e-01, -8.87558093e-01,\n",
       "         -8.88543339e-01, -8.92217148e-01],\n",
       "        [-8.87940954e-01, -8.90193659e-01, -8.91251228e-01,\n",
       "         -8.93768082e-01, -2.63405247e-04],\n",
       "        ...,\n",
       "        [-9.04655112e-01, -9.00020387e-01, -9.04968586e-01,\n",
       "         -9.07352413e-01,  5.92175691e+00],\n",
       "        [-9.03610477e-01, -9.04157956e-01, -9.16575581e-01,\n",
       "         -9.05262516e-01,  6.93926498e+00],\n",
       "        [-9.05699747e-01, -9.04675152e-01, -9.04440995e-01,\n",
       "         -9.05784990e-01,  2.75379178e+00]],\n",
       "\n",
       "       [[-8.87940954e-01, -8.89159267e-01, -8.87558093e-01,\n",
       "         -8.88543339e-01, -8.92217148e-01],\n",
       "        [-8.87940954e-01, -8.90193659e-01, -8.91251228e-01,\n",
       "         -8.93768082e-01, -2.63405247e-04],\n",
       "        [-8.96820350e-01, -8.98985994e-01, -9.06551358e-01,\n",
       "         -9.08919836e-01,  3.72936618e+00],\n",
       "        ...,\n",
       "        [-9.03610477e-01, -9.04157956e-01, -9.16575581e-01,\n",
       "         -9.05262516e-01,  6.93926498e+00],\n",
       "        [-9.05699747e-01, -9.04675152e-01, -9.04440995e-01,\n",
       "         -9.05784990e-01,  2.75379178e+00],\n",
       "        [-9.04655112e-01, -9.03640760e-01, -9.03913404e-01,\n",
       "         -9.02650144e-01,  3.26661584e+00]],\n",
       "\n",
       "       ...,\n",
       "\n",
       "       [[ 3.83003629e-01,  3.91790809e-01,  3.95268143e-01,\n",
       "          3.91644045e-01,  4.05329566e-03],\n",
       "        [ 3.89856367e-01,  3.75406068e-01,  3.78891694e-01,\n",
       "          3.85123566e-01, -2.03518351e-01],\n",
       "        [ 3.76150791e-01,  4.25553374e-01,  3.90878555e-01,\n",
       "          4.35113872e-01,  2.79952151e-01],\n",
       "        ...,\n",
       "        [ 4.43508948e-01,  4.36973099e-01,  4.47942832e-01,\n",
       "          4.35949897e-01, -6.18345221e-03],\n",
       "        [ 4.30304730e-01,  4.51702845e-01,  4.40851912e-01,\n",
       "          4.52836300e-01,  6.38731664e-01],\n",
       "        [ 4.56044567e-01,  4.66101487e-01,  4.41696125e-01,\n",
       "          4.48990822e-01,  6.93985436e-01]],\n",
       "\n",
       "       [[ 3.89856367e-01,  3.75406068e-01,  3.78891694e-01,\n",
       "          3.85123566e-01, -2.03518351e-01],\n",
       "        [ 3.76150791e-01,  4.25553374e-01,  3.90878555e-01,\n",
       "          4.35113872e-01,  2.79952151e-01],\n",
       "        [ 4.35318911e-01,  4.20091750e-01,  4.21436675e-01,\n",
       "          4.21236921e-01,  5.37350860e-01],\n",
       "        ...,\n",
       "        [ 4.30304730e-01,  4.51702845e-01,  4.40851912e-01,\n",
       "          4.52836300e-01,  6.38731664e-01],\n",
       "        [ 4.56044567e-01,  4.66101487e-01,  4.41696125e-01,\n",
       "          4.48990822e-01,  6.93985436e-01],\n",
       "        [ 4.50863078e-01,  4.81658814e-01,  4.56721874e-01,\n",
       "          4.95971676e-01,  2.64042025e-01]],\n",
       "\n",
       "       [[ 3.76150791e-01,  4.25553374e-01,  3.90878555e-01,\n",
       "          4.35113872e-01,  2.79952151e-01],\n",
       "        [ 4.35318911e-01,  4.20091750e-01,  4.21436675e-01,\n",
       "          4.21236921e-01,  5.37350860e-01],\n",
       "        [ 4.43508948e-01,  4.36973099e-01,  4.47942832e-01,\n",
       "          4.35949897e-01, -6.18345221e-03],\n",
       "        ...,\n",
       "        [ 4.56044567e-01,  4.66101487e-01,  4.41696125e-01,\n",
       "          4.48990822e-01,  6.93985436e-01],\n",
       "        [ 4.50863078e-01,  4.81658814e-01,  4.56721874e-01,\n",
       "          4.95971676e-01,  2.64042025e-01],\n",
       "        [ 4.90475699e-01,  5.04994771e-01,  4.98253814e-01,\n",
       "          4.91457532e-01,  4.59156906e-01]]])"
      ]
     },
     "execution_count": 57,
     "metadata": {},
     "output_type": "execute_result"
    }
   ],
   "source": [
    "x_train"
   ]
  },
  {
   "cell_type": "code",
   "execution_count": 58,
   "metadata": {},
   "outputs": [
    {
     "name": "stdout",
     "output_type": "stream",
     "text": [
      "Shape of x_train: (3068, 7, 5)\n",
      "Shape of x_test: (1316, 7, 5)\n",
      "Shape of y_train: (3068,)\n",
      "Shape of y_test: (1316,)\n"
     ]
    }
   ],
   "source": [
    "#SEQUENCE_SIZE = 7\n",
    "#df_train = df[0:int(0.7*len(df))]\n",
    "#df_test = df[int(0.7*len(df)):]\n",
    "\n",
    "#x_train,y_train = to_sequences(SEQUENCE_SIZE,df_train, 'Close')\n",
    "#x_test,y_test = to_sequences(SEQUENCE_SIZE,df_test, 'Close')\n",
    "\n",
    "print(\"Shape of x_train: {}\".format(x_train.shape))\n",
    "print(\"Shape of x_test: {}\".format(x_test.shape))\n",
    "print(\"Shape of y_train: {}\".format(y_train.shape))\n",
    "print(\"Shape of y_test: {}\".format(y_test.shape))"
   ]
  },
  {
   "cell_type": "code",
   "execution_count": 59,
   "metadata": {},
   "outputs": [
    {
     "name": "stdout",
     "output_type": "stream",
     "text": [
      "Train on 3068 samples, validate on 1316 samples\n",
      "Epoch 1/1000\n",
      " - 5s - loss: 336.5053 - acc: 0.0000e+00 - val_loss: 5126.8090 - val_acc: 0.0000e+00\n",
      "Epoch 2/1000\n",
      " - 1s - loss: 303.5586 - acc: 0.0000e+00 - val_loss: 4164.4851 - val_acc: 0.0000e+00\n",
      "Epoch 3/1000\n",
      " - 1s - loss: 220.6329 - acc: 0.0000e+00 - val_loss: 564288.8869 - val_acc: 0.0000e+00\n",
      "Epoch 4/1000\n",
      " - 1s - loss: 46.5585 - acc: 6.5189e-04 - val_loss: 107299.5907 - val_acc: 0.0000e+00\n",
      "Epoch 5/1000\n",
      " - 1s - loss: 13.3006 - acc: 6.5189e-04 - val_loss: 17009.7371 - val_acc: 0.0000e+00\n",
      "Epoch 6/1000\n",
      " - 1s - loss: 5.3419 - acc: 9.7784e-04 - val_loss: 4863.3780 - val_acc: 7.5988e-04\n",
      "Epoch 7/1000\n",
      " - 1s - loss: 2.1859 - acc: 0.0020 - val_loss: 2474.4538 - val_acc: 7.5988e-04\n",
      "Epoch 8/1000\n",
      " - 1s - loss: 1.1973 - acc: 0.0036 - val_loss: 2162.2710 - val_acc: 0.0015\n",
      "Epoch 9/1000\n",
      " - 1s - loss: 0.9295 - acc: 0.0059 - val_loss: 2637.2893 - val_acc: 7.5988e-04\n",
      "Epoch 10/1000\n",
      " - 1s - loss: 0.8447 - acc: 0.0062 - val_loss: 2545.6908 - val_acc: 0.0015\n",
      "Epoch 11/1000\n",
      " - 1s - loss: 0.7912 - acc: 0.0059 - val_loss: 2645.7383 - val_acc: 7.5988e-04\n",
      "Epoch 12/1000\n",
      " - 1s - loss: 0.7513 - acc: 0.0068 - val_loss: 2743.0147 - val_acc: 7.5988e-04\n",
      "Epoch 13/1000\n",
      " - 1s - loss: 0.7699 - acc: 0.0065 - val_loss: 2727.5623 - val_acc: 7.5988e-04\n",
      "Epoch 00013: early stopping\n",
      "Train on 3068 samples, validate on 1316 samples\n",
      "Epoch 1/1000\n",
      " - 5s - loss: 335.6693 - acc: 0.0000e+00 - val_loss: 5115.6411 - val_acc: 0.0000e+00\n",
      "Epoch 2/1000\n",
      " - 1s - loss: 288.8453 - acc: 3.2595e-04 - val_loss: 2409.5349 - val_acc: 0.0000e+00\n",
      "Epoch 3/1000\n",
      " - 1s - loss: 179.6427 - acc: 0.0000e+00 - val_loss: 1325505.8828 - val_acc: 0.0000e+00\n",
      "Epoch 4/1000\n",
      " - 1s - loss: 32.5669 - acc: 3.2595e-04 - val_loss: 47834.7620 - val_acc: 0.0000e+00\n",
      "Epoch 5/1000\n",
      " - 1s - loss: 8.9405 - acc: 9.7784e-04 - val_loss: 6163.9608 - val_acc: 0.0015\n",
      "Epoch 6/1000\n",
      " - 1s - loss: 4.5982 - acc: 0.0013 - val_loss: 11219.5399 - val_acc: 7.5988e-04\n",
      "Epoch 7/1000\n",
      " - 1s - loss: 2.5311 - acc: 0.0026 - val_loss: 4408.2133 - val_acc: 0.0015\n",
      "Epoch 00007: early stopping\n",
      "Training finished...Loading the best model\n",
      "\n"
     ]
    }
   ],
   "source": [
    "checkpointer = ModelCheckpoint(filepath=\"save/lstm.hdf5\", verbose=0, save_best_only=True) # save best model\n",
    "for i in range(2):\n",
    "    model = Sequential()\n",
    "    model.add(LSTM(50, activation='relu', return_sequences=True, input_shape=(7, 5)))\n",
    "    model.add(LSTM(50, activation='relu', return_sequences=True))\n",
    "    #model.add(LSTM(64, activation='relu', return_sequences=True))\n",
    "    model.add(LSTM(50, activation='relu'))\n",
    "    #model.add(Dense(32, activation='relu'))\n",
    "    model.add(Dense(1))\n",
    "\n",
    "    model.compile(loss='mean_squared_error', optimizer='adam', metrics=['accuracy'])\n",
    "\n",
    "    monitor = EarlyStopping(monitor='val_loss', min_delta=1e-3, patience=5, verbose=1, mode='auto')\n",
    "\n",
    "    model.fit(x_train,y_train,validation_data=(x_test,y_test),callbacks=[monitor, checkpointer],verbose=2, epochs=1000, batch_size=128)  \n",
    "    \n",
    "print('Training finished...Loading the best model')  \n",
    "print()\n",
    "model.load_weights(\"save/lstm.hdf5\") # load weights from best model    "
   ]
  },
  {
   "cell_type": "code",
   "execution_count": 60,
   "metadata": {},
   "outputs": [
    {
     "name": "stdout",
     "output_type": "stream",
     "text": [
      "Score (RMSE): 46.50022581379519\n"
     ]
    }
   ],
   "source": [
    "lstm_pred = model.predict(x_test)\n",
    "lstm_rmse = np.sqrt(metrics.mean_squared_error(lstm_pred,y_test))\n",
    "print(\"Score (RMSE): {}\".format(lstm_rmse))"
   ]
  },
  {
   "cell_type": "code",
   "execution_count": 61,
   "metadata": {},
   "outputs": [
    {
     "data": {
      "image/png": "[encoded data removed]",
      "text/plain": [
       "<Figure size 432x288 with 1 Axes>"
      ]
     },
     "metadata": {
      "needs_background": "light"
     },
     "output_type": "display_data"
    }
   ],
   "source": [
    "chart_regression(lstm_rmse, y_test)"
   ]
  },
  {
   "cell_type": "code",
   "execution_count": null,
   "metadata": {},
   "outputs": [],
   "source": []
  }
 ],
 "metadata": {
  "kernelspec": {
   "display_name": "TensorFlow-GPU",
   "language": "python",
   "name": "tf-gpu"
  },
  "language_info": {
   "codemirror_mode": {
    "name": "ipython",
    "version": 3
   },
   "file_extension": ".py",
   "mimetype": "text/x-python",
   "name": "python",
   "nbconvert_exporter": "python",
   "pygments_lexer": "ipython3",
   "version": "3.6.8"
  }
 },
 "nbformat": 4,
 "nbformat_minor": 2
}
